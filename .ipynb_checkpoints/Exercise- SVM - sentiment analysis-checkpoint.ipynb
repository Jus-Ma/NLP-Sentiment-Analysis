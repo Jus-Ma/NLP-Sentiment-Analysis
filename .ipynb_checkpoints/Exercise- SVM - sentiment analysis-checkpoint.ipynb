{
 "cells": [
  {
   "cell_type": "code",
   "execution_count": 1,
   "metadata": {},
   "outputs": [],
   "source": [
    "import pandas as pd\n",
    "import numpy as np\n",
    "from nltk.tokenize import word_tokenize\n",
    "from nltk import pos_tag\n",
    "from nltk.corpus import stopwords\n",
    "from nltk.stem import WordNetLemmatizer\n",
    "from sklearn.preprocessing import LabelEncoder\n",
    "from collections import defaultdict\n",
    "from nltk.corpus import wordnet as wn\n",
    "from sklearn.feature_extraction.text import TfidfVectorizer\n",
    "from sklearn import model_selection, naive_bayes, svm\n",
    "from sklearn.metrics import accuracy_score"
   ]
  },
  {
   "cell_type": "markdown",
   "metadata": {},
   "source": [
    "## dev ready"
   ]
  },
  {
   "cell_type": "code",
   "execution_count": 2,
   "metadata": {},
   "outputs": [],
   "source": [
    "import matplotlib.pyplot as plt\n",
    "from sklearn.metrics import precision_recall_curve"
   ]
  },
  {
   "cell_type": "code",
   "execution_count": 3,
   "metadata": {},
   "outputs": [],
   "source": [
    "np.random.seed(500)"
   ]
  },
  {
   "cell_type": "code",
   "execution_count": 4,
   "metadata": {},
   "outputs": [],
   "source": [
    "Corpus = pd.read_csv(\"C:\\\\Users\\\\justi\\\\Documents\\\\Lantern Courses\\\\ML\\\\corpus.csv\",encoding='latin-1')"
   ]
  },
  {
   "cell_type": "markdown",
   "metadata": {},
   "source": [
    "##### STEP -4: Data pre-processing\n",
    "This is an important step in any data mining process. \n",
    "This basically involves transforming raw data into an understandable format for NLP models. Real-world data is often incomplete, inconsistent, and/or lacking in certain behaviors or trends, and is likely to contain many errors. Data pre-processing is a proven method of resolving such issues.This will help in getting better results through the classification algorithms.\n",
    "\n",
    "Below, I have explained the two techniques that are also performed besides other easy to understand steps in data pre-processing:\n",
    "\n",
    "######  Tokenization: \n",
    "\n",
    "\n",
    "This is a process of breaking a stream of text up into words, phrases, symbols, or other meaningful elements called tokens. The list of tokens becomes input for further processing. NLTK Library has word_tokenize and sent_tokenize to easily break a stream of text into a list of words or sentences, respectively.\n",
    "\n",
    "\n",
    "###### Word Stemming/Lemmatization: \n",
    "\n",
    "\n",
    "The aim of both processes is the same, reducing the inflectional forms of each word into a common base or root. Lemmatization is closely related to stemming. The difference is that a stemmer operates on a single word without knowledge of the context, and therefore cannot discriminate between words which have different meanings depending on part of speech. However, stemmers are typically easier to implement and run faster, and the reduced accuracy may not matter for some applications.\n",
    "\n",
    "\n",
    "Here’s the complete script which performs the aforementioned data pre-processing steps, you can always add or remove steps which best suits the data set you are dealing with:\n",
    "\n",
    "* Remove Blank rows in Data, if any\n",
    "* Change all the text to lower case\n",
    "* Word Tokenization\n",
    "* Remove Stop words\n",
    "* Remove Non-alpha text\n",
    "* Word Lemmatization\n"
   ]
  },
  {
   "cell_type": "code",
   "execution_count": 5,
   "metadata": {},
   "outputs": [
    {
     "data": {
      "text/html": [
       "<div>\n",
       "<style scoped>\n",
       "    .dataframe tbody tr th:only-of-type {\n",
       "        vertical-align: middle;\n",
       "    }\n",
       "\n",
       "    .dataframe tbody tr th {\n",
       "        vertical-align: top;\n",
       "    }\n",
       "\n",
       "    .dataframe thead th {\n",
       "        text-align: right;\n",
       "    }\n",
       "</style>\n",
       "<table border=\"1\" class=\"dataframe\">\n",
       "  <thead>\n",
       "    <tr style=\"text-align: right;\">\n",
       "      <th></th>\n",
       "      <th>text</th>\n",
       "      <th>label</th>\n",
       "    </tr>\n",
       "  </thead>\n",
       "  <tbody>\n",
       "    <tr>\n",
       "      <th>0</th>\n",
       "      <td>Stuning even for the non-gamer: This sound tr...</td>\n",
       "      <td>__label__2</td>\n",
       "    </tr>\n",
       "    <tr>\n",
       "      <th>1</th>\n",
       "      <td>The best soundtrack ever to anything.: I'm re...</td>\n",
       "      <td>__label__2</td>\n",
       "    </tr>\n",
       "    <tr>\n",
       "      <th>2</th>\n",
       "      <td>Amazing!: This soundtrack is my favorite musi...</td>\n",
       "      <td>__label__2</td>\n",
       "    </tr>\n",
       "    <tr>\n",
       "      <th>3</th>\n",
       "      <td>Excellent Soundtrack: I truly like this sound...</td>\n",
       "      <td>__label__2</td>\n",
       "    </tr>\n",
       "    <tr>\n",
       "      <th>4</th>\n",
       "      <td>Remember, Pull Your Jaw Off The Floor After H...</td>\n",
       "      <td>__label__2</td>\n",
       "    </tr>\n",
       "  </tbody>\n",
       "</table>\n",
       "</div>"
      ],
      "text/plain": [
       "                                                text        label\n",
       "0   Stuning even for the non-gamer: This sound tr...  __label__2 \n",
       "1   The best soundtrack ever to anything.: I'm re...  __label__2 \n",
       "2   Amazing!: This soundtrack is my favorite musi...  __label__2 \n",
       "3   Excellent Soundtrack: I truly like this sound...  __label__2 \n",
       "4   Remember, Pull Your Jaw Off The Floor After H...  __label__2 "
      ]
     },
     "execution_count": 5,
     "metadata": {},
     "output_type": "execute_result"
    }
   ],
   "source": [
    "Corpus.head()"
   ]
  },
  {
   "cell_type": "code",
   "execution_count": 6,
   "metadata": {},
   "outputs": [
    {
     "data": {
      "text/plain": [
       "Index(['text', 'label'], dtype='object')"
      ]
     },
     "execution_count": 6,
     "metadata": {},
     "output_type": "execute_result"
    }
   ],
   "source": [
    "Corpus.columns"
   ]
  },
  {
   "cell_type": "code",
   "execution_count": 7,
   "metadata": {},
   "outputs": [],
   "source": [
    "# Step - a : Remove blank rows if any.\n",
    "Corpus.dropna(axis=0, how='any',inplace=True)\n",
    "\n",
    "# Step - b : Change all the text to lower case. This is required as python interprets 'dog' and 'DOG' differently\n",
    "Corpus['text'] = Corpus['text'].str.lower()\n",
    "\n"
   ]
  },
  {
   "cell_type": "code",
   "execution_count": 8,
   "metadata": {},
   "outputs": [],
   "source": [
    "# Step - c : Tokenization : In this each entry in the corpus will be broken into set of words\n",
    "Corpus['tok_txt']=Corpus['text'].apply(lambda x: word_tokenize(x))"
   ]
  },
  {
   "cell_type": "code",
   "execution_count": 9,
   "metadata": {},
   "outputs": [],
   "source": [
    "import string"
   ]
  },
  {
   "cell_type": "code",
   "execution_count": 10,
   "metadata": {},
   "outputs": [],
   "source": [
    "stop_words_list = stopwords.words('english')"
   ]
  },
  {
   "cell_type": "markdown",
   "metadata": {},
   "source": [
    "### Because I dont want to remove just any punctuation (i want to capture emoticons, i belive they will be useful for sentiment analysis (:( vs :) will be a well correlated i think with positive vs negative review)) This makes the task harder, somewhat have to granularly remove things like double tilde, I think there are packages online that can help with emoji detection, but this will have to do for now. My guess is is that perfectly removing all unneccessary punctuation is more important for spam detection vs sentiment"
   ]
  },
  {
   "cell_type": "code",
   "execution_count": 11,
   "metadata": {},
   "outputs": [],
   "source": [
    "punc_stop = [char for char in string.punctuation] \n",
    "punc_stop.append('``')\n",
    "punc_stop.append('\\'\\'')\n",
    "stop_words_list.extend(punc_stop)"
   ]
  },
  {
   "cell_type": "code",
   "execution_count": 12,
   "metadata": {},
   "outputs": [],
   "source": [
    "# Step - d : Remove Stop words, Non-Numeric and perfom Word Stemming/Lemmenting.\n",
    "def remove_stopwrods(tok_list):\n",
    "    txt_clean = [word for word in tok_list if word not in stop_words_list]\n",
    "    return txt_clean\n",
    "\n",
    "Corpus['txt_clean']=Corpus['tok_txt'].apply(lambda x:remove_stopwrods(x))\n",
    "# i want to capture emojis\n",
    "#also some stop words i want to keep\n",
    "# WordNetLemmatizer requires Pos tags to understand if the word is noun or verb or adjective etc. By default it is set to Noun"
   ]
  },
  {
   "cell_type": "code",
   "execution_count": 13,
   "metadata": {},
   "outputs": [],
   "source": [
    "def get_wordnet_pos(word):\n",
    "    tag = pos_tag([word])[0][1][0].upper()\n",
    "    tag_dict = {\"J\": wn.ADJ,\n",
    "                \"N\": wn.NOUN,\n",
    "                \"V\": wn.VERB,\n",
    "                \"R\": wn.ADV}\n",
    "\n",
    "    return tag_dict.get(tag, wn.NOUN)"
   ]
  },
  {
   "cell_type": "code",
   "execution_count": 14,
   "metadata": {},
   "outputs": [],
   "source": [
    "lemmingtizer = WordNetLemmatizer()"
   ]
  },
  {
   "cell_type": "code",
   "execution_count": 15,
   "metadata": {},
   "outputs": [],
   "source": [
    "lemmad_txt =[]\n",
    "for m in Corpus['txt_clean']:\n",
    "    lemmad_txt.append([lemmingtizer.lemmatize(w, get_wordnet_pos(w))for w in m])"
   ]
  },
  {
   "cell_type": "code",
   "execution_count": 16,
   "metadata": {},
   "outputs": [],
   "source": [
    "Corpus['txt_fin']=lemmad_txt"
   ]
  },
  {
   "cell_type": "code",
   "execution_count": 17,
   "metadata": {},
   "outputs": [],
   "source": [
    "Corpus['txt_fin']= Corpus['txt_fin'].apply(lambda x:\" \".join(x))"
   ]
  },
  {
   "cell_type": "markdown",
   "metadata": {},
   "source": [
    "##### Prepare Test/ Train/ Datasets"
   ]
  },
  {
   "cell_type": "code",
   "execution_count": 18,
   "metadata": {},
   "outputs": [
    {
     "data": {
      "text/plain": [
       "__label__1     5097\n",
       "__label__2     4903\n",
       "Name: label, dtype: int64"
      ]
     },
     "execution_count": 18,
     "metadata": {},
     "output_type": "execute_result"
    }
   ],
   "source": [
    "Corpus['label'].value_counts()"
   ]
  },
  {
   "cell_type": "markdown",
   "metadata": {},
   "source": [
    "####### Classes are balanced"
   ]
  },
  {
   "cell_type": "code",
   "execution_count": 19,
   "metadata": {},
   "outputs": [],
   "source": [
    "from sklearn.model_selection import train_test_split"
   ]
  },
  {
   "cell_type": "code",
   "execution_count": null,
   "metadata": {},
   "outputs": [],
   "source": []
  },
  {
   "cell_type": "code",
   "execution_count": 20,
   "metadata": {},
   "outputs": [],
   "source": [
    "Train_X, Test_X, Train_Y, Test_Y = train_test_split(Corpus['txt_fin'],Corpus['label'], test_size = 0.2, random_state=42)"
   ]
  },
  {
   "cell_type": "markdown",
   "metadata": {},
   "source": [
    "##### STEP -6: Encoding\n",
    "Label encode the target variable — This is done to transform Categorical data of string type in the data set into numerical values which the model can understand."
   ]
  },
  {
   "cell_type": "code",
   "execution_count": 21,
   "metadata": {},
   "outputs": [],
   "source": [
    "from sklearn import preprocessing\n",
    "le = preprocessing.LabelEncoder()"
   ]
  },
  {
   "cell_type": "code",
   "execution_count": 22,
   "metadata": {},
   "outputs": [
    {
     "data": {
      "text/plain": [
       "LabelEncoder()"
      ]
     },
     "execution_count": 22,
     "metadata": {},
     "output_type": "execute_result"
    }
   ],
   "source": [
    "le.fit(Corpus['label'])"
   ]
  },
  {
   "cell_type": "code",
   "execution_count": 23,
   "metadata": {},
   "outputs": [],
   "source": [
    "\n",
    "Train_Y = le.transform(Train_Y)\n",
    "Test_Y = le.transform(Test_Y)"
   ]
  },
  {
   "cell_type": "code",
   "execution_count": 24,
   "metadata": {},
   "outputs": [],
   "source": [
    "##dum = [st for row in Corpus['txt_fin'] for st in row]"
   ]
  },
  {
   "cell_type": "code",
   "execution_count": 25,
   "metadata": {},
   "outputs": [
    {
     "data": {
      "text/plain": [
       "TfidfVectorizer(analyzer='word', binary=False, decode_error='strict',\n",
       "                dtype=<class 'numpy.float64'>, encoding='utf-8',\n",
       "                input='content', lowercase=True, max_df=1.0, max_features=5000,\n",
       "                min_df=1, ngram_range=(1, 1), norm='l2', preprocessor=None,\n",
       "                smooth_idf=True, stop_words=None, strip_accents=None,\n",
       "                sublinear_tf=False, token_pattern='(?u)\\\\b\\\\w\\\\w+\\\\b',\n",
       "                tokenizer=None, use_idf=True, vocabulary=None)"
      ]
     },
     "execution_count": 25,
     "metadata": {},
     "output_type": "execute_result"
    }
   ],
   "source": [
    "Tfidf_vect = TfidfVectorizer(max_features=5000)\n",
    "Tfidf_vect.fit(Corpus['txt_fin'])"
   ]
  },
  {
   "cell_type": "code",
   "execution_count": 26,
   "metadata": {},
   "outputs": [],
   "source": [
    "Train_X_Tfidf = Tfidf_vect.transform(Train_X)\n",
    "Test_X_Tfidf = Tfidf_vect.transform(Test_X)"
   ]
  },
  {
   "cell_type": "code",
   "execution_count": 27,
   "metadata": {},
   "outputs": [
    {
     "name": "stdout",
     "output_type": "stream",
     "text": [
      "{'stun': 4287, 'even': 1592, 'non': 3041, 'sound': 4142, 'track': 4562, 'beautiful': 461, 'paint': 3199, 'mind': 2869, 'well': 4855, 'would': 4947, 'recomend': 3625, 'people': 3264, 'hate': 2099, 'video': 4763, 'game': 1918, 'music': 2957, 'played': 3339, 'cross': 1098, 'ever': 1595, 'best': 499, 'back': 408, 'away': 399, 'crude': 1101, 'take': 4376, 'step': 4227, 'guitar': 2054, 'orchestra': 3136, 'impress': 2284, 'anyone': 286, 'care': 712, 'listen': 2647, 'soundtrack': 4143, 'anything': 287, 'reading': 3598, 'lot': 2690, 'review': 3745, 'say': 3855, 'figure': 1751, 'write': 4955, 'disagree': 1295, 'bit': 519, 'ultimate': 4637, 'masterpiece': 2782, 'timeless': 4508, 'year': 4976, 'beauty': 463, 'simply': 4033, 'refuse': 3648, 'fade': 1682, 'the': 4447, 'price': 3442, 'tag': 4375, 'pretty': 3437, 'must': 2963, 'go': 1981, 'buy': 671, 'cd': 742, 'much': 2947, 'money': 2902, 'one': 3113, 'feel': 1729, 'worth': 4943, 'every': 1597, 'penny': 3263, 'amaze': 239, 'favorite': 1717, 'time': 4507, 'hand': 2071, 'intense': 2371, 'sadness': 3825, 'fate': 1712, 'mean': 2800, 've': 4741, 'hope': 2192, 'distant': 1335, 'promise': 3481, 'girl': 1964, 'stole': 4246, 'star': 4209, 'important': 2281, 'inspiration': 2349, 'personally': 3283, 'throughout': 4489, 'teen': 4407, 'high': 2152, 'energy': 1529, 'like': 2628, 'scar': 3860, 'trigger': 4597, 'absolutely': 103, 'superb': 4326, 'this': 4471, 'probably': 3460, 'composer': 945, 'work': 4933, 'heard': 2116, 'ca': 675, 'sure': 4338, 'never': 3007, 'twice': 4625, 'it': 2418, 'wish': 4911, 'could': 1046, 'give': 1966, 'excellent': 1620, 'truly': 4609, 'enjoy': 1538, 'relax': 3666, 'on': 3111, 'disk': 1322, 'life': 2618, 'death': 1165, 'ancient': 257, 'dragon': 1385, 'lose': 2686, 'drown': 1408, 'valley': 4731, 'two': 4628, 'home': 2182, 'girlfriend': 1965, 'three': 4483, 'garden': 1928, 'god': 1983, 'sea': 3899, 'burning': 661, 'tower': 4557, 'radical': 3557, 'jewel': 2456, 'overall': 3169, 'brought': 630, 'remember': 3682, 'pull': 3515, 'jaw': 2443, 'floor': 1803, 'hearing': 2117, 'know': 2522, 'single': 4040, 'song': 4126, 'tell': 4412, 'story': 4254, 'good': 1990, 'great': 2024, 'without': 4916, 'doubt': 1372, 'magical': 2720, 'wind': 4899, 'translation': 4577, 'perfect': 3269, 'ask': 347, 'pour': 3399, 'heart': 2118, 'paper': 3209, 'absolute': 102, 'quite': 3547, 'actually': 142, 'read': 3594, 'least': 2585, 'whether': 4868, 'aware': 398, 'contribute': 1008, 'greatly': 2025, 'mood': 2914, 'minute': 2879, 'whole': 4878, 'exact': 1612, 'count': 1048, 'remarkable': 3680, 'assure': 358, 'forget': 1834, 'everything': 1601, 'listener': 2649, 'fast': 1709, 'paced': 3187, 'dance': 1138, 'slow': 4081, 'haunt': 2101, 'purely': 3526, 'beautifully': 462, 'compose': 944, 'fantastic': 1701, 'vocal': 4789, 'surely': 4339, 'buyer': 672, 'beware': 502, 'self': 3922, 'book': 564, 'want': 4813, 'paragraph': 3216, 'ms': 2944, 'family': 1696, 'friend': 1878, 'perhaps': 3276, 'imagine': 2271, 'thing': 4467, 'spent': 4173, 'piece': 3309, 'another': 275, 'definitely': 1190, 'bad': 413, 'enough': 1543, 'enter': 1545, 'kind': 2506, 'contest': 998, 'believe': 480, 'amazon': 241, 'sell': 3923, 'maybe': 2793, 'offer': 3097, '8th': 89, 'grade': 2008, 'term': 4426, 'kill': 2504, 'anyway': 289, 'unless': 4681, 'send': 3926, 'someone': 4119, 'joke': 2467, 'stay': 4220, 'far': 1703, 'glorious': 1975, 'love': 2695, 'wicked': 4882, 'saint': 3829, 'pleasantly': 3343, 'surprised': 4346, 'change': 766, 'romance': 3790, 'novel': 3059, 'world': 4938, 'rave': 3588, 'bought': 580, 'brilliant': 618, 'true': 4607, 'wonderful': 4925, 'told': 4527, 'typical': 4630, 'crime': 1087, 'miss': 2886, 'warm': 4815, 'five': 1784, 'finish': 1767, 'fell': 1732, 'expect': 1642, 'average': 392, 'instead': 2359, 'found': 1851, 'thought': 4478, 'predict': 3416, 'outcome': 3158, 'shock': 3995, 'descriptive': 1231, 'broke': 627, 'julia': 2477, 'felt': 1735, 'reader': 3596, 'lover': 2698, 'let': 2604, 'cover': 1060, 'fool': 1824, 'spectacular': 4165, 'easy': 1450, 'make': 2729, 'keep': 2495, 'put': 3531, 'down': 1375, 'left': 2590, 'follow': 1819, 'come': 901, 'soon': 4130, 'use': 4715, 'gotten': 2003, 'enjoyable': 1539, 'complete': 937, 'waste': 4829, 'error': 1570, 'poor': 3368, 'grammar': 2013, 'totally': 4550, 'pathetic': 3242, 'plot': 3348, 'add': 149, 'nothing': 3054, 'embarrass': 1504, 'author': 385, 'disappointed': 1299, 'paid': 3195, 'boy': 588, 'twist': 4627, 'turn': 4618, 'guess': 2049, 'happen': 2077, 'next': 3015, 'fall': 1692, 'heat': 2120, 'also': 229, 'several': 3956, 'emotion': 1509, 'quick': 3540, 'something': 4120, 'end': 1523, 'day': 1154, 'night': 3025, 'yet': 4983, 'realistic': 3603, 'show': 4008, 'human': 2225, 'fact': 1678, 'writer': 4957, 'side': 4016, 'glass': 1969, 'castle': 729, 'oh': 3103, 'please': 3344, 'others': 3153, 'drivel': 1404, 'trouble': 4605, 'typo': 4632, 'feature': 1721, 'first': 1776, 'page': 3194, 'remove': 3692, 'wait': 4803, 'point': 3357, 're': 3591, 'begin': 472, 'clear': 851, 'intentional': 2374, 'churn': 824, 'over': 3168, 'prose': 3494, 'purpose': 3528, 'glad': 1967, '10': 3, '95': 92, 'awful': 401, 'beyond': 503, 'belief': 478, 'seem': 3916, '7th': 85, 'grader': 2009, 'skill': 4058, 'age': 190, 'reviewer': 3746, 'per': 3266, 'chapter': 769, 'example': 1617, 'mention': 2833, 'lean': 2581, 'house': 2212, 'distract': 1338, 'weak': 4839, 'decide': 1173, 'pencil': 3261, 'mark': 2759, 'horrible': 2197, 'spell': 4169, 'relative': 3664, 'faith': 1690, 'try': 4612, 'fake': 1691, 'obvious': 3080, 'glow': 1978, 'person': 3280, 'sentence': 3935, 'structure': 4279, 'think': 4468, 'romantic': 3791, 'zen': 4993, 'baseball': 434, 'comedy': 903, 'hear': 2115, 'folk': 1818, 'em': 1500, 'anymore': 285, 'might': 2857, 'talk': 4380, 'cool': 1027, 'young': 4989, 'search': 3903, 'stumble': 4286, 'resort': 3721, 'kitchen': 2513, 'gig': 1962, 'motorcycle': 2931, 'man': 2735, 'italian': 2419, 'right': 3765, 'play': 3336, 'team': 4398, 'owner': 3184, 'often': 3102, 'case': 725, 'honest': 2185, 'comical': 910, 'always': 236, 'emotional': 1510, 'interaction': 2376, 'player': 3340, 'mix': 2890, 'special': 4160, 'effect': 1469, 'get': 1956, 'big': 506, 'compression': 950, 'stocking': 4245, 'doctor': 1348, 'require': 3713, 'wear': 4842, 'wore': 4932, 'ugly': 4635, 'white': 4875, 'hose': 2204, 'thick': 4462, 'brown': 631, 'need': 2997, '15': 14, '20': 34, 'look': 2679, 'regular': 3655, 'though': 4477, 'blood': 539, 'still': 4238, 'support': 4333, 'leg': 2591, 'nice': 3016, 'note': 3053, 'problem': 3462, 'top': 4539, 'roll': 3785, 'thigh': 4465, 'hat': 2098, 'skin': 4060, 'inexpensive': 2323, 'belt': 488, 'fine': 1765, 'help': 2135, 'product': 3467, 'however': 2217, 'difficult': 1278, 'old': 3107, 'full': 1892, 'workout': 4936, 'create': 1076, 'deep': 1179, 'difficulty': 1279, 'address': 154, 'size': 4053, 'recomended': 3626, 'chart': 779, 'real': 3600, 'small': 4083, 'sheer': 3981, 'item': 2421, 'internet': 2384, 'store': 4252, 'check': 787, 'men': 2829, 'model': 2896, 'may': 2792, 'ok': 3105, 'type': 4629, 'active': 137, 'around': 324, 'alot': 224, 'job': 2461, 'consistently': 983, 'ankle': 269, 'solution': 4113, 'standard': 4206, 'stock': 4244, '30': 59, 'pair': 3201, 'tore': 4542, 'struggle': 4280, 'investment': 2401, 'delicious': 1202, 'funny': 1902, 'quickly': 3542, 'package': 3189, 'notice': 3055, 'since': 4036, 'title': 4520, 'convenience': 1014, 'wrap': 4952, 'plastic': 3333, 'log': 2669, 'surprise': 4345, 'messy': 2842, 'extremely': 1670, 'sticky': 4236, 'ingredient': 2334, 'extra': 1667, 'butter': 669, 'really': 3607, 'large': 2552, 'chocolate': 808, 'chip': 806, 'that': 4445, 'addition': 152, 'natural': 2984, 'flavor': 1790, 'digital': 1281, 'copy': 1029, 'rather': 3585, 'scratch': 3889, 'random': 3570, 'combine': 899, 'light': 2622, 'vague': 4730, 'image': 2267, 'resolution': 3719, 'packaging': 3190, 'straight': 4258, 'street': 4266, 'corner': 1033, 'bootleg': 569, 'if': 2255, 'see': 3914, 'reasonably': 3611, 'condition': 963, 'film': 1755, 'define': 1188, 'visuals': 4784, 'crystal': 1105, 'contrast': 1007, 'black': 523, 'surround': 4350, 'countryside': 1053, 'scene': 3869, 'set': 3951, 'early': 1442, 'morning': 2921, 'ground': 2039, 'memory': 2828, 'event': 1593, 'bridge': 614, 'water': 4832, 'bright': 617, 'here': 2142, 'dull': 1423, 'dark': 1144, 'cloud': 872, 'captain': 705, 'command': 911, 'after': 186, 'hard': 2084, 'award': 397, 'win': 4898, 'acclaim': 120, 'presentation': 3430, 'youtube': 4991, 'somewhere': 4124, 'dvd': 1431, 'public': 3510, 'library': 2613, 'just': 2488, 'none': 3042, 'appear': 300, 'fascinate': 1707, 'insight': 2346, 'modern': 2897, 'japanese': 2440, 'thoroughly': 4475, 'rise': 3770, 'son': 4125, 'daughter': 1150, 'society': 4103, 'view': 4764, 'parent': 3221, 'culture': 1110, 'community': 921, 'western': 4857, 'form': 1838, 'new': 3008, 'japan': 2439, 'international': 2383, 'blend': 532, 'demonstrates': 1213, 'private': 3457, 'member': 2825, 'steven': 4232, 'clearly': 852, 'talented': 4379, 'adopt': 163, 'school': 3876, 'four': 1853, 'thus': 4494, 'able': 99, 'inside': 2345, 'album': 211, 'blue': 545, 'angel': 261, 'hair': 2064, 'neck': 2996, 'singer': 4039, 'talent': 4378, 'find': 1763, 'charge': 774, 'charger': 775, 'aa': 96, 'battery': 446, 'huge': 2222, 'secure': 3911, 'flip': 1801, 'little': 2656, 'button': 670, 'positive': 3386, 'pop': 3370, 'wo': 4919, 'hold': 2173, 'mechanism': 2810, 'become': 465, 'loose': 2682, 'pressure': 3434, 'push': 3530, 'tape': 4385, 'segment': 3918, 'apply': 305, 'painful': 3197, 'advertised': 172, 'instruction': 2360, 'dont': 1366, 'do': 1346, '24': 51, 'hour': 2211, 'return': 3738, 'unit': 4675, 'kept': 2498, 'useless': 4718, 'backup': 412, 'manage': 2736, 'drain': 1386, 'purchase': 3523, 'convenient': 1015, 'last': 2556, 'short': 4002, 'longer': 2678, 'dear': 1164, 'excite': 1628, 'muslim': 2962, 'volume': 4793, 'live': 2657, 'essay': 1575, 'among': 247, 'describes': 1229, 'explain': 1652, 'why': 4880, 'woman': 4923, 'cape': 702, 'town': 4558, 'claim': 837, 'separate': 3937, 'equal': 1560, 'disappointment': 1300, 'hop': 2191, 'feminist': 1738, 'gender': 1939, 'female': 1736, 'base': 433, 'vcr': 4740, 'christmas': 820, 'present': 3429, 'join': 2465, 'rest': 3728, 'land': 2544, 'vhs': 4753, 'movie': 2939, 'tv': 4623, 'choice': 809, 'agree': 194, 'up': 4696, 'awkward': 403, 'selection': 3921, 'option': 3133, 'hang': 2076, 'comment': 912, 'complicate': 941, 'many': 2750, 'remote': 3689, 'rely': 3675, 'heavily': 2125, 'how': 2215, 'to': 4521, 'manual': 2745, 'timer': 4510, 'start': 4214, 'complaint': 936, 'incorrect': 2304, 'disc': 1302, 'fan': 1698, 'saw': 3853, 'section': 3910, 'happy': 2083, 'sends': 3927, 'click': 856, 'receiver': 3619, 'transition': 4575, 'smooth': 4091, 'pause': 3250, 'fairly': 1688, 'message': 2841, 'nut': 3071, 'television': 4411, 'bookshelf': 566, 'audio': 377, 'system': 4371, 'car': 709, 'move': 2937, 'room': 3794, 'knew': 2515, 'combo': 900, 'except': 1621, 'cable': 677, 'box': 586, 'control': 1011, 'input': 2342, 'program': 3476, 'mono': 2905, 'wife': 4889, 'difference': 1275, 'll': 2661, 'hollywood': 2178, 'ridiculous': 3762, 'wonder': 4924, 'script': 3895, 'mountain': 2934, 'lion': 2641, 'break': 601, 'trailer': 4569, 'behind': 476, 'capture': 708, 'jail': 2430, 'cell': 746, 'utterly': 4727, 'completely': 938, 'stupid': 4288, 'bet': 500, 'hotel': 2209, 'incredible': 2306, 'act': 134, 'bbc': 450, 'soap': 4099, 'max': 2791, 'ill': 2261, 'mariah': 2756, 'drama': 1387, 'series': 3944, 'opera': 3122, 'mixed': 2891, 'air': 200, 'america': 243, 'episode': 1558, 'season': 3904, 'finale': 1759, 'interest': 2377, 'watch': 4830, 'reminds': 3685, 'reason': 3609, 'fictional': 1745, 'san': 3836, 'francisco': 1861, 'england': 1534, 'recommend': 3627, 'willing': 4896, 'already': 227, 'law': 2567, 'seriously': 3946, 'unfortunately': 4667, 'entertain': 1546, 'order': 3137, 'hip': 2160, 'daddy': 1131, 'vibe': 4755, 'fourth': 1854, 'class': 843, 'main': 2723, 'voice': 4791, 'party': 3230, 'anywhere': 291, 'laugh': 2562, 'beach': 453, 'grow': 2041, 'surfer': 4342, 'southern': 4147, 'california': 680, 'brother': 629, 'honestly': 2186, 'kinda': 2507, 'surf': 4340, 'explains': 1653, 'hell': 2133, 'moral': 2917, 'aspect': 350, 'american': 244, 'argue': 319, 'explanation': 1654, 'simple': 4029, 'focus': 1816, 'individual': 2317, 'ignore': 2258, 'personal': 3281, 'responsibility': 3726, 'final': 1758, 'response': 3725, 'robert': 3777, 'seller': 3924, 'disgust': 1318, 'state': 4216, 'medium': 2816, 'politics': 3365, 'general': 1940, 'head': 2108, 'substantial': 4297, 'challenge': 762, 'lie': 2617, 'being': 477, 'larry': 2554, 'label': 2532, 'late': 2557, '80': 86, '90': 90, 'explore': 1656, 'rich': 3756, 'catalog': 732, 'jazz': 2446, 'musician': 2959, 'stand': 4205, 'mile': 2862, 'mac': 2710, 'line': 2636, 'window': 4900, 'frustrate': 1888, 'attempt': 368, 'touch': 4551, 'mouse': 2935, 'power': 3401, 'arrow': 329, 'keyboard': 2501, 'fun': 1894, 'disapointed': 1296, 'attention': 370, 'long': 2677, 'level': 2607, 'rescue': 3715, 'hero': 2143, 'dog': 1354, 'former': 1841, 'repeatedly': 3700, 'recipe': 3623, 'throw': 4490, 'cup': 1112, 'nearly': 2992, 'compare': 926, 'ed': 1458, 'wood': 4928, 'flawlessly': 1793, 'lisa': 2645, 'wild': 4891, 'bread': 600, 'fail': 1684, 'novice': 3061, 'place': 3325, 'reliable': 3670, 'concise': 960, 'information': 2331, 'maintain': 2726, 'fabulous': 1676, 'pas': 3231, 'while': 4870, 'historical': 2165, 'cost': 1041, 'alaska': 209, 'visit': 4780, 'starter': 4215, 'collection': 890, 'advise': 176, 'ruth': 3818, 'picture': 3308, 'past': 3237, '100': 4, 'ago': 193, 'mixer': 2892, 'stuff': 4285, 'pot': 3395, 'closer': 866, 'mp3': 2941, 'download': 1377, 'decade': 1169, '26': 54, 'background': 410, 'hunt': 2234, 'melody': 2823, 'english': 1535, 'lyric': 2708, 'else': 1497, 'via': 4754, 'happily': 2081, 'ipod': 2403, 'experience': 1646, 'fm': 1814, 'rattle': 3587, 'sometimes': 4122, 'quality': 3533, 'screen': 3891, 'thru': 4492, 'middle': 2855, 'plus': 3350, 'dead': 1159, 'layout': 2570, 'sense': 3930, 'engineering': 1533, 'imo': 2276, 'refund': 3647, 'name': 2973, '400': 68, 'flat': 1789, 'panel': 3207, 'lcd': 2573, 'built': 650, 'weight': 4852, 'space': 4149, 'save': 3852, 'attractive': 375, 'design': 1235, 'sharp': 3978, 'playback': 3338, 'negative': 3000, 'function': 1895, 'key': 2500, 'due': 1420, 'color': 894, 'almost': 221, 'carefully': 715, 'terrible': 4428, 'birthday': 517, 'junk': 2487, 'capable': 700, 'recall': 3614, 'flash': 1788, 'channel': 767, 'sony': 4129, 'universal': 4677, 'learn': 2583, 'factory': 1680, 'deal': 1161, 'user': 4719, 'annoy': 273, 'replace': 3703, '13': 12, 'tube': 4613, 'gain': 1914, 'counter': 1049, 'internal': 2382, 'bonus': 561, 'defective': 1184, 'electronics': 1488, 'express': 1661, 'contact': 992, 'number': 3068, 'picked': 3305, 'arrive': 328, 'week': 4849, 'later': 2559, 'clarity': 841, 'mode': 2895, 'loud': 2691, 'rv': 3819, 'run': 3812, 'barely': 430, 'solve': 4114, 'jack': 2427, 'stereo': 4229, 'speaker': 4156, 'lightweight': 2627, 'antenna': 278, 'opinion': 3126, 'bias': 504, 'angle': 263, 'europe': 1588, 'clean': 848, 'proper': 3490, 'fails': 1685, 'shed': 3980, 'understand': 4657, 'guide': 2051, 'tour': 4553, 'country': 1052, 'forgotten': 1837, 'reference': 3640, 'travel': 4582, 'outline': 3164, 'detail': 1245, 'realy': 3608, 'everybody': 1598, 'combination': 898, 'illustration': 2265, 'text': 4437, 'sight': 4017, 'city': 834, 'european': 1589, 'thank': 4442, 'lonely': 2676, 'planet': 3330, 'info': 2329, 'buying': 673, 'surface': 4341, 'receive': 3618, 'germany': 1955, 'overview': 3179, 'greece': 2027, 'spanish': 4151, 'sort': 4139, 'printing': 3453, 'highlight': 2153, 'front': 1885, 'course': 1056, 'kid': 2503, 'jay': 2445, 'eric': 1567, 'tender': 4422, '19': 19, 'rock': 3779, 'offend': 3095, 'either': 1480, 'depends': 1218, 'sent': 3934, 'foot': 1825, 'accept': 113, '12': 10, '40': 67, '50': 74, 'way': 4836, 'gift': 1961, 'husband': 2240, 'date': 1149, 'disappoint': 1298, 'plate': 3334, 'inferior': 2324, 'previous': 3440, 'edition': 1462, 'ahead': 196, 'homer': 2183, 'helpful': 2136, 'gem': 1938, 'complex': 939, 'subject': 4293, 'second': 3906, 'century': 754, 'religious': 3674, 'authority': 386, 'serious': 3945, 'period': 3277, 'essential': 1577, 'detailed': 1246, 'yes': 4981, 'cardboard': 711, 'beat': 458, 'cheesy': 791, 'worn': 4939, 'across': 133, 'entire': 1550, 'solid': 4110, 'decent': 1172, 'distance': 1334, 'scrap': 3888, 'noticeable': 3056, 'plenty': 3347, 'material': 2785, 'loosely': 2683, 'bottom': 579, 'shipping': 3992, 'exchange': 1627, 'damage': 1135, 'risk': 3771, 'unknown': 4680, 'africa': 184, 'produce': 3465, 'mixture': 2893, 'african': 185, 'soft': 4105, 'fit': 1781, 'record': 3629, 'france': 1859, 'paris': 3222, 'professional': 3471, 'hot': 2208, 'lazy': 2571, 'expectation': 1643, 'shoe': 3997, 'ripped': 3769, 'apart': 294, 'sole': 4109, 'clark': 842, 'sadly': 3824, 'within': 4915, 'month': 2911, 'similar': 4027, 'profound': 3475, 'narrative': 2976, 'style': 4291, 'famous': 1697, 'john': 2463, 'frequently': 1873, 'carry': 721, 'tone': 4534, 'amateur': 237, 'historian': 2164, 'passing': 3234, 'neither': 3002, 'graduate': 2010, 'consider': 980, 'represent': 3708, 'today': 4522, 'research': 3716, 'thin': 4466, 'essentially': 1578, 'primary': 3446, 'secondary': 3907, 'source': 4145, 'rat': 3583, 'yr': 4992, 'barbie': 427, 'computer': 952, 'worried': 4940, 'vibrant': 4756, 'friendly': 1879, 'my': 2965, 'ton': 4533, '42': 69, 'together': 4526, 'decorate': 1177, 'alone': 222, 'creativity': 1080, 'adventure': 171, 'addict': 150, 'opening': 3121, 'sing': 4038, 'stop': 4250, 'prince': 3449, 'sings': 4041, 'cry': 1104, 'child': 800, 'currently': 1118, 'bedroom': 468, 'result': 3732, 'she': 3979, 'painting': 3200, 'flower': 1808, 'halfway': 2066, 'hung': 2232, 'leave': 2587, 'exit': 1639, 'frozen': 1887, 'spot': 4189, 'urge': 4709, 'software': 4107, 'reboot': 3613, 'site': 4047, 'fault': 1714, 'catch': 733, 'bug': 645, 'caught': 738, 'buck': 637, 'avoid': 394, 'creative': 1079, 'granddaughter': 2016, 'plan': 3328, 'imagination': 2269, 'fight': 1749, 'choose': 810, 'theme': 4452, 'allows': 219, 'stone': 4248, 'bring': 620, 'animation': 267, 'boring': 573, 'adult': 166, 'scheme': 3873, 'pattern': 3247, 'bore': 571, 'highly': 2154, 'rental': 3697, 'basically': 438, 'sister': 4045, 'classic': 844, 'multiple': 2952, 'access': 115, 'everytime': 1602, 'task': 4388, 'sequence': 3941, 'file': 1752, 'crash': 1069, 'possible': 3389, 'grand': 2014, 'patience': 3243, 'survive': 4352, 'trial': 4593, 'substitute': 4298, 'vendor': 4747, 'feedback': 1726, 'rate': 3584, 'bother': 577, 'future': 1905, 'and': 258, 'or': 3134, 'company': 925, 'mistake': 2888, 'spend': 4170, 'hundred': 2231, 'dollar': 1359, 'com': 896, 'building': 649, 'careful': 714, 'smell': 4086, 'bottle': 578, 'delicate': 1201, 'summer': 4322, 'impressed': 2285, 'creepy': 1085, 'wow': 4951, 'revenge': 3743, 'door': 1368, 'open': 3119, 'prepared': 3427, 'didnt': 1271, 'menu': 2834, 'exist': 1636, 'matter': 2788, 'exception': 1622, 'dub': 1416, 'sub': 4292, 'par': 3212, 'remain': 3676, 'shame': 3974, 'original': 3145, 'offering': 3098, 'sooo': 4132, 'official': 3101, 'production': 3468, 'screw': 3894, 'pioneer': 3317, 'sad': 3823, 'ya': 4971, 'rap': 3576, 'ta': 4372, 'blow': 541, 'jam': 2431, 'ride': 3761, 'underrated': 4656, 'mtv': 2946, 'houston': 2214, 'pat': 3239, 'steve': 4231, 'regardless': 3650, 'alive': 216, 'legacy': 2592, 'dirty': 1294, 'south': 4146, 'guest': 2050, 'fat': 1711, 'mr': 2942, 'chris': 815, 'chronicle': 822, 'farm': 1706, 'photo': 3296, 'then': 4453, 'version': 4750, 'bill': 508, 'history': 2167, 'relationship': 3663, 'treasure': 4586, 'keeper': 2496, 'idea': 2248, 'draw': 1389, 'comfy': 908, 'lounge': 2693, 'cake': 679, 'topper': 4541, 'june': 2484, '27': 55, '2010': 44, 'estimate': 1584, 'july': 2480, '16': 16, 'wrong': 4961, 'pearl': 3256, 'kit': 2512, 'cute': 1126, 'provide': 3502, 'annoyed': 274, 'include': 2298, 'trust': 4610, 'additional': 153, 'sweet': 4361, 'grace': 2007, 'email': 1501, 'supply': 4332, 'list': 2646, 'sheet': 3982, 'ready': 3599, 'boot': 568, 'phone': 3295, 'manufacturer': 2748, 'unreliable': 4691, 'critic': 1092, 'consumer': 991, 'alike': 215, 'release': 3667, 'debut': 1168, 'have': 2102, 'radio': 3558, 'hit': 2168, 'dj': 1345, 'remix': 3687, 'band': 423, 'hopefully': 2194, 'club': 873, 'sale': 3831, 'practically': 3405, 'leap': 2582, 'grab': 2005, 'upcoming': 4698, 'omg': 3109, 'own': 3183, 'saturday': 3851, 'jamming': 2434, 'techno': 4404, 'electronic': 1486, 'cause': 739, 'classical': 845, '1980': 26, 'jason': 2441, 'lead': 2575, 'moment': 2901, 'relief': 3671, 'minimum': 2874, 'action': 136, 'suspense': 4354, 'suggest': 4315, 'skip': 4062, 'finally': 1760, 'horribly': 2198, 'lack': 2536, 'mystery': 2967, 'ten': 4420, 'educational': 1466, 'train': 4570, 'shape': 3975, 'guaranteed': 2047, 'puzzle': 3532, 'range': 3572, 'silly': 4025, 'odd': 3088, 'theory': 4455, 'concert': 959, 'string': 4272, 'appreciate': 306, 'excelent': 1618, 'rendition': 3694, 'caution': 740, 'remastered': 3681, 'irrelevant': 2410, 'textbook': 4438, 'ship': 3990, 'transaction': 4572, 'engage': 1530, 'te': 4394, 'wash': 4825, 'shore': 4001, 'colin': 886, 'opposite': 3129, 'attract': 373, 'call': 681, 'trashy': 4581, 'usually': 4723, 'tie': 4497, 'enchant': 1520, 'heroine': 2144, 'part': 3224, 'content': 997, 'island': 2415, 'solitude': 4111, 'fear': 1719, 'strange': 4260, 'strike': 4271, 'friendship': 1880, 'discovers': 1309, 'courage': 1055, 'amuse': 250, 'loses': 2688, 'mostly': 2924, 'characterization': 772, 'character': 770, 'introduce': 2392, 'behavior': 475, 'development': 1252, 'force': 1830, 'improve': 2288, 'towards': 4556, 'portable': 3377, 'drive': 1403, 'performance': 3273, 'constantly': 987, 'half': 2065, 'uncomfortable': 4651, 'pant': 3208, 'incredibly': 2307, 'stiff': 4237, 'authentic': 384, 'encounter': 1521, 'yoruba': 4987, 'particular': 3226, 'certain': 756, 'nuance': 3065, 'spoke': 4185, 'anybody': 284, 'clue': 874, 'leaf': 2578, 'question': 3539, 'unanswered': 4646, 'impossible': 2283, 'native': 2983, 'confuse': 971, 'teach': 4396, 'basic': 437, 'vocabulary': 4788, 'specific': 4162, 'vehicle': 4744, 'correct': 1037, 'mat': 2783, 'therefore': 4459, 'sits': 4048, 'grandchild': 2015, 'value': 4733, 'toe': 4524, 'kelly': 2497, 'pet': 3285, 'parade': 3215, 'dress': 1397, 'pony': 3366, 'jump': 2481, 'etc': 1586, 'animal': 265, 'nail': 2972, 'float': 1802, 'accomplish': 122, 'along': 223, 'wonderfully': 4926, 'instal': 2352, 'laptop': 2550, 'tough': 4552, 'bear': 456, 'fish': 1777, 'finger': 1766, 'pad': 3192, 'load': 2663, 'different': 1276, 'prepare': 3426, 'endless': 1526, 'graphic': 2020, 'colorful': 895, 'winner': 4903, 'freeze': 1870, 'reinstall': 3657, 'issue': 2417, 'activity': 138, 'slip': 4078, 'heel': 2128, 'satisfied': 3849, 'manner': 2742, 'awesome': 400, 'advertisement': 173, 'but': 667, 'uk': 4636, 'assume': 357, '2nd': 58, '3rd': 66, 'available': 391, 'arcade': 313, 'ive': 2425, 'all': 217, 'guy': 2058, 'compatible': 930, 'machine': 2712, 'deeply': 1181, 'stage': 4202, 'revolution': 3747, 'equivalent': 1564, 'jungle': 2485, 'unheard': 4669, 'favourite': 1718, 'situation': 4049, 'lucky': 2703, 'boredom': 572, 'letter': 2606, 'admit': 161, 'michael': 2850, 'montgomery': 2910, 'forward': 1850, 'approach': 308, 'couple': 1054, 'beer': 469, 'spice': 4174, 'deserves': 1234, 'cuz': 1127, 'soldier': 4108, 'punk': 3521, 'rip': 3768, 'hr': 2219, '23': 50, 'ball': 417, 'este': 1582, 'libro': 2614, 'lo': 2662, 'que': 3536, 'el': 1482, 'si': 4014, 'de': 1158, 'con': 953, 'mi': 2849, 'ex': 1611, 'cereal': 755, 'taste': 4389, 'addiction': 151, 'hooked': 2190, 'breakfast': 603, 'eat': 1451, 'especially': 1573, 'hungry': 2233, 'bunch': 657, 'cap': 699, 'fill': 1753, 'word': 4930, 'warn': 4818, '99': 94, 'local': 2664, 'walmart': 4809, 'church': 823, 'pack': 3188, 'bowl': 585, 'timber': 4506, 'frame': 1858, 'build': 648, 'technical': 4402, 'joint': 2466, 'span': 4150, 'mill': 2865, 'museum': 2956, 'master': 2780, 'recent': 3620, 'trip': 4600, 'he': 2107, 'avid': 393, 'inclined': 2297, 'breeze': 610, 'various': 4738, 'illustrate': 2264, 'practical': 3404, 'outstanding': 3167, 'although': 233, 'construction': 989, 'invaluable': 2396, 'process': 3464, 'edit': 1461, 'caption': 706, 'traditional': 4565, 'pick': 3304, 'print': 3451, 'drawing': 1391, 'inform': 2330, 'project': 3480, 'dip': 1287, 'temperature': 4414, 'describe': 1227, 'shrink': 4012, 'egg': 1474, 'transfer': 4573, 'needle': 2998, 'intelligent': 2369, 'immediately': 2273, 'war': 4814, '2006': 42, 'coast': 876, 'pc': 3252, '1985': 28, 'sink': 4043, 'meant': 2805, 'race': 3552, 'landscape': 2545, 'slide': 4073, 'total': 4547, 'rubbish': 3806, 'mine': 2871, 'ireland': 2405, 'florida': 1806, 'costly': 1042, 'henry': 2139, '70': 82, 'nose': 3050, 'chewed': 796, 'nobody': 3036, 'clone': 863, 'forty': 1848, 'dad': 1130, 'significance': 4021, 'battle': 447, 'cancer': 693, 'thanks': 4444, 'obsession': 3078, 'threw': 4484, 'replacement': 3704, 'shelf': 3983, 'thread': 4482, 'bare': 429, 'online': 3114, 'less': 2601, '14': 13, 'disney': 1325, 'toy': 4560, 'six': 4050, 'contemporary': 996, 'delight': 1203, 'off': 3094, 'snow': 4096, 'grown': 2042, 'ups': 4704, 'reward': 3749, 'sketch': 4057, 'excitement': 1629, 'actual': 141, 'render': 3693, 'beginner': 474, 'thrill': 4485, 'instructional': 2361, 'match': 2784, 'description': 1230, 'cushion': 1122, 'deliver': 1205, 'impression': 2286, 'insert': 2344, 'attach': 366, 'strap': 4263, 'definately': 1187, 'luckily': 2702, 'policy': 3360, 'free': 1868, 'sex': 3960, 'them': 4451, 'publishing': 3514, 'broadway': 626, 'theatre': 4449, 'archive': 315, 'witty': 4918, 'sparkle': 4154, 'ruin': 3809, 'costume': 1043, 'absurd': 107, 'blanket': 529, 'camp': 687, 'btw': 635, 'director': 1292, 'goal': 1982, 'intention': 2373, 'extend': 1663, 'be': 452, 'drinking': 1401, 'sit': 4046, 'again': 189, 'blurry': 550, 'depend': 1217, 'audience': 376, 'charm': 778, 'chance': 764, 'student': 4282, 'compilation': 934, 'chose': 814, 'perform': 3272, 'artist': 335, 'poorly': 3369, 'wave': 4835, 'prior': 3454, 'sung': 4324, 'garbage': 1926, 'prompt': 3484, 'november': 3060, 'nowhere': 3063, 'deceive': 1170, 'group': 2040, 'performs': 3275, 'duh': 1421, 'trash': 4580, 'wedding': 4848, 'session': 3950, 'cheap': 783, 'vocalist': 4790, 'die': 1272, 'camera': 685, 'continue': 1000, 'faster': 1710, 'close': 864, 'tech': 4401, 'curious': 1116, 'producer': 3466, 'suspect': 4353, '200': 35, 'realize': 3605, 'reveal': 3740, 'crucial': 1100, 'as': 339, 'unbelievable': 4648, 'earlier': 1441, 'detective': 1247, 'speak': 4155, 'abuse': 108, 'childhood': 802, 'forgive': 1835, 'successful': 4303, 'spite': 4181, 'horrendous': 2196, 'lord': 2684, 'refer': 3639, 'peter': 3286, 'stark': 4212, 'major': 2727, 'league': 2579, 'score': 3885, 'extensive': 1665, 'resource': 3722, 'tomorrow': 4532, 'till': 4503, 'massive': 2779, 'living': 2659, 'subscription': 4294, 'coverage': 1061, 'minor': 2876, 'college': 892, 'brand': 596, 'steer': 4225, 'secret': 3908, 'joe': 2462, 'al': 206, 'intrigue': 2390, 'influence': 2327, 'titan': 4518, '1970': 24, 'exploration': 1655, 'jet': 2455, 'craft': 1066, 'fuel': 1891, 'atmosphere': 364, 'originally': 3147, 'father': 1713, 'mission': 2887, 'sci': 3878, 'fi': 1743, 'reality': 3604, 'fantasy': 1702, 'david': 1152, 'asimov': 346, 'peek': 3257, 'block': 537, 'obviously': 3081, 'noise': 3038, 'incorporate': 2303, 'easily': 1447, 'identify': 2251, 'banana': 422, 'penguin': 3262, 'tends': 4423, 'wall': 4808, 'smash': 4085, 'drop': 1407, 'treatment': 4588, 'art': 330, 'collector': 891, 'twin': 4626, 'tool': 4537, 'fisher': 1778, 'there': 4458, 'spin': 4177, 'queen': 3537, 'with': 4914, 'stack': 4201, 'knock': 2520, 'plain': 3327, 'wooden': 4929, 'object': 3073, 'opportunity': 3127, 'for': 1828, 'eye': 1672, 'purchasing': 3524, 'decision': 1175, 'overnight': 3174, 'rocket': 3781, 'scientist': 3881, 'rub': 3803, 'dissapointing': 1331, 'concept': 956, 'baby': 407, 'mother': 2925, 'shake': 3969, 'imaginative': 2270, 'edge': 1460, 'safety': 3827, 'correspond': 1039, 'grandson': 2018, 'goodness': 1993, 'shopping': 4000, 'interested': 2378, 'manipulate': 2740, 'adorable': 164, 'upgrade': 4700, 'format': 1840, 'storage': 4251, 'zipper': 4997, 'durable': 1428, 'appropriate': 309, '25': 52, 'months': 2912, 'perfectly': 3271, 'hurt': 2239, 'category': 735, 'factor': 1679, 'fully': 1893, 'comprehend': 947, 'dig': 1280, 'waterproof': 4833, 'its': 2422, 'you': 4988, 'whale': 4859, 'mary': 2774, 'achieve': 128, 'study': 4284, 'communication': 918, 'washington': 4827, 'direct': 1289, 'diane': 1265, 'nifty': 3024, 'halloween': 2068, 'dummy': 1425, 'forgot': 1836, 'depict': 1219, 'certainly': 757, 'campaign': 688, 'academic': 110, 'freedom': 1869, 'organization': 3142, 'dedicate': 1178, 'violence': 4771, 'wing': 4902, 'propaganda': 3489, 'office': 3099, 'regularly': 3656, 'hide': 2150, 'terrorist': 4433, 'weapon': 4841, 'intend': 2370, 'innocent': 2340, 'murder': 2954, 'so': 4098, 'extreme': 1669, 'formula': 1842, 'fortunately': 1846, 'hesitate': 2145, 'chinese': 805, 'green': 2029, 'red': 3633, 'logo': 2672, 'fx': 1909, 'serial': 3943, 'handful': 2073, 'memorable': 2827, 'seal': 3900, 'blame': 526, 'sorry': 4138, '35': 62, 'travesty': 4584, 'soul': 4140, 'killer': 2505, 'supernatural': 4329, 'storyline': 4255, 'hole': 2175, 'gory': 1999, 'stephen': 4228, 'initially': 2336, 'low': 2699, 'budget': 642, 'indie': 2316, 'horror': 2202, 'flick': 1798, 'jennifer': 2450, 'weekend': 4850, 'bernie': 496, 'terry': 4434, 'actor': 139, 'lol': 2673, 'anyways': 290, 'mask': 2775, 'maker': 2730, 'horrify': 2201, 'displayed': 1327, 'effort': 1473, 'dialogue': 1262, 'pace': 3186, 'tree': 4589, 'root': 3795, 'yard': 4972, 'knee': 2514, 'cinematic': 827, 'path': 3241, 'typically': 4631, 'predictable': 3417, 'fashion': 1708, 'victim': 4761, 'us': 4710, 'face': 1677, 'motivation': 2929, 'sympathy': 4368, 'entry': 1553, 'familiar': 1695, 'cast': 728, 'effective': 1470, 'guilt': 2052, 'treat': 4587, 'williams': 4895, 'used': 4716, 'role': 3784, 'lee': 2589, 'doom': 1367, 'equally': 1561, 'an': 252, 'ii': 2259, 'filmmaker': 1756, 'borrow': 575, 'everyone': 1600, 'elevate': 1491, 'unimaginative': 4670, 'happens': 2079, 'exactly': 1613, 'fright': 1881, 'safe': 3826, 'brief': 615, 'appearance': 301, 'icon': 2247, 'better': 501, 'genre': 1948, 'allow': 218, 'artifact': 333, 'card': 710, 'yellow': 4978, 'ordinary': 3139, 'holocaust': 2180, 'diary': 1266, 'eastern': 1449, 'medicine': 2814, 'heal': 2112, 'dissappointed': 1333, 'unhappy': 4668, 'practice': 3406, 'www': 4965, 'primer': 3448, 'basis': 439, 'application': 304, 'philosophy': 3294, 'balance': 416, 'nature': 2986, 'informative': 2332, 'redundant': 3638, 'combat': 897, 'pleasure': 3346, 'respect': 3723, 'ambient': 242, 'enthusiast': 1549, 'whatsoever': 4863, 'darn': 1147, 'guitarist': 2055, 'showcase': 4009, 'utopia': 4724, 'dissapointed': 1330, 'direction': 1290, 'dry': 1413, 'pay': 3251, 'pillow': 3312, 'softer': 4106, 'post': 3391, 'tiny': 4514, 'foam': 1815, 'worthless': 4944, 'amount': 248, 'whatever': 4861, 'super': 4325, 'handle': 2074, 'heavy': 2126, 'dense': 1214, 'cant': 697, 'prop': 3488, 'in': 2290, 'ugh': 4634, 'sleep': 4069, 'otherwise': 3154, 'position': 3385, 'width': 4887, 'rotate': 3797, 'lay': 2568, 'false': 1693, 'military': 2863, '29': 57, 'pic': 3303, 'reply': 3706, 'serum': 3947, 'rid': 3759, 'weather': 4843, 'somehow': 4118, 'double': 1371, 'ai': 197, 'fix': 1785, 'slightly': 4076, 'shop': 3999, 'grocery': 2036, 'dick': 1267, 'provoke': 3504, 'tap': 4384, 'winter': 4905, 'suit': 4318, 'advanced': 169, 'powerful': 3403, 'prefer': 3419, 'outfit': 3162, 'skate': 4054, 'automatically': 389, 'hello': 2134, 'technique': 4403, 'stroke': 4275, 'body': 554, 'split': 4182, 'muscle': 2955, 'kick': 2502, 'worthwhile': 4945, 'stink': 4241, 'scream': 3890, 'ice': 2246, 'simplistic': 4032, 'strive': 4274, 'onto': 3116, 'enjoyment': 1540, 'rom': 3788, 'dud': 1418, 'somebody': 4116, 'thats': 4446, 'sake': 3830, 'seven': 3955, 'enjoys': 1541, 'xp': 4969, 'frustration': 1889, 'experienced': 1647, 'crowd': 1099, 'crashed': 1070, 'despite': 1241, 'trick': 4596, 'learns': 2584, 'yesterday': 4982, 'confidence': 966, 'smoothly': 4092, 'gentleman': 1950, 'la': 2530, 'rating': 3586, 'pity': 3324, 'delivery': 1207, 'mail': 2722, 'joy': 2472, 'rare': 3579, 'dose': 1369, 'not': 3051, 'fire': 1769, 'truck': 4606, 'pleased': 3345, 'horse': 2203, '2004': 40, 'alternative': 232, 'imagery': 2268, 'laid': 2541, 'works': 4937, 'coffee': 882, 'tea': 4395, 'newspaper': 3013, 'afternoon': 187, 'supplier': 4331, 'nasty': 2979, 'cop': 1028, 'out': 3157, 'apartment': 295, 'switch': 4363, 'outlet': 3163, 'eight': 1478, 'plug': 3349, 'device': 1254, 'hitch': 2169, 'mystical': 2968, 'dr': 1382, 'legend': 2594, 'stranger': 4262, 'dream': 1395, 'surreal': 4349, 'symbolism': 4366, 'someday': 4117, 'peace': 3254, 'shine': 3989, 'captivate': 707, 'lj': 2660, 'smith': 4088, 'ash': 341, 'teenage': 4408, 'humor': 2228, 'paranormal': 3220, 'disaster': 1301, 'area': 316, 'darkness': 1146, 'protect': 3497, 'happiness': 2082, '21': 47, 'possibly': 3390, 'remains': 3678, 'instantly': 2358, '6th': 81, 'poetry': 3355, 'respond': 3724, 'personality': 3282, 'vampire': 4735, 'vision': 4779, 'trilogy': 4598, 'recognize': 3624, 'unrealistic': 4690, 'slayer': 4068, 'tune': 4616, 'male': 2733, 'attraction': 374, 'witch': 4913, 'instance': 2356, 'legendary': 2595, 'gel': 1937, 'pen': 3260, 'ink': 2338, 'square': 4195, 'locate': 2666, 'magazine': 2718, 'publication': 3511, 'mirror': 2881, 'glimpse': 1972, 'nation': 2981, 'shortly': 4004, 'scholar': 3874, 'compelling': 932, 'illuminate': 2263, 'precious': 3413, 'examine': 1616, 'evolution': 1609, 'conclusion': 961, 'vast': 4739, 'data': 1148, 'readable': 3595, 'reflection': 3644, 'professor': 3472, 'regret': 3654, 'wade': 4801, 'likely': 2630, 'wealth': 4840, 'overly': 3173, '300': 60, 'awake': 396, 'invest': 2399, 'packed': 3191, 'somewhat': 4123, 'useful': 4717, 'richard': 3757, 'convincing': 1020, 'writes': 4958, 'fanatic': 1699, 'wide': 4883, 'perspective': 3284, 'kylie': 2529, 'bite': 520, 'subtle': 4300, 'performer': 3274, 'hi': 2148, 'ballad': 418, 'nightmare': 3026, 'flow': 1807, 'catchy': 734, 'chorus': 813, 'melt': 2824, 'funky': 1900, 'remixes': 3688, 'language': 2547, 'usa': 4711, 'import': 2279, 'limited': 2634, 'thrown': 4491, 'border': 570, 'by': 674, 'cut': 1125, 'arrangement': 326, 'rarity': 3581, 'tom': 4528, 'cord': 1031, 'thomas': 4473, 'naturally': 2985, 'compel': 931, 'related': 3660, 'ramble': 3566, 'involve': 2402, 'mindless': 2870, 'footage': 1826, 'meet': 2817, 'rent': 3696, 'kay': 2493, 'aside': 345, 'interview': 2388, 'gear': 1936, 'toward': 4555, 'normal': 3046, 'center': 752, 'commercial': 914, 'introduction': 2394, 'pain': 3196, 'advice': 175, 'disguise': 1317, 'asleep': 349, 'horrific': 2200, 'warrior': 4823, 'brilliantly': 619, 'gore': 1997, 'warranty': 4822, '000': 1, 'equipment': 1563, 'printer': 3452, 'strip': 4273, 'stretch': 4269, 'waist': 4802, 'tight': 4498, 'inch': 2296, 'comfortable': 905, 'largely': 2553, 'slack': 4063, 'usual': 4722, 'normally': 3047, 'flimsy': 1800, 'fabric': 1675, 'advertising': 174, 'gray': 2023, 'mislead': 2884, 'skinny': 4061, 'business': 664, 'chain': 760, 'iron': 2407, 'emphasis': 1515, 'mature': 2790, 'disturb': 1339, 'fairy': 1689, 'tale': 4377, 'grim': 2031, 'wwii': 4964, 'glove': 1977, 'valuable': 4732, 'italy': 2420, 'youth': 4990, 'confusion': 972, 'credibility': 1082, 'remind': 3683, 'rome': 3792, 'appreciation': 307, 'depth': 1225, 'dish': 1319, 'satisfy': 3850, 'flight': 1799, 'food': 1823, 'hearted': 2119, 'relatively': 3665, 'moving': 2940, 'detract': 1249, 'laura': 2566, 'enhance': 1537, 'overdone': 3171, 'pun': 3518, 'sweep': 4360, 'sensual': 3933, 'glory': 1976, 'preparation': 3425, 'discover': 1308, 'described': 1228, 'what': 4860, 'mexican': 2848, 'magic': 2719, 'fable': 1674, 'cook': 1022, 'cooking': 1026, 'inspire': 2351, 'nude': 3066, 'chick': 798, 'lit': 2652, 'roman': 3789, 'market': 2762, 'curse': 1119, 'porn': 3375, 'desire': 1236, 'tip': 4515, 'insult': 2365, 'everywhere': 1603, 'vivid': 4787, 'lousy': 2694, 'jerk': 2452, 'portrayed': 3382, 'her': 2140, 'inappropriate': 2294, 'literature': 2655, 'substance': 4296, 'happier': 2080, 'metaphor': 2846, 'making': 2732, 'adequate': 155, 'occasionally': 3084, 'overlook': 3172, 'plane': 3329, 'suppose': 4334, 'generally': 1941, 'management': 2737, 'report': 3707, 'bos': 576, 'financial': 1762, 'analysis': 254, 'ability': 98, 'topic': 4540, 'pre': 3410, 'elsewhere': 1498, 'cash': 726, 'limit': 2633, 'tha': 4441, 'they': 4461, 'no': 3033, 'existence': 1637, 'permanently': 3279, 'repetitive': 3702, 'repeat': 3699, 'huh': 2223, 'yeah': 4975, 'sign': 4019, 'called': 682, 'gon': 1989, 'na': 2971, 'lil': 2631, 'alright': 228, 'rapper': 3578, 'million': 2867, 'checked': 788, 'juvenile': 2491, 'suck': 4305, '17': 17, 'bounce': 581, 'overuse': 3178, 'da': 1129, 'solo': 4112, 'quit': 3546, 'comedian': 902, 'wayne': 4837, 'besides': 498, 'alien': 214, 'degreez': 1197, '1999': 31, 'fresh': 1874, 'dictionary': 1269, 'wack': 4800, 'belive': 482, 'wit': 4912, 'crap': 1067, 'walk': 4806, 'pointless': 3358, 'strong': 4276, 'too': 4536, 'bump': 656, 'ha': 2060, 'shot': 4005, 'hook': 2189, 'blew': 535, 'logic': 2670, 'cheaper': 784, 'raise': 3564, 'responsible': 3727, 'co': 875, 'worker': 4935, 'restaurant': 3729, 'french': 1871, 'quarter': 3534, 'orleans': 3148, 'mid': 2854, '20th': 46, 'delightful': 1204, 'stayed': 4221, 'miller': 2866, 'unlimited': 4684, 'sun': 4323, 'brave': 598, 'tim': 4505, 'dinner': 1285, 'january': 2438, 'february': 1722, 'wheel': 4864, 'lesson': 2603, 'desktop': 1238, 'html': 2220, 'thorough': 4474, 'comprehensive': 948, 'web': 4845, 'smart': 4084, 'index': 2310, 'clever': 853, 'expand': 1641, 'technology': 4405, 'intermediate': 2381, 'website': 4847, 'client': 857, 'expert': 1650, 'depicts': 1221, 'correctly': 1038, 'arrival': 327, 'indicate': 2313, 'healthy': 2114, 'thoughtful': 4479, 'fiction': 1744, 'cultural': 1109, 'identity': 2252, 'bond': 558, 'evoke': 1608, 'australia': 382, 'complain': 935, 'portrayal': 3381, 'cartridge': 724, 'throat': 4487, 'spray': 4191, 'hurry': 2238, 'relieve': 3672, 'yo': 4984, 'sore': 4136, 'recommendation': 3628, 'mom': 2900, 'glider': 1971, 'sooner': 4131, 'bench': 491, 'metal': 2844, 'tighten': 4499, 'wasnt': 4828, 'bar': 426, 'sturdy': 4290, 'assemble': 352, 'movement': 2938, 'blah': 525, 'compliment': 942, 'chair': 761, 'arm': 322, 'shipment': 3991, 'heck': 2127, 'drag': 1384, 'held': 2131, 'wet': 4858, 'james': 2432, 'awsome': 404, 'sample': 3834, 'ear': 1438, 'iv': 2424, 'rush': 3814, 'eerie': 1468, 'itunes': 2423, 'generation': 1943, 'united': 4676, 'interpret': 2385, 'jewish': 2457, 'worthy': 4946, 'rabbi': 3550, 'element': 1489, 'truth': 4611, 'gospel': 2000, 'socialism': 4102, 'economics': 1456, 'pseudo': 3507, 'psychology': 3509, 'broad': 624, 'variety': 4737, 'political': 3362, 'meander': 2801, 'marriage': 2766, 'stood': 4249, 'married': 2767, 'welcome': 4854, 'spouse': 4190, 'consist': 981, 'excessive': 1626, 'portrays': 3383, 'argument': 320, 'watchable': 4831, 'cat': 731, 'angry': 264, 'yell': 4977, 'length': 2598, 'endure': 1527, 'test': 4435, 'discussion': 1313, 'discuss': 1312, 'outside': 3166, 'answer': 276, 'excuse': 1630, 'kindle': 2508, 'wolverine': 4922, 'cheer': 789, 'bound': 582, 'bass': 441, 'attitude': 372, 'drum': 1410, 'unique': 4674, 'suggestion': 4316, 'acoustic': 132, 'accord': 123, 'knowledge': 2523, 'recording': 3630, 'instrumental': 2364, 'road': 3775, 'mini': 2872, 'cheaply': 785, 'terrific': 4430, 'organ': 3140, 'mess': 2840, 'setting': 3952, 'burnt': 662, 'rubber': 3805, 'service': 3949, 'rivet': 3774, 'bookstore': 567, 'gothic': 2002, 'supposedly': 4335, 'impressive': 2287, 'feehan': 1728, 'christine': 819, 'engine': 1531, 'publish': 3512, 'quicker': 3541, 'nicoletta': 3022, 'village': 4767, 'exercise': 1634, 'select': 3920, 'mysterious': 2966, 'frighten': 1882, 'communicate': 917, 'share': 3977, 'eager': 1436, 'presence': 3428, 'unlike': 4682, 'passion': 3235, 'empathy': 1513, 'potential': 3396, 'developed': 1251, 'relate': 3659, 'spark': 4153, 'suspenseful': 4355, 'believable': 479, 'pound': 3398, 'sexy': 3962, 'emma': 1508, 'holly': 2177, 'reach': 3592, 'dimensional': 1284, 'advantage': 170, 'success': 4302, 'begining': 473, 'weird': 4853, 'done': 1365, 'lively': 2658, 'adore': 165, 'strongly': 4277, 'severely': 3958, 'camcorder': 684, 'usb': 4714, 'stream': 4265, 'overseas': 3177, 'choppy': 811, 'recently': 3621, 'driver': 1406, 'frankly': 1865, 'protection': 3498, 'accurate': 126, '2002': 38, 'blur': 548, 'piano': 3302, 'common': 916, 'teacher': 4397, 'me': 2798, 'lid': 2616, 'accidentally': 119, 'upon': 4702, 'alternate': 231, 'adjust': 157, 'distinguish': 1337, '11': 8, 'cruel': 1102, 'unusual': 4694, 'patricia': 3245, 'cornwell': 1034, 'boyfriend': 589, 'seat': 3905, 'collapse': 887, 'stuck': 4281, 'thriller': 4486, 'evil': 1606, 'holder': 2174, 'nazi': 2988, 'criminal': 1088, 'scarpetta': 3866, 'summary': 4321, 'virtually': 4776, 'paramount': 3218, 'harris': 2094, 'becomes': 466, 'trite': 4603, 'turner': 4619, 'unable': 4644, 'underlie': 4654, 'cassette': 727, 'envelope': 1554, 'customer': 1124, 'prevent': 3438, 'sincerely': 4037, 'police': 3359, 'execute': 1631, 'current': 1117, 'particularly': 3227, 'niece': 3023, 'installment': 2355, 'potter': 3397, 'field': 1747, 'science': 3879, 'muddle': 2948, 'interesting': 2379, 'electric': 1484, 'flesh': 1796, 'commit': 915, 'redeem': 3634, 'develop': 1250, 'anti': 281, 'social': 4101, 'latter': 2561, 'villain': 4768, 'flaw': 1791, 'blown': 543, 'sat': 3846, 'bed': 467, 'hardcover': 2086, 'prime': 3447, 'shallow': 3973, 'contains': 994, 'widely': 4884, 'dot': 1370, 'incomplete': 2300, 'binding': 512, 'documentation': 1351, 'unclear': 4650, 'adam': 144, 'partner': 3228, 'earth': 1444, 'previously': 3441, 'zero': 4994, 'nope': 3045, 'studio': 4283, 'wake': 4804, 'sandler': 3839, 'viewer': 4765, 'climax': 859, 'lackluster': 2538, '45': 70, 'entirely': 1551, 'did': 1270, 'some': 4115, 'hill': 2158, 'snap': 4094, 'comic': 909, 'illness': 2262, 'lifestyle': 2619, 'necessarily': 2994, 'doesnt': 1353, 'george': 1952, 'experimental': 1649, 'drug': 1409, 'decides': 1174, 'ira': 2404, 'hire': 2161, 'patch': 3240, 'suddenly': 4309, 'immature': 2272, 'lame': 2543, 'sexual': 3961, 'nudity': 3067, 'circle': 829, 'reputation': 3711, 'dramatic': 1388, 'cold': 884, 'mainstream': 2725, 'press': 3433, 'downhill': 1376, 'jim': 2458, 'moon': 2915, 'drift': 1398, 'marketing': 2763, 'theater': 4448, 'unnecessary': 4686, 'chemistry': 793, 'conversation': 1016, 'acceptable': 114, 'anger': 262, 'hilarious': 2156, 'humour': 2230, 'artsy': 337, 'demand': 1210, 'loser': 2687, 'asks': 348, 'bird': 515, 'titanic': 4519, 'drawn': 1392, 'profanity': 3470, 'degrade': 1195, 'beneath': 493, 'writing': 4959, 'is': 2413, 'fair': 1687, 'appeal': 299, 'vulgar': 4799, 'offensive': 3096, 'likeable': 2629, 'swear': 4357, '22': 49, 'grass': 2022, 'altogether': 235, 'tragic': 4567, 'scott': 3887, 'wont': 4927, 'collect': 889, 'depress': 1222, 'tackle': 4374, 'smile': 4087, 'retard': 3737, 'mel': 2820, 'isnt': 2416, 'liner': 2638, 'excess': 1625, 'inspirational': 2350, 'endear': 1524, 'anecdote': 260, 'north': 3048, 'thirty': 4470, 'phrase': 3299, 'stitch': 4243, 'vital': 4785, 'understands': 4659, 'artwork': 338, 'feast': 1720, 'dynamic': 1434, 'accompany': 121, 'exotic': 1640, 'whimsical': 4872, 'lovely': 2697, 'host': 2206, 'protagonist': 3496, 'narrator': 2977, 'greek': 2028, 'richly': 3758, 'diverse': 1342, 'seek': 3915, 'preserve': 3431, 'tradition': 4564, 'interact': 2375, 'environment': 1555, 'promising': 3482, 'sin': 4035, 'whenever': 4866, 'habit': 2061, 'judging': 2475, 'forever': 1833, 'account': 124, 'pagan': 3193, 'religion': 3673, 'stereotypical': 4230, 'suitable': 4319, 'disrespect': 1329, 'witness': 4917, 'jean': 2447, 'closest': 867, 'president': 3432, 'fed': 1723, 'article': 332, 'lady': 2539, '1998': 30, 'http': 2221, 'location': 2667, 'conspiracy': 985, 'laughable': 2563, 'lighter': 2623, '1963': 23, 'government': 2004, 'statement': 4217, 'claimed': 838, 'nonsense': 3044, 'department': 1216, 'mad': 2714, 'ramblings': 3567, 'sum': 4320, 'physically': 3301, 'furthermore': 1903, 'insane': 2343, 'evidence': 1604, 'under': 4652, 'education': 1465, 'sword': 4364, 'december': 1171, '9th': 95, 'recieved': 3622, 'absolutly': 104, 'confident': 967, 'these': 4460, 'steel': 4224, 'buddy': 641, 'symbol': 4365, 'blade': 524, 'contain': 993, 'adaptation': 146, 'gibberish': 1959, 'convert': 1017, 'curve': 1121, 'update': 4699, 'gap': 1924, 'heaven': 2123, 'scent': 3871, 'crush': 1103, 'develops': 1253, 'nicely': 3017, 'slap': 4065, 'method': 2847, 'possibility': 3388, 'gault': 1932, 'uncle': 4649, 'investigation': 2400, 'york': 4986, 'dump': 1426, 'affair': 179, 'honesty': 2187, 'adjective': 156, 'apparent': 297, 'suffer': 4311, 'tripe': 4601, 'implausible': 2278, 'understandable': 4658, 'brain': 593, 'froze': 1886, 'sixth': 4051, 'labor': 2534, 'bizarre': 522, 'gut': 2057, 'factual': 1681, 'integrity': 2366, 'pale': 3204, 'ignorant': 2257, 'regard': 3649, 'profile': 3473, 'thumb': 4493, 'pit': 3320, 'contrive': 1010, 'meaningless': 2804, 'sympathetic': 4367, 'conflict': 969, 'pile': 3310, 'remainder': 3677, 'table': 4373, 'inconsistent': 2302, 'temple': 4415, 'struck': 4278, 'scary': 3867, 'emotionally': 1511, 'continued': 1001, 'spoil': 4183, 'intelligence': 2368, 'medical': 2812, 'virginia': 4775, 'whose': 4879, 'central': 753, 'park': 3223, 'terrify': 4431, 'accuracy': 125, 'storyteller': 4256, 'posse': 3387, 'inevitable': 2321, 'fireplace': 1772, 'doc': 1347, 'genius': 1947, 'engineer': 1532, 'stilted': 4239, 'oil': 3104, 'ring': 3767, 'profit': 3474, 'terror': 4432, 'bluegrass': 546, 'proven': 3501, 'progress': 3478, 'met': 2843, 'pass': 3232, 'realizes': 3606, 'torn': 4543, 'thousand': 4480, 'grant': 2019, 'retain': 3736, 'noisy': 3039, 'vibration': 4758, 'massager': 2778, 'objective': 3074, 'finding': 1764, 'display': 1326, 'grasp': 2021, 'advance': 168, 'principle': 3450, 'desert': 1232, 'afraid': 183, 'hey': 2147, 'bitter': 521, 'friday': 1877, 'knowledgeable': 2524, 'bank': 425, 'arab': 312, 'civilization': 836, 'hunter': 2235, 'port': 3376, 'ark': 321, 'giant': 1958, 'map': 2751, 'disappear': 1297, 'chat': 781, 'superficial': 4327, 'scientific': 3880, 'lincoln': 2635, 'perception': 3268, 'belongs': 487, '19th': 32, 'hazlitt': 2105, 'understood': 4660, 'economic': 1455, 'intervention': 2387, 'written': 4960, 'vote': 4796, 'planning': 3331, 'discus': 1311, 'economy': 1457, 'capitalism': 703, 'merit': 2838, 'significantly': 4023, 'ideal': 2249, 'stick': 4234, 'serve': 3948, 'tend': 4421, 'third': 4469, 'conservative': 979, 'rant': 3575, 'relevant': 3669, 'crisis': 1090, 'politician': 3364, 'classroom': 846, 'stars': 4213, 'failure': 1686, 'agent': 192, 'scam': 3857, 'definition': 1191, 'outdated': 3159, 'reflect': 3643, 'moreover': 2919, 'settle': 3953, '101': 6, 'libertarian': 2611, 'broken': 628, 'mental': 2830, 'pro': 3459, 'damn': 1137, 'benefit': 494, 'cave': 741, 'union': 4673, 'piss': 3319, 'amazingly': 240, 'university': 4679, 'chicago': 797, 'crazy': 1074, 'march': 2753, 'fundamental': 1897, 'overwhelm': 3180, 'majority': 2728, 'cite': 832, '60': 78, 'growth': 2044, 'revolutionary': 3748, 'directly': 1291, 'plague': 3326, 'very': 4752, 'foundation': 1852, 'von': 4794, 'credit': 1083, 'depression': 1224, 'prove': 3500, 'elementary': 1490, 'fellow': 1733, 'loss': 2689, 'fancy': 1700, 'consequence': 978, 'tremendous': 4591, 'tax': 4392, 'destroy': 1242, 'micro': 2852, 'necessary': 2995, 'measure': 2806, 'aka': 205, 'enemy': 1528, 'narration': 2975, 'tedious': 4406, 'donate': 1363, 'rigid': 3766, '250': 53, 'was': 4824, '1950': 21, 'critique': 1096, 'capitalist': 704, 'popular': 3372, 'agenda': 191, 'rarely': 3580, 'omit': 3110, 'contrary': 1006, 'grain': 2011, 'salt': 3832, 'west': 4856, 'health': 2113, 'dangerous': 1141, 'myth': 2969, 'context': 999, 'corporate': 1036, 'humanity': 2226, 'trade': 4563, 'net': 3005, 'et': 1585, 'hammer': 2070, 'blind': 536, 'based': 435, 'utopian': 4725, 'anytime': 288, 'worship': 4942, 'tout': 4554, 'enlighten': 1542, 'sanity': 3841, 'casual': 730, 'spring': 4193, 'premise': 3423, 'lifetime': 2620, 'prophetic': 3493, 'surprisingly': 4348, 'paul': 3249, 'skim': 4059, 'faulty': 1715, 'apparently': 298, 'promote': 3483, 'duty': 1430, 'equation': 1562, 'analyze': 255, 'narrow': 2978, 'introductory': 2395, 'importantly': 2282, 'spends': 4172, 'recycle': 3632, 'pepper': 3265, 'concerned': 958, 'wan': 4810, 'secretly': 3909, 'instrument': 2363, 'velvet': 4746, 'electronica': 1487, 'tire': 4516, 'ho': 2170, 'dumb': 1424, 'im': 2266, 'stellar': 4226, 'challenged': 763, 'musical': 2958, 'animate': 266, 'punch': 3519, 'exists': 1638, 'station': 4218, 'transport': 4578, 'feeling': 1730, 'definitly': 1193, 'tripod': 4602, 'bag': 415, 'circuit': 830, 'anderson': 259, 'poverty': 3400, 'journey': 2471, 'daniel': 1142, 'hidden': 2149, 'constant': 986, 'nineteen': 3030, 'contribution': 1009, 'minority': 2877, 'incomprehensible': 2301, 'anthology': 279, 'christian': 817, 'torso': 4544, 'corset': 1040, 'cincher': 825, 'boning': 560, 'chest': 794, 'wire': 4907, 'bra': 590, 'whereas': 4867, 'custom': 1123, 'cloth': 869, 'squeem': 4196, 'shapewear': 3976, 'nicer': 3018, 'bone': 559, 'butt': 668, 'hardly': 2088, 'vintage': 4769, 'expensive': 1645, 'clothes': 870, 'training': 4571, 'comfortably': 906, 'layer': 2569, 'measurement': 2807, '00': 0, 'posture': 3394, 'associate': 356, 'reduce': 3637, 'clothing': 871, 'sweat': 4358, 'made': 2715, 'opt': 3131, 'which': 4869, 'bust': 665, 'tighter': 4500, 'boob': 563, '36': 63, 'dd': 1157, 'everyday': 1599, 'belly': 484, 'pregnancy': 3420, 'sick': 4015, 'thicker': 4463, 'literally': 2653, 'desk': 1237, 'pleasant': 3342, 'flexible': 1797, 'unbearable': 4647, 'bulge': 652, 'spare': 4152, 'fold': 1817, 'shirt': 3994, 'lift': 2621, 'upset': 4705, 'miracle': 2880, 'squeeze': 4197, 'fraction': 1856, 'lb': 2572, 'tummy': 4615, 'thou': 4476, 'exhaust': 1635, 'tank': 4383, 'irritated': 2412, 'tall': 4381, 'inner': 2339, 'cotton': 1044, 'pure': 3525, 'occasion': 3082, 'birth': 516, 'specifically': 4163, 'bulky': 653, 'closing': 868, 'speed': 4168, 'firm': 1774, 'surgery': 4343, 'stomach': 4247, 'underneath': 4655, 'breathing': 607, 'bell': 483, 'snug': 4097, 'concentrate': 955, 'breast': 604, 'compress': 949, 'believer': 481, 'pregnant': 3421, 'pinch': 3315, 'ur': 4707, 'downside': 1379, 'portion': 3378, 'delivers': 1206, 'sock': 4104, 'core': 1032, 'once': 3112, 'shorter': 4003, 'upper': 4703, 'defeat': 1182, 'increase': 2305, 'bent': 495, 'repair': 3698, 'unreal': 4689, 'gym': 2059, 'days': 1155, 'visible': 4778, 'pink': 3316, 'spine': 4178, 'severe': 3957, 'injury': 2337, 'surpass': 4344, 'burn': 660, 'suprise': 4336, 'merchandise': 2836, 'fitting': 1783, 'slim': 4077, 'absorb': 105, 'abandon': 97, 'torture': 4545, 'asap': 340, 'instant': 2357, 'ease': 1446, 'loop': 2681, 'seam': 3901, 'bend': 492, 'eventually': 1594, 'visually': 4783, 'divide': 1343, 'ouch': 3155, 'daily': 1132, 'rod': 3783, 'painfully': 3198, 'ultimately': 4638, 'wound': 4949, 'encourage': 1522, 'trap': 4579, 'diet': 1274, '150': 15, 'anticipate': 282, '28': 56, 'near': 2991, 'steam': 4223, 'badly': 414, 'havent': 2103, 'hence': 2138, 'wider': 4885, 'reminder': 3684, 'occur': 3085, 'slight': 4074, 'stamp': 4204, 'disease': 1315, 'terribly': 4429, 'gross': 2038, 'wal': 4805, 'mart': 2769, 'sometime': 4121, 'jan': 2435, 'aircraft': 202, '1996': 29, 'marie': 2757, 'doll': 1358, 'owe': 3181, 'seemingly': 3917, 'permanent': 3278, 'china': 804, 'german': 1954, 'jimmy': 2459, 'acting': 135, 'nine': 3029, 'unwatchable': 4695, 'cheese': 790, 'scholarly': 3875, 'mold': 2899, 'distinct': 1336, 'prof': 3469, 'mass': 2776, 'formal': 1839, 'gold': 1986, 'overcome': 3170, 'vinyl': 4770, 'rhapsody': 3752, 'caan': 676, 'higgins': 2151, 'danger': 1140, 'publisher': 3513, 'sean': 3902, 'license': 2615, 'justice': 2489, 'pickup': 3306, 'competition': 933, 'british': 623, 'legal': 2593, 'entertainment': 1547, 'dillon': 1282, 'speaks': 4157, 'dozen': 1381, 'para': 3213, 'born': 574, 'expose': 1659, 'smoke': 4089, 'jumped': 2482, 'generous': 1945, '5th': 77, 'sequel': 3940, 'status': 4219, 'oops': 3118, 'th': 4440, 'aspire': 351, 'strangely': 4261, 'editor': 1463, 'dialog': 1261, 'kate': 2492, 'reaction': 3593, 'rough': 3798, 'curiosity': 1115, 'tension': 4424, 'executive': 1633, 'cliche': 854, 'guard': 2048, 'target': 4387, 'shoot': 3998, 'timing': 4512, 'characters': 773, 'silent': 4024, 'jefferson': 2449, 'extension': 1664, 'craze': 1073, 'meeting': 2818, 'twenty': 4624, 'spy': 4194, 'cartoon': 723, 'pose': 3384, 'jacket': 2428, 'dust': 1429, 'harry': 2095, 'screenplay': 3892, 'shred': 4011, 'shall': 3972, 'uninspired': 4671, 'critical': 1093, 'slightest': 4075, 'eagle': 1437, 'sudden': 4308, 'dy': 1433, 'going': 1985, 'saga': 3828, 'bernstein': 497, 'precede': 3412, 'nerve': 3004, 'irish': 2406, 'hack': 2062, 'stinker': 4242, 'schwartz': 3877, 'los': 2685, 'times': 4511, 'before': 470, 'rabbit': 3551, 'steal': 4222, 'ballroom': 420, 'vega': 4742, 'duke': 1422, 'swing': 4362, 'greatness': 2026, 'herb': 2141, 'precise': 3414, 'plant': 3332, 'scanner': 3859, 'vista': 4781, 'scan': 3858, 'firmware': 1775, '2008': 43, 'jane': 2436, 'universe': 4678, 'scarlett': 3865, 'ridiculously': 3763, 'tear': 4399, 'scarlet': 3864, 'hawthorne': 2104, 'huxley': 2242, 'vacation': 4728, 'puritan': 3527, '11th': 9, 'confess': 965, 'physical': 3300, 'reccomend': 3615, 'auto': 387, 'dolby': 1357, 'mundane': 2953, 'allusion': 220, 'hester': 2146, 'dealt': 1162, 'convey': 1018, 'overrate': 3176, 'indulgent': 2318, 'dickens': 1268, 'creates': 1077, 'fahrenheit': 1683, '451': 71, 'footnote': 1827, 'nonetheless': 3043, 'grip': 2034, 'his': 2162, 'neat': 2993, 'essence': 1576, 'candy': 694, 'at': 361, 'breathtaking': 608, 'navigate': 2987, 'ebook': 1453, 'nathaniel': 2980, 'strength': 4267, 'psychological': 3508, 'divorce': 1344, 'adultery': 167, 'punishment': 3520, 'reprint': 3710, 'irritate': 2411, 'confirm': 968, 'pretentious': 3436, 'era': 1566, 'mildly': 2861, 'assignment': 355, 'dread': 1393, 'aunt': 380, 'honor': 2188, 'wordy': 4931, 'disturbed': 1340, 'dirt': 1293, 'empathize': 1512, 'tragedy': 4566, 'effectively': 1471, 'reccommend': 3616, 'mainly': 2724, 'historically': 2166, 'pill': 3311, 'taught': 4391, 'timely': 4509, 'cliff': 858, 'robot': 3778, 'indeed': 2308, 'beg': 471, 'unfamiliar': 4664, 'suffers': 4312, 'dislike': 1323, 'empty': 1517, 'wander': 4811, 'filler': 1754, 'vice': 4760, 'awhile': 402, 'specify': 4164, 'assign': 354, 'more': 2918, 'cliched': 855, 'masterful': 2781, 'literary': 2654, 'rule': 3810, 'shell': 3984, 'meat': 2808, 'belong': 486, '18': 18, 'cheat': 786, 'spirit': 4179, 'paperback': 3210, 'engross': 1536, 'brings': 621, 'flawless': 1792, 'irony': 2409, 'exceptional': 1623, 'feed': 1725, 'yawn': 4973, 'shadow': 3967, 'headache': 2109, 'jeff': 2448, 'ap': 292, 'hint': 2159, 'quote': 3548, '500': 75, 'significant': 4022, 'inability': 2291, 'revelation': 3742, 'fist': 1780, 'court': 1057, 'unlikely': 4683, 'spider': 4175, 'bang': 424, 'exceptionally': 1624, 'surprising': 4347, 'uninteresting': 4672, 'sucker': 4306, 'forth': 1844, 'sophomore': 4135, 'degree': 1196, 'exam': 1614, 'deserve': 1233, 'afterwards': 188, 'reject': 3658, 'exposure': 1660, 'versus': 4751, 'refresh': 3646, 'construct': 988, 'noble': 3035, 'judge': 2474, 'applicable': 303, 'ought': 3156, 'peel': 3258, 'serf': 3942, 'redemption': 3635, 'comfort': 904, 'teenager': 4409, 'font': 1822, 'sappy': 3844, 'victorian': 4762, 'sue': 4310, '10th': 7, 'wrench': 4953, 'ignorance': 2256, 'portray': 3380, 'okay': 3106, 'slowly': 4082, 'lightly': 2624, 'lock': 2668, 'attic': 371, 'mentally': 2832, 'sandra': 3840, 'tempt': 4418, 'therapy': 4457, 'cure': 1113, 'insomnia': 2348, 'bloody': 540, 'junior': 2486, 'patient': 3244, 'rank': 3574, 'readily': 3597, 'october': 3087, 'luck': 2701, 'meaningful': 2803, 'ashamed': 342, 'harsh': 2096, 'stress': 4268, 'gamble': 1917, 'thier': 4464, 'poem': 3352, 'orwell': 3150, 'bradbury': 591, 'attack': 367, 'dare': 1143, 'superior': 4328, 'arthur': 331, 'visual': 4782, 'aid': 198, 'moore': 2916, 'introduces': 2393, 'poetic': 3354, 'renew': 3695, 'pride': 3444, 'fest': 1740, 'favor': 1716, 'intellectual': 2367, 'dreary': 1396, 'dreadful': 1394, 'aim': 199, 'miserably': 2882, 'beating': 459, 'numerous': 3069, 'explores': 1657, 'composition': 946, 'determine': 1248, 'relates': 3661, 'bush': 663, 'prison': 3455, 'rain': 3562, 'proof': 3487, 'suprised': 4337, 'senior': 3928, 'dual': 1415, 'meaning': 2802, 'tomato': 4529, 'anthony': 280, 'wilbur': 4890, 'ft': 1890, 'listing': 2651, 'cent': 751, 'suction': 4307, 'cleaning': 850, 'tray': 4585, 'compartment': 928, 'knife': 2516, 'board': 551, 'most': 2923, 'vs': 4798, 'se': 3898, 'asia': 343, 'lao': 2548, 'august': 379, 'australian': 383, 'sloppy': 4079, 'functional': 1896, 'yep': 4979, 'probe': 3461, 'convince': 1019, 'atrocious': 365, 'wouldnt': 4948, 'kiss': 2511, 'jerry': 2453, 'lewis': 2608, 'through': 4488, 'depressed': 1223, 'holiday': 2176, 'cancel': 692, 'dissapointment': 1332, 'receipt': 3617, 'rude': 3807, 'funniest': 1901, 'discount': 1306, 'rack': 3555, 'pretend': 3435, 'bomb': 557, 'flop': 1804, 'simpson': 4034, 'drunk': 1412, 'whitney': 4876, 'crack': 1065, 'santa': 3843, 'teeth': 4410, 'billy': 509, 'remotely': 3690, 'diehard': 1273, 'downright': 1378, 'stargate': 4211, 'signal': 4020, 'gas': 1931, 'pulse': 3516, 'flute': 1811, 'sax': 3854, 'storm': 4253, 'jones': 2468, 'quartet': 3535, 'william': 4894, 'dave': 1151, 'shut': 4013, 'edward': 1467, 'rail': 3561, 'yer': 4980, 'flag': 1786, 'reasonable': 3610, 'elvis': 1499, 'deborah': 1167, 'drummer': 1411, 'le': 2574, 'king': 2509, 'height': 2129, 'una': 4643, 'cinema': 826, 'chase': 780, 'erotic': 1568, 'listenable': 2648, 'motion': 2927, 'properly': 3491, 'expire': 1651, 'assembly': 353, 'ebay': 1452, 'separately': 3938, 'guarantee': 2046, 'shade': 3966, 'rubbed': 3804, 'fortune': 1847, 'grows': 2043, 'hardware': 2089, 'knob': 2519, 'er': 1565, 'conduct': 964, 'other': 3152, 'grind': 2032, 'grinder': 2033, 'operate': 3123, 'shoddy': 3996, 'jensen': 2451, 'pitch': 3321, 'accessible': 116, 'industry': 2320, 'influential': 2328, 'fortunate': 1845, '21st': 48, 'phd': 3289, 'document': 1349, 'fuzzy': 1907, '39': 64, 'unacceptable': 4645, 'unfortunate': 4666, 'fluff': 1809, 'breathe': 606, 'affect': 180, 'academy': 111, 'oscar': 3151, 'bible': 505, 'journalist': 2470, 'minimal': 2873, 'hype': 2243, 'definite': 1189, 'metallica': 2845, 'notify': 3057, 'garage': 1925, 'successfully': 4304, 'diagram': 1260, 'instructor': 2362, 'scale': 3856, 'refers': 3641, 'violet': 4773, 'promptly': 3485, 'spoken': 4186, 'photography': 3298, 'st': 4198, 'louis': 2692, 'un': 4642, 'originality': 3146, 'groove': 2037, 'adapt': 145, 'rhyme': 3753, 'cube': 1107, 'gadget': 1913, 'refill': 3642, 'lip': 2642, 'ran': 3569, 'lunchbox': 2706, 'stain': 4203, 'crocodile': 1097, '1st': 33, 'lunch': 2705, 'drink': 1400, 'soup': 4144, 'breath': 605, 'ban': 421, 'woven': 4950, 'pray': 3409, 'temptation': 4419, 'perfection': 3270, 'evolve': 1610, 'descent': 1226, 'bum': 655, 'mediocre': 2815, 'mar': 2752, 'johnson': 2464, 'bland': 527, 'ps': 3506, 'proud': 3499, 'biological': 514, 'eyed': 1673, 'gloria': 1974, 'wilson': 4897, 'lp': 2700, 'howard': 2216, 'anne': 271, 'epic': 1557, 'rocker': 3780, 'slick': 4072, 'annie': 272, 'ann': 270, 'career': 713, 'wolf': 4921, 'rockin': 3782, 'sorely': 4137, 'slave': 4067, 'mistress': 2889, 'truely': 4608, 'corny': 1035, 'durability': 1427, 'magnificent': 2721, 'complexity': 940, 'sonic': 4128, 'progressive': 3479, 'rhythm': 3754, 'spectrum': 4166, '75': 83, 'velcro': 4745, 'walker': 4807, 'collins': 893, 'sam': 3833, 'charlie': 777, 'hall': 2067, 'rage': 3559, 'goodie': 1991, 'clock': 862, 'scripture': 3896, 'christ': 816, 'blu': 544, 'ray': 3590, 'hd': 2106, 'deluxe': 1209, 'sync': 4369, 'mouth': 2936, 'warner': 4819, 'whim': 4871, 'eve': 1591, 'quest': 3538, '3d': 65, 'gang': 1923, 'broadcast': 625, 'capacity': 701, 'babe': 406, 'wise': 4910, 'eternal': 1587, 'charles': 776, 'crew': 1086, 'jesus': 2454, 'worry': 4941, 'bless': 533, 'passage': 3233, 'crisp': 1091, 'newer': 3009, 'politically': 3363, 'gentle': 1949, 'speech': 4167, 'uneven': 4662, 'thankfully': 4443, 'spec': 4159, 'min': 2868, 'sew': 3959, 'couch': 1045, 'soooo': 4133, 'widescreen': 4886, 'creation': 1078, 'upside': 4706, 'connect': 973, 'slept': 4071, 'mattress': 2789, 'powerbook': 3402, 'g4': 1911, 'adapter': 147, 'amp': 249, 'ibook': 2245, 'macally': 2711, 'ac': 109, 'apple': 302, 'cycle': 1128, 'g3': 1910, 'fiddle': 1746, 'connection': 974, 'indicator': 2315, 'fluke': 1810, 'generate': 1942, 'bargain': 431, 'brick': 613, 'handy': 2075, 'adaptor': 148, '65': 80, 'connector': 975, 'resume': 3733, 'sufficient': 4313, 'continuously': 1004, 'prone': 3486, 'drawback': 1390, '2001': 37, 'operation': 3125, 'await': 395, 'request': 3712, 'initial': 2335, '2005': 41, 'quiet': 3543, 'hum': 2224, 'manages': 2739, 'orange': 3135, 'airport': 204, 'backpack': 411, 'affordable': 182, '2003': 39, 'indicates': 2314, 'when': 4865, 'glance': 1968, 'electrical': 1485, 'sacrifice': 3822, 'dc': 1156, 'transformer': 4574, 'idiot': 2253, 'satisfaction': 3848, 'outer': 3161, 'taped': 4386, 'disconnect': 1304, 'hassle': 2097, 'obtain': 3079, 'resolve': 3720, 'usage': 4713, 'lemon': 2596, 'only': 3115, 'conscious': 977, 'oem': 3092, 'justify': 2490, 'unstable': 4692, 'um': 4641, 'overprice': 3175, 'temporary': 4417, 'destroyed': 1243, 'compact': 923, 'puppy': 3522, 'operating': 3124, 'link': 2639, 'whine': 4873, 'shaft': 3968, 'odds': 3089, 'binchy': 511, 'spending': 4171, 'fuss': 1904, 'discourage': 1307, 'silver': 4026, 'poignant': 3356, 'observation': 3077, 'marvelous': 2773, 'nephew': 3003, 'artistic': 336, 'whip': 4874, 'busy': 666, 'improvement': 2289, 'jumping': 2483, 'toddler': 4523, 'pin': 3314, 'bead': 454, 'sand': 3837, 'scifi': 3882, 'spiritual': 4180, 'dude': 1419, 'blowing': 542, 'booklet': 565, 'il': 2260, 'tempo': 4416, 'del': 1198, 'empire': 1516, 'dire': 1288, 'tate': 4390, 'mike': 2859, 'wine': 4901, 'por': 3374, 'en': 1518, 'ella': 1495, 'excelente': 1619, 'ma': 2709, 'brian': 612, 'rust': 3817, 'manufacture': 2747, 'earn': 1443, 'verse': 4749, 'leader': 2576, 'cannon': 695, 'expedition': 1644, 'river': 3773, 'from': 1884, 'fort': 1843, 'gun': 2056, 'trek': 4590, 'install': 2353, 'mount': 2933, 'mechanical': 2809, 'bean': 455, 'evident': 1605, 'traveler': 4583, 'does': 1352, 'scenery': 3870, 'odysseus': 3090, 'ulysses': 4640, 'infrared': 2333, 'vibrate': 4757, 'bulb': 651, 'heating': 2122, 'woke': 4920, 'occasional': 3083, 'eddie': 1459, '1970s': 25, 'latin': 2560, 'funk': 1899, 'texture': 4439, 'testament': 4436, 'circumstance': 831, 'aussie': 381, 'popped': 3371, 'shower': 4010, 'creep': 1084, 'writen': 4956, 'photograph': 3297, 'reunion': 3739, 'webb': 4846, 'dimension': 1283, 'glen': 1970, 'campbell': 689, 'upbeat': 4697, 'lightning': 2626, 'dwarf': 1432, 'interpretation': 2386, 'organize': 3143, 'amish': 245, 'therapist': 4456, 'absorbed': 106, 'platform': 3335, 'ego': 1475, 'commentary': 913, 'enthral': 1548, 'disgrace': 1316, 'humble': 2227, 'cooker': 1025, 'uplift': 4701, 'importance': 2280, 'simplicity': 4031, 'quilt': 3544, 'sentiment': 3936, 'insightful': 2347, 'calm': 683, 'east': 1448, '1984': 27, 'marine': 2758, 'closely': 865, 'leak': 2580, 'we': 4838, 'meal': 2799, 'locally': 2665, 'output': 3165, 'celtic': 747, 'wipe': 4906, 'chore': 812, 'bunny': 658, 'shaker': 3970, 'invasion': 2397, 'coherent': 883, 'burmese': 659, 'breed': 609, 'chicken': 799, 'raw': 3589, 'characteristic': 771, 'gorgeous': 1998, 'trace': 4561, 'enable': 1519, 'napoleon': 2974, 'biography': 513, 'emperor': 1514, 'praise': 3407, 'criticize': 1095, 'memoir': 2826, 'lab': 2531, 'sinister': 4042, 'underground': 4653, 'ghost': 1957, 'setup': 3954, 'housing': 2213, 'rural': 3813, 'urban': 4708, 'fifty': 1748, 'cleaner': 849, 'catherine': 736, 'cream': 1075, 'dishwasher': 1320, 'headset': 2111, 'bluetooth': 547, 'motorola': 2932, 'wannabe': 4812, 'clip': 861, 'harmony': 2092, 'songwriter': 4127, 'manufacturing': 2749, 'taylor': 4393, 'boat': 552, 'pocket': 3351, 'arrange': 325, 'immortal': 2275, 'chill': 803, 'thrash': 4481, 'reform': 3645, 'northern': 3049, 'dome': 1361, 'xmas': 4968, 'diameter': 1263, 'google': 1995, 'prep': 3424, 'lecture': 2588, 'brazil': 599, 'scope': 3884, 'companion': 924, 'experiment': 1648, 'tilt': 4504, 'adjustment': 159, 'opener': 3120, 'drill': 1399, 'paste': 3238, 'dolly': 1360, 'parton': 3229, 'sustain': 4356, 'sugar': 4314, 'independent': 2309, 'unforgettable': 4665, 'musicianship': 2960, 'fond': 1820, 'soar': 4100, 'lhasa': 2609, 'kurt': 2528, 'bat': 443, '800': 87, 'smoking': 4090, 'tango': 4382, 'ala': 207, 'subsequent': 4295, 'demonstrate': 1212, 'modest': 2898, 'abroad': 100, 'spooky': 4187, 'knight': 2517, 'mrs': 2943, 'accurately': 127, 'accent': 112, 'elizabeth': 1494, 'whats': 4862, 'sir': 4044, 'simon': 4028, 'laughter': 2564, 'mankind': 2741, 'bubble': 636, 'holy': 2181, 'standout': 4207, 'deeper': 1180, 'bolt': 556, 'now': 3062, 'chew': 795, 'route': 3800, 'preach': 3411, 'india': 2311, 'sport': 4188, 'headphone': 2110, 'eidos': 1477, 'gameplay': 1920, 'tomb': 4530, 'raider': 3560, 'lara': 2551, 'horrid': 2199, 'blank': 528, '2000': 36, 'turkey': 4617, 'delay': 1199, 'controller': 1012, 'sensitive': 3931, 'fence': 1739, 'news': 3012, 'preview': 3439, 'franchise': 1860, 'viewpoint': 4766, 'playable': 3337, 'sticker': 4235, 'unusable': 4693, 'glitch': 1973, 'explosion': 1658, 'randomly': 3571, 'cow': 1062, 'resident': 3718, 'washer': 4826, 'deck': 1176, 'chemical': 792, 'chlorine': 807, 'network': 3006, 'retailer': 3735, 'disposable': 1328, 'motor': 2930, 'concern': 957, 'absent': 101, 'impact': 2277, 'fishing': 1779, 'buggy': 646, 'ultra': 4639, 'relevance': 3668, 'desperate': 1239, 'forum': 1849, 'foreign': 1832, 'actress': 140, 'watson': 4834, 'desperately': 1240, 'succeed': 4301, 'merely': 2837, 'erotica': 1569, 'inaccurate': 2292, 'realise': 3601, 'lust': 2707, 'devote': 1256, 'fragile': 1857, 'staple': 4208, 'sarah': 3845, 'devoid': 1255, 'backdrop': 409, 'wierd': 4888, 'dawn': 1153, 'fly': 1812, 'clamp': 839, 'round': 3799, 'april': 311, '2011': 45, 'buddhism': 639, 'inevitably': 2322, '1962': 22, 'monologue': 2906, 'entirety': 1552, 'notion': 3058, 'documentary': 1350, '32': 61, 'vol': 4792, 'restore': 3731, 'shoulder': 4006, 'rope': 3796, 'escape': 1572, 'reverse': 3744, 'ordered': 3138, 'anchor': 256, 'semi': 3925, 'logical': 2671, 'code': 881, 'harder': 2087, 'heavier': 2124, 'brutal': 634, 'notch': 3052, 'mayhem': 2794, 'interface': 2380, 'army': 323, 'arch': 314, 'strategy': 4264, 'demo': 1211, 'few': 1742, 'tribe': 4594, 'intro': 2391, 'partial': 3225, 'listens': 2650, 'deaf': 1160, 'reggae': 3651, 'esteem': 1583, 'alert': 213, 'cousin': 1059, 'fame': 1694, 'buddhist': 640, 'of': 3093, 'obnoxious': 3075, 'humorous': 2229, 'quirky': 3545, 'reread': 3714, 'tremendously': 4592, 'blessing': 534, 'leadership': 2577, 'lace': 2535, 'strand': 4259, 'bob': 553, 'cage': 678, 'martin': 2771, 'discovery': 1310, 'belva': 489, 'consume': 990, 'stable': 4199, 'immensely': 2274, 'pursue': 3529, 'grabbed': 2006, 'gerald': 1953, 'breakdown': 602, 'coat': 878, 'strictly': 4270, 'toss': 4546, 'bin': 510, 'golf': 1988, 'filter': 1757, 'unlock': 4685, 'roller': 3786, 'coaster': 877, 'cons': 976, 'boo': 562, 'bruce': 632, 'martial': 2770, 'provoking': 3505, 'ending': 1525, 'relation': 3662, 'discipline': 1303, 'grey': 2030, 'harlequin': 2091, 'melissa': 2821, 'undoubtedly': 4661, 'delete': 1200, 'blast': 530, 'virus': 4777, 'midi': 2856, 'countless': 1051, 'component': 943, 'polish': 3361, 'como': 922, 'examination': 1615, 'glue': 1979, 'accessory': 117, 'bow': 583, 'consists': 984, 'indian': 2312, 'minus': 2878, 'intent': 2372, 'nt': 3064, 'nickel': 3020, 'installation': 2354, 'continuous': 1003, '1911': 20, 'comparison': 927, 'pan': 3206, 'lightness': 2625, 'nikon': 3028, 'usable': 4712, 'zoom': 4999, 'lens': 2599, 'hilditch': 2157, 'prize': 3458, 'felicia': 1731, 'supplement': 4330, 'golden': 1987, 'pump': 3517, 'mug': 2949, 'liquid': 2644, 'monitor': 2903, 'adjustable': 158, 'crappy': 1068, 'generic': 1944, 'translate': 4576, 'marvel': 2772, 'ministry': 2875, 'newly': 3010, 'esque': 1574, 'representation': 3709, 'violent': 4772, 'origin': 3144, 'picky': 3307, 'leather': 2586, 'alarm': 208, 'carpet': 718, 'ceiling': 744, 'pricey': 3443, 'approve': 310, 'manually': 2746, 'curtain': 1120, 'emergency': 1506, 'dive': 1341, 'wisdom': 4909, 'brainless': 594, 'boxed': 587, 'neighbor': 3001, 'journal': 2469, 'linear': 2637, 'madonna': 2717, 'dean': 1163, 'shout': 4007, 'whoever': 4877, 'defect': 1183, 'basement': 436, 'valve': 4734, 'nipple': 3031, 'lane': 2546, 'launch': 2565, 'securely': 3912, 'subtitle': 4299, 'yoga': 4985, 'workbook': 4934, 'tribute': 4595, 'riff': 3764, 'ironic': 2408, 'expression': 1662, 'xanth': 4966, 'unreadable': 4688, 'zombie': 4998, 'dale': 1133, 'elevator': 1492, 'beatles': 460, 'asian': 344, 'pool': 3367, 'coleman': 885, 'ant': 277, 'soviet': 4148, 'tightly': 4501, 'region': 3653, 'makeup': 2731, 'lesbian': 2600, 'consistent': 982, 'elastic': 1483, 'fee': 1724, 'removable': 3691, 'tile': 4502, 'warmth': 4817, 'national': 2982, 'riddle': 3760, 'korean': 2526, 'cookbook': 1023, 'pa': 3185, 'establish': 1580, 'nyc': 3072, 'briefly': 616, 'phenomenal': 3290, 'acknowledge': 130, 'diabetic': 1259, 'medication': 2813, 'diabetes': 1258, 'kudos': 2527, 'educate': 1464, 'peak': 3255, 'med': 2811, 'venus': 4748, 'identical': 2250, 'buff': 644, 'luftwaffe': 2704, 'argentine': 317, 'dancer': 1139, 'routine': 3802, 'ranger': 3573, 'schedule': 3872, '4th': 73, 'effects': 1472, 'bd': 451, 'spiderman': 4176, 'extraordinary': 1668, '01': 2, '49': 72, 'samsung': 3835, 'xbox': 4967, 'russian': 3816, 'bold': 555, 'retail': 3734, 'grainy': 2012, 'diamond': 1264, 'acid': 129, 'wicca': 4881, 'invent': 2398, 'goddess': 1984, 'hutton': 2241, 'obscure': 3076, 'firewire': 1773, 'september': 3939, 'ad': 143, 'tony': 4535, 'lake': 2542, 'pitchshifter': 3322, 'industrial': 2319, 'marry': 2768, 'manager': 2738, 'scotland': 3886, 'canada': 691, 'ra': 3549, 'egyptian': 1476, 'amateurish': 238, 'rewrite': 3751, 'liberty': 2612, 'monumental': 2913, 'cameron': 686, 'gillian': 1963, 'popularity': 3373, 'gary': 1930, 'creature': 1081, 'communist': 920, 'haiku': 2063, 'van': 4736, 'handbook': 2072, 'poet': 3353, 'kerouac': 2499, 'skeptical': 4056, 'mothman': 2926, 'prophecy': 3492, 'keel': 2494, 'ufo': 4633, 'phenomenon': 3291, 'disjoint': 1321, 'sighting': 4018, 'albeit': 210, 'screenwriter': 3893, 'gordon': 1996, 'primarily': 3445, 'happening': 2078, 'mighty': 2858, 'storytelling': 4257, 'letdown': 2605, 'controversial': 1013, 'admittedly': 162, 'beast': 457, 'london': 2675, 'parallel': 3217, 'incoherent': 2299, 'scenario': 3868, 'goofy': 1994, 'monster': 2908, 'copyright': 1030, 'weave': 4844, 'driven': 1405, 'innovative': 2341, 'racism': 3553, 'fighter': 1750, 'lene': 2597, 'analog': 253, 'replay': 3705, 'censorship': 750, 'anime': 268, 'dubbed': 1417, 'suicide': 4317, 'math': 2786, 'newman': 3011, 'definitive': 1192, 'debate': 1166, 'nightwish': 3027, 'eva': 1590, 'est': 1579, 'frequent': 1872, 'temp': 4413, 'hospital': 2205, 'tent': 4425, 'criticism': 1094, 'maria': 2755, 'misplace': 2885, 'inadequate': 2293, 'cooked': 1024, 'emblem': 1505, 'snmp': 4095, 'reveals': 3741, 'lately': 2558, 'tooth': 4538, 'frankenstein': 1864, 'koontz': 2525, 'repetition': 3701, 'madness': 2716, 'canon': 696, 'rewind': 3750, 'eject': 1481, 'sixty': 4052, 'oprah': 3130, 'differently': 1277, 'warning': 4821, 'nirvana': 3032, 'cobain': 879, 'hardcore': 2085, 'estate': 1581, 'milk': 2864, 'rape': 3577, 'courtney': 1058, 'yea': 4974, 'tho': 4472, 'recover': 3631, 'doug': 1373, 'fitness': 1782, 'climb': 860, 'survival': 4351, 'hike': 2155, 'drip': 1402, 'gritty': 2035, 'dell': 1208, 'toxic': 4559, 'troma': 4604, 'citizen': 833, 'poster': 3393, 'utter': 4726, 'lesser': 2602, 'router': 3801, 'discontinue': 1305, 'marked': 2760, 'carriage': 719, 'vitex': 4786, '120': 11, 'finance': 1761, 'eliminate': 1493, 'mild': 2860, 'acne': 131, 'darker': 1145, 'admire': 160, 'exuviance': 1671, 'avail': 390, 'vibrator': 4759, 'heinlein': 2130, 'motivate': 2928, 'fare': 1704, 'depiction': 1220, 'realism': 3602, 'hardy': 2090, 'alec': 212, 'prediction': 3418, 'michigan': 2851, 'couldnt': 1047, 'scare': 3861, 'multi': 2951, 'monotonous': 2907, 'phase': 3288, 'bike': 507, 'grandfather': 2017, 'bradley': 592, 'crawford': 1071, 'outdoor': 3160, '5mm': 76, 'satire': 3847, 'juliet': 2479, 'sleeper': 4070, 'looking': 2680, 'dismiss': 1324, 'cinematography': 828, 'regime': 3652, 'paranoid': 3219, 'sf': 3963, 'voyage': 4797, 'counting': 1050, 'heater': 2121, 'chaos': 768, 'hopeful': 2193, 'pg': 3287, 'slot': 4080, 'postcard': 3392, '1000': 5, 'mt': 2945, 'pilot': 3313, 'accident': 118, 'gossip': 2001, 'barn': 432, 'nobel': 3034, 'bay': 448, 'dharma': 1257, 'contemplate': 995, 'hp': 2218, 'theology': 4454, 'shia': 3987, 'megan': 2819, 'fox': 1855, 'labeouf': 2533, 'ben': 490, 'provider': 3503, 'bluray': 549, 'ep': 1556, 'optimus': 3132, 'freak': 1867, 'mentality': 2831, '98': 93, 'continuity': 1002, 'cgi': 759, 'remake': 3679, 'procedure': 3463, 'bullet': 654, 'alter': 230, 'slam': 4064, 'huntington': 2236, 'dts': 1414, 'stupidity': 4289, 'blockbuster': 538, 'branch': 595, '8gb': 88, 'gb': 1934, 'jackson': 2429, 'will': 4893, 'syndrome': 4370, 'theatrical': 4450, 'alpha': 226, 'ticket': 4496, 'hockey': 2171, 'spoiler': 4184, 'destruction': 1244, 'bruckheimer': 633, 'cowboy': 1063, 'can': 690, 'helicopter': 2132, 'violin': 4774, 'specie': 4161, 'ie': 2254, 'epson': 1559, 'compatibility': 929, 'rambo': 3568, 'wwe': 4962, 'cena': 748, 'patrick': 3246, 'cringe': 1089, 'security': 3913, 'wrestling': 4954, 'hogan': 2172, 'afford': 181, 'terminator': 4427, 'marker': 2761, 'hiss': 2163, 'emarker': 1502, 'playlist': 3341, 'emarks': 1503, 'execution': 1632, 'censor': 749, 'gammell': 1922, 'ti': 4495, 'compromise': 951, 'gruesome': 2045, 'scarier': 3862, 'aloud': 225, 'mythology': 2970, 'rice': 3755, 'bellydance': 485, 'atea': 362, 'privacy': 3456, 'marlon': 2764, 'brando': 597, 'altitude': 234, 'tec': 4400, 'trail': 4568, 'rugged': 3808, 'warmer': 4816, 'muy': 2964, 'trim': 4599, 'condescend': 962, 'ralph': 3565, 'gabriel': 1912, 'cult': 1108, 'hound': 2210, 'ballet': 419, 'defense': 1186, 'predator': 3415, 'ryan': 3821, 'christopher': 821, 'officer': 3100, 'julie': 2478, 'malfunction': 2734, 'douglas': 1374, 'genuine': 1951, 'brio': 622, 'sensor': 3932, 'automatic': 388, 'feeder': 1727, 'jammed': 2433, 'reset': 3717, 'stewart': 4233, 'mellow': 2822, 'amnesia': 246, 'crawl': 1072, 'tubthumping': 4614, 'gal': 1915, 'pitiful': 3323, 'earthquake': 1445, '940c': 91, 'laser': 2555, 'nb': 2989, 'artificial': 334, 'reminiscent': 3686, 'mule': 2950, 'gibson': 1960, 'oppose': 3128, 'seldon': 3919, 'isaac': 2414, 'galaxy': 1916, 'futuristic': 1906, 'defend': 1185, 'unexpected': 4663, 'genesis': 1946, 'wwi': 4963, 'bud': 638, 'carrot': 720, 'vacuum': 4729, 'nick': 3019, 'cf': 758, 'dentist': 1215, 'batman': 445, 'guinea': 2053, 'mesmerize': 2839, 'mccartney': 2796, 'ritter': 3772, 'joyce': 2473, 'janet': 2437, 'gay': 1933, 'external': 1666, 'microphone': 2853, 'spear': 4158, 'catholic': 737, 'philosophical': 3293, 'portrait': 3379, 'sensation': 3929, 'turtle': 4620, 'dystopian': 1435, 'aerial': 178, 'racist': 3554, 'shakespeare': 3971, 'rainy': 3563, 'dinosaur': 1286, 'harness': 2093, 'rashel': 3582, 'dominate': 1362, 'curie': 1114, 'simpletech': 4030, 'mb': 2795, 'massacre': 2777, 'patti': 3248, 'evita': 1607, 'intex': 2389, 'inflate': 2325, 'restock': 3730, 'airbed': 201, 'weigh': 4851, 'deflate': 1194, 'inflates': 2326, 'comforter': 907, 'xtra': 4970, 'flannel': 1787, 'fleetwood': 1795, 'rumour': 3811, 'attend': 369, 'mercedes': 2835, 'ford': 1831, 'passionate': 3236, 'cocktail': 880, 'oop': 3117, 'fonda': 1821, 'barbra': 428, 'robbed': 3776, 'mattel': 2787, 'kinsella': 2510, 'sophie': 4134, 'eby': 1454, 'romeo': 3793, 'spread': 4192, 'nurse': 3070, 'garcia': 1927, 'incest': 2295, 'shirley': 3993, 'homosexuality': 2184, 'manson': 2744, 'bugliosi': 647, 'helter': 2137, 'skelter': 4055, 'airplane': 203, 'dali': 1134, 'batcave': 444, 'pci': 3253, 'clavell': 847, 'nomad': 3040, 'forbidden': 1829, 'knit': 2518, 'voodoo': 4795, 'toefl': 4525, 'shift': 3988, 'civil': 835, 'vegan': 4743, 'tina': 4513, 'wilderness': 4892, 'sd': 3897, 'sandisk': 3838, 'sansa': 3842, 'appal': 296, 'carnegie': 717, 'snack': 4093, 'advocate': 177, 'prosecutor': 3495, 'slasher': 4066, 'monk': 2904, 'collar': 888, 'dracula': 1383, 'wireless': 4908, 'confrontation': 970, 'jabra': 2426, 'eargels': 1440, 'earbuds': 1439, 'jawbone': 2444, 'clan': 840, 'swedish': 4359, 'odyssey': 3091, 'ian': 2244, 'misfortune': 2883, 'philadelphia': 3292, 'winston': 4904, 'programmer': 3477, 'moby': 2894, 'ahab': 195, 'damme': 1136, 'flea': 1794, 'frank': 1862, 'lackey': 2537, 'tuscan': 4621, 'tuscany': 4622, 'pal': 3202, 'communism': 919, 'rollerball': 3787, 'russell': 3815, 'chandler': 765, 'noir': 3037, 'scooter': 3883, 'pratchett': 3408, 'discworld': 1314, 'om': 3108, 'celiac': 745, 'gluten': 1980, 'amy': 251, 'usmle': 4721, 'freshman': 1875, 'dogg': 1356, 'gba': 1935, 'carter': 722, 'rebel': 3612, 'bowie': 584, 'holmes': 2179, 'sting': 4240, 'cummins': 1111, 'freud': 1876, 'organic': 3141, 'parable': 3214, 'joan': 2460, 'palance': 3203, 'souljah': 4141, 'fw': 1908, 'birthing': 518, 'childbirth': 801, 'sheri': 3985, 'bayles': 449, 'argento': 318, 'usher': 4720, 'auel': 378, 'ayla': 405, 'prehistoric': 3422, 'neanderthal': 2990, 'judith': 2476, 'lipstick': 2643, '64': 79, 'gamecube': 1919, 'astrology': 359, 'antivirus': 283, 'femalien': 1737, 'unrated': 4687, 'flyboys': 1813, 'lafayette': 2540, 'escadrille': 1571, 'dogfight': 1355, 'hostel': 2207, 'bleak': 531, 'bebel': 464, 'eighty': 1479, 'everest': 1596, 'gammelgaard': 1921, 'elmo': 1496, 'firefighter': 1770, 'csi': 1106, 'fetched': 1741, 'frm': 1883, 'garp': 1929, 'enrich': 1544, 'oceania': 3086, 'knot': 2521, 'totalitarian': 4548, 'newspeak': 3014, 'totalitarianism': 4549, 'scariest': 3863, 'fundamentalist': 1898, 'concealer': 954, 'huppert': 2237, 'zeta': 4995, 'montag': 2909, 'fireman': 1771, 'farenheit': 1705, 'piper': 3318, 'fellowship': 1734, 'moria': 2920, 'ati': 363, 'radeon': 3556, 'emily': 1507, 'pam': 3205, 'finnegans': 1768, 'lapinator': 2549, 'hatebreed': 2100, 'halti': 2069, 'continuum': 1005, 'sg': 3964, 'sg1': 3965, 'musiq': 2961, 'lola': 2674, 'franka': 1863, 'tism': 4517, 'ziggy': 4996, 'stardust': 4210, 'nickelodeon': 3021, 'liam': 2610, 'owen': 3182, 'neeson': 2999, 'lili': 2632, 'asvab': 360, 'goodman': 1992, 'cedar': 743, 'florette': 1805, 'manon': 2743, 'apache': 293, '7i': 84, 'marquez': 2765, 'buendia': 643, 'macondo': 2713, 'papua': 3211, 'java': 2442, 'canterbury': 698, 'chaucer': 782, 'pellegrino': 3259, 'coyote': 1064, 'perabo': 3267, 'redgrave': 3636, 'warnes': 4820, 'tomcat': 4531, 'fraser': 1866, 'mckellen': 2797, 'brendan': 611, 'mosby': 2922, 'stacie': 4200, 'orrico': 3149, 'christina': 818, 'ry': 3820, 'cooder': 1021, 'carlton': 716, 'hopkins': 2195, 'lovebird': 2696, 'linksys': 2640, 'basset': 442, 'doyle': 1380, 'sherlock': 3986, 'baskervilles': 440, 'donati': 1364, 'margret': 2754}\n"
     ]
    }
   ],
   "source": [
    "print(Tfidf_vect.vocabulary_)"
   ]
  },
  {
   "cell_type": "code",
   "execution_count": 28,
   "metadata": {},
   "outputs": [
    {
     "name": "stdout",
     "output_type": "stream",
     "text": [
      "  (0, 4860)\t0.11407278214490155\n",
      "  (0, 4743)\t0.15930612601646058\n",
      "  (0, 4715)\t0.05484661359148989\n",
      "  (0, 4628)\t0.06653431419447242\n",
      "  (0, 4612)\t0.061994285060987225\n",
      "  (0, 4507)\t0.04680678815113588\n",
      "  (0, 4478)\t0.06685479774702971\n",
      "  (0, 4477)\t0.14881067223990488\n",
      "  (0, 4252)\t0.08951193312753156\n",
      "  (0, 4152)\t0.1212095340297805\n",
      "  (0, 3755)\t0.1168557310682065\n",
      "  (0, 3746)\t0.09537965518065887\n",
      "  (0, 3623)\t0.35187232378133276\n",
      "  (0, 3542)\t0.0964577923650016\n",
      "  (0, 3467)\t0.06420320328970601\n",
      "  (0, 3368)\t0.08209762207351608\n",
      "  (0, 3304)\t0.09387433091559305\n",
      "  (0, 3269)\t0.08429466949844291\n",
      "  (0, 3169)\t0.0870422541936013\n",
      "  (0, 3113)\t0.11910311308423713\n",
      "  (0, 3053)\t0.090886227140321\n",
      "  (0, 3008)\t0.12949276439550683\n",
      "  (0, 2963)\t0.07081606664390638\n",
      "  (0, 2947)\t0.05559629586700956\n",
      "  (0, 2800)\t0.08729127100637177\n",
      "  :\t:\n",
      "  (7999, 1981)\t0.06612919435807704\n",
      "  (7999, 1966)\t0.07304435528266451\n",
      "  (7999, 1956)\t0.05408176357454054\n",
      "  (7999, 1905)\t0.11382753854936371\n",
      "  (7999, 1893)\t0.14670381558122078\n",
      "  (7999, 1776)\t0.07007743937665999\n",
      "  (7999, 1672)\t0.11974126344526774\n",
      "  (7999, 1595)\t0.08015153637379924\n",
      "  (7999, 1535)\t0.11322935970431566\n",
      "  (7999, 1299)\t0.09548008682792694\n",
      "  (7999, 1276)\t0.09699853599929432\n",
      "  (7999, 1046)\t0.07116198039003915\n",
      "  (7999, 1037)\t0.13160119162750603\n",
      "  (7999, 892)\t0.13500133783447196\n",
      "  (7999, 764)\t0.12707596474569297\n",
      "  (7999, 591)\t0.12795718678007095\n",
      "  (7999, 564)\t0.14680759635708263\n",
      "  (7999, 499)\t0.0768361169777214\n",
      "  (7999, 480)\t0.10064655116589687\n",
      "  (7999, 408)\t0.16166073937962153\n",
      "  (7999, 330)\t0.36773177626843045\n",
      "  (7999, 275)\t0.0885788211583102\n",
      "  (7999, 220)\t0.17515015739070297\n",
      "  (7999, 142)\t0.09619864109113993\n",
      "  (7999, 7)\t0.17897719076044982\n"
     ]
    }
   ],
   "source": [
    "print(Train_X_Tfidf)"
   ]
  },
  {
   "cell_type": "markdown",
   "metadata": {},
   "source": [
    "##### STEP -7: Use the ML Algorithms"
   ]
  },
  {
   "cell_type": "code",
   "execution_count": 29,
   "metadata": {},
   "outputs": [
    {
     "name": "stdout",
     "output_type": "stream",
     "text": [
      "SVM Train Accuracy Score ->  94.05\n",
      "SVM Test Accuracy Score ->  84.6\n"
     ]
    }
   ],
   "source": [
    "# Classifier - Algorithm - SVM\n",
    "# fit the training dataset on the classifier\n",
    "SVM = svm.SVC(C=1.0, kernel='linear', degree=3, gamma='auto')\n",
    "SVM.fit(Train_X_Tfidf,Train_Y)\n",
    "# predict the labels on validation dataset\n",
    "predictions_SVM_train = SVM.predict(Train_X_Tfidf)\n",
    "predictions_SVM = SVM.predict(Test_X_Tfidf)\n",
    "# Use accuracy_score function to get the accuracy\n",
    "print(\"SVM Train Accuracy Score -> \",accuracy_score(predictions_SVM_train, Train_Y)*100)\n",
    "print(\"SVM Test Accuracy Score -> \",accuracy_score(predictions_SVM, Test_Y)*100)"
   ]
  },
  {
   "cell_type": "code",
   "execution_count": 30,
   "metadata": {},
   "outputs": [],
   "source": [
    "from sklearn.metrics import confusion_matrix\n",
    "from sklearn.metrics import f1_score\n",
    "from sklearn.metrics import precision_score, recall_score"
   ]
  },
  {
   "cell_type": "code",
   "execution_count": 31,
   "metadata": {},
   "outputs": [
    {
     "name": "stdout",
     "output_type": "stream",
     "text": [
      "[[888 149]\n",
      " [159 804]]\n",
      "precision 0.8436516264428122\n",
      "recall 0.8348909657320872\n",
      "f1 0.8392484342379958\n"
     ]
    }
   ],
   "source": [
    "print(confusion_matrix(Test_Y, predictions_SVM))\n",
    "print(\"precision\",precision_score(Test_Y, predictions_SVM))\n",
    "print(\"recall\",recall_score(Test_Y, predictions_SVM))\n",
    "print(\"f1\", f1_score(Test_Y, predictions_SVM))"
   ]
  },
  {
   "cell_type": "code",
   "execution_count": 32,
   "metadata": {},
   "outputs": [],
   "source": [
    "y_scores = SVM.decision_function(Test_X_Tfidf)"
   ]
  },
  {
   "cell_type": "code",
   "execution_count": 33,
   "metadata": {},
   "outputs": [],
   "source": [
    "prec, rec, thre = precision_recall_curve(Test_Y, y_scores)"
   ]
  },
  {
   "cell_type": "code",
   "execution_count": 34,
   "metadata": {},
   "outputs": [
    {
     "data": {
      "image/png": "[encoded data removed]",
      "text/plain": [
       "<Figure size 576x288 with 1 Axes>"
      ]
     },
     "metadata": {
      "needs_background": "light"
     },
     "output_type": "display_data"
    }
   ],
   "source": [
    "def plot_precision_recall_vs_threshold(precisions, recalls, thresholds):\n",
    "    plt.plot(thresholds, precisions[:-1], \"b--\", label=\"Precision\", linewidth=2)\n",
    "    plt.plot(thresholds, recalls[:-1], \"g-\", label=\"Recall\", linewidth=2)\n",
    "    plt.legend(loc=\"center right\", fontsize=16) \n",
    "    plt.xlabel(\"Threshold\", fontsize=16)        \n",
    "    plt.grid(True)                              \n",
    "    plt.axis([-2, 2, 0, 1])            \n",
    "\n",
    "plt.figure(figsize=(8, 4))                      \n",
    "plot_precision_recall_vs_threshold(prec, rec, thre)\n",
    "\n",
    "plt.show()"
   ]
  },
  {
   "cell_type": "code",
   "execution_count": 35,
   "metadata": {},
   "outputs": [
    {
     "name": "stdout",
     "output_type": "stream",
     "text": [
      "0.1\n",
      "SVM Accuracy Score ->  83.65\n",
      "confusion matrix [[892 145]\n",
      " [182 781]]\n",
      "precision 0.8434125269978402\n",
      "recall 0.8110072689511942\n",
      "f1 0.8268925357331922\n",
      "0.5\n",
      "SVM Accuracy Score ->  85.15\n",
      "confusion matrix [[893 144]\n",
      " [153 810]]\n",
      "precision 0.8490566037735849\n",
      "recall 0.8411214953271028\n",
      "f1 0.8450704225352114\n",
      "1\n",
      "SVM Accuracy Score ->  84.6\n",
      "confusion matrix [[888 149]\n",
      " [159 804]]\n",
      "precision 0.8436516264428122\n",
      "recall 0.8348909657320872\n",
      "f1 0.8392484342379958\n",
      "2\n",
      "SVM Accuracy Score ->  83.89999999999999\n",
      "confusion matrix [[879 158]\n",
      " [164 799]]\n",
      "precision 0.8349007314524556\n",
      "recall 0.829698857736241\n",
      "f1 0.8322916666666667\n",
      "5\n",
      "SVM Accuracy Score ->  82.65\n",
      "confusion matrix [[867 170]\n",
      " [177 786]]\n",
      "precision 0.8221757322175732\n",
      "recall 0.8161993769470405\n",
      "f1 0.819176654507556\n",
      "10\n",
      "SVM Accuracy Score ->  80.95\n",
      "confusion matrix [[844 193]\n",
      " [188 775]]\n",
      "precision 0.8006198347107438\n",
      "recall 0.8047767393561787\n",
      "f1 0.8026929052304506\n",
      "100\n",
      "SVM Accuracy Score ->  79.45\n",
      "confusion matrix [[837 200]\n",
      " [211 752]]\n",
      "precision 0.7899159663865546\n",
      "recall 0.7808930425752856\n",
      "f1 0.785378590078329\n"
     ]
    }
   ],
   "source": [
    "c_range = [0.1,0.5,1,2,5,10,100]\n",
    "for c in c_range:\n",
    "    SVM = svm.SVC(C=c, kernel='linear', degree=3, gamma='auto')\n",
    "    SVM.fit(Train_X_Tfidf,Train_Y)\n",
    "    predictions_SVM = SVM.predict(Test_X_Tfidf)\n",
    "    print(c)\n",
    "    print(\"SVM Accuracy Score -> \",accuracy_score(predictions_SVM, Test_Y)*100)\n",
    "    print(\"confusion matrix\", confusion_matrix(Test_Y, predictions_SVM))\n",
    "    print(\"precision\",precision_score(Test_Y, predictions_SVM))\n",
    "    print(\"recall\",recall_score(Test_Y, predictions_SVM))\n",
    "    print(\"f1\", f1_score(Test_Y, predictions_SVM))"
   ]
  },
  {
   "cell_type": "code",
   "execution_count": 36,
   "metadata": {},
   "outputs": [],
   "source": [
    "from sklearn.model_selection import GridSearchCV"
   ]
  },
  {
   "cell_type": "code",
   "execution_count": 37,
   "metadata": {},
   "outputs": [],
   "source": [
    "param_grid = [\n",
    "    {'C': [0.1,1,10,100,1000], 'kernel':['poly'],'degree':[2,3,4,5],'coef0':[1,10,100]},\n",
    "    {'C': [0.1,1,10,100,1000], 'gamma': ['auto','scale',1,5],'kernel':['rbf']}\n",
    "]"
   ]
  },
  {
   "cell_type": "code",
   "execution_count": 38,
   "metadata": {},
   "outputs": [],
   "source": [
    "SVM2 = svm.SVC()"
   ]
  },
  {
   "cell_type": "code",
   "execution_count": 39,
   "metadata": {},
   "outputs": [],
   "source": [
    "grid_search = GridSearchCV(SVM2, param_grid, cv=5,\n",
    "                          scoring = 'accuracy',\n",
    "                          return_train_score=True)"
   ]
  },
  {
   "cell_type": "code",
   "execution_count": 40,
   "metadata": {},
   "outputs": [
    {
     "name": "stderr",
     "output_type": "stream",
     "text": [
      "C:\\Users\\justi\\AppData\\Local\\Continuum\\anaconda3\\lib\\site-packages\\sklearn\\svm\\base.py:193: FutureWarning: The default value of gamma will change from 'auto' to 'scale' in version 0.22 to account better for unscaled features. Set gamma explicitly to 'auto' or 'scale' to avoid this warning.\n",
      "  \"avoid this warning.\", FutureWarning)\n",
      "C:\\Users\\justi\\AppData\\Local\\Continuum\\anaconda3\\lib\\site-packages\\sklearn\\svm\\base.py:193: FutureWarning: The default value of gamma will change from 'auto' to 'scale' in version 0.22 to account better for unscaled features. Set gamma explicitly to 'auto' or 'scale' to avoid this warning.\n",
      "  \"avoid this warning.\", FutureWarning)\n",
      "C:\\Users\\justi\\AppData\\Local\\Continuum\\anaconda3\\lib\\site-packages\\sklearn\\svm\\base.py:193: FutureWarning: The default value of gamma will change from 'auto' to 'scale' in version 0.22 to account better for unscaled features. Set gamma explicitly to 'auto' or 'scale' to avoid this warning.\n",
      "  \"avoid this warning.\", FutureWarning)\n",
      "C:\\Users\\justi\\AppData\\Local\\Continuum\\anaconda3\\lib\\site-packages\\sklearn\\svm\\base.py:193: FutureWarning: The default value of gamma will change from 'auto' to 'scale' in version 0.22 to account better for unscaled features. Set gamma explicitly to 'auto' or 'scale' to avoid this warning.\n",
      "  \"avoid this warning.\", FutureWarning)\n",
      "C:\\Users\\justi\\AppData\\Local\\Continuum\\anaconda3\\lib\\site-packages\\sklearn\\svm\\base.py:193: FutureWarning: The default value of gamma will change from 'auto' to 'scale' in version 0.22 to account better for unscaled features. Set gamma explicitly to 'auto' or 'scale' to avoid this warning.\n",
      "  \"avoid this warning.\", FutureWarning)\n",
      "C:\\Users\\justi\\AppData\\Local\\Continuum\\anaconda3\\lib\\site-packages\\sklearn\\svm\\base.py:193: FutureWarning: The default value of gamma will change from 'auto' to 'scale' in version 0.22 to account better for unscaled features. Set gamma explicitly to 'auto' or 'scale' to avoid this warning.\n",
      "  \"avoid this warning.\", FutureWarning)\n",
      "C:\\Users\\justi\\AppData\\Local\\Continuum\\anaconda3\\lib\\site-packages\\sklearn\\svm\\base.py:193: FutureWarning: The default value of gamma will change from 'auto' to 'scale' in version 0.22 to account better for unscaled features. Set gamma explicitly to 'auto' or 'scale' to avoid this warning.\n",
      "  \"avoid this warning.\", FutureWarning)\n",
      "C:\\Users\\justi\\AppData\\Local\\Continuum\\anaconda3\\lib\\site-packages\\sklearn\\svm\\base.py:193: FutureWarning: The default value of gamma will change from 'auto' to 'scale' in version 0.22 to account better for unscaled features. Set gamma explicitly to 'auto' or 'scale' to avoid this warning.\n",
      "  \"avoid this warning.\", FutureWarning)\n",
      "C:\\Users\\justi\\AppData\\Local\\Continuum\\anaconda3\\lib\\site-packages\\sklearn\\svm\\base.py:193: FutureWarning: The default value of gamma will change from 'auto' to 'scale' in version 0.22 to account better for unscaled features. Set gamma explicitly to 'auto' or 'scale' to avoid this warning.\n",
      "  \"avoid this warning.\", FutureWarning)\n",
      "C:\\Users\\justi\\AppData\\Local\\Continuum\\anaconda3\\lib\\site-packages\\sklearn\\svm\\base.py:193: FutureWarning: The default value of gamma will change from 'auto' to 'scale' in version 0.22 to account better for unscaled features. Set gamma explicitly to 'auto' or 'scale' to avoid this warning.\n",
      "  \"avoid this warning.\", FutureWarning)\n",
      "C:\\Users\\justi\\AppData\\Local\\Continuum\\anaconda3\\lib\\site-packages\\sklearn\\svm\\base.py:193: FutureWarning: The default value of gamma will change from 'auto' to 'scale' in version 0.22 to account better for unscaled features. Set gamma explicitly to 'auto' or 'scale' to avoid this warning.\n",
      "  \"avoid this warning.\", FutureWarning)\n",
      "C:\\Users\\justi\\AppData\\Local\\Continuum\\anaconda3\\lib\\site-packages\\sklearn\\svm\\base.py:193: FutureWarning: The default value of gamma will change from 'auto' to 'scale' in version 0.22 to account better for unscaled features. Set gamma explicitly to 'auto' or 'scale' to avoid this warning.\n",
      "  \"avoid this warning.\", FutureWarning)\n",
      "C:\\Users\\justi\\AppData\\Local\\Continuum\\anaconda3\\lib\\site-packages\\sklearn\\svm\\base.py:193: FutureWarning: The default value of gamma will change from 'auto' to 'scale' in version 0.22 to account better for unscaled features. Set gamma explicitly to 'auto' or 'scale' to avoid this warning.\n",
      "  \"avoid this warning.\", FutureWarning)\n",
      "C:\\Users\\justi\\AppData\\Local\\Continuum\\anaconda3\\lib\\site-packages\\sklearn\\svm\\base.py:193: FutureWarning: The default value of gamma will change from 'auto' to 'scale' in version 0.22 to account better for unscaled features. Set gamma explicitly to 'auto' or 'scale' to avoid this warning.\n",
      "  \"avoid this warning.\", FutureWarning)\n",
      "C:\\Users\\justi\\AppData\\Local\\Continuum\\anaconda3\\lib\\site-packages\\sklearn\\svm\\base.py:193: FutureWarning: The default value of gamma will change from 'auto' to 'scale' in version 0.22 to account better for unscaled features. Set gamma explicitly to 'auto' or 'scale' to avoid this warning.\n",
      "  \"avoid this warning.\", FutureWarning)\n",
      "C:\\Users\\justi\\AppData\\Local\\Continuum\\anaconda3\\lib\\site-packages\\sklearn\\svm\\base.py:193: FutureWarning: The default value of gamma will change from 'auto' to 'scale' in version 0.22 to account better for unscaled features. Set gamma explicitly to 'auto' or 'scale' to avoid this warning.\n",
      "  \"avoid this warning.\", FutureWarning)\n",
      "C:\\Users\\justi\\AppData\\Local\\Continuum\\anaconda3\\lib\\site-packages\\sklearn\\svm\\base.py:193: FutureWarning: The default value of gamma will change from 'auto' to 'scale' in version 0.22 to account better for unscaled features. Set gamma explicitly to 'auto' or 'scale' to avoid this warning.\n",
      "  \"avoid this warning.\", FutureWarning)\n",
      "C:\\Users\\justi\\AppData\\Local\\Continuum\\anaconda3\\lib\\site-packages\\sklearn\\svm\\base.py:193: FutureWarning: The default value of gamma will change from 'auto' to 'scale' in version 0.22 to account better for unscaled features. Set gamma explicitly to 'auto' or 'scale' to avoid this warning.\n",
      "  \"avoid this warning.\", FutureWarning)\n",
      "C:\\Users\\justi\\AppData\\Local\\Continuum\\anaconda3\\lib\\site-packages\\sklearn\\svm\\base.py:193: FutureWarning: The default value of gamma will change from 'auto' to 'scale' in version 0.22 to account better for unscaled features. Set gamma explicitly to 'auto' or 'scale' to avoid this warning.\n",
      "  \"avoid this warning.\", FutureWarning)\n",
      "C:\\Users\\justi\\AppData\\Local\\Continuum\\anaconda3\\lib\\site-packages\\sklearn\\svm\\base.py:193: FutureWarning: The default value of gamma will change from 'auto' to 'scale' in version 0.22 to account better for unscaled features. Set gamma explicitly to 'auto' or 'scale' to avoid this warning.\n",
      "  \"avoid this warning.\", FutureWarning)\n",
      "C:\\Users\\justi\\AppData\\Local\\Continuum\\anaconda3\\lib\\site-packages\\sklearn\\svm\\base.py:193: FutureWarning: The default value of gamma will change from 'auto' to 'scale' in version 0.22 to account better for unscaled features. Set gamma explicitly to 'auto' or 'scale' to avoid this warning.\n",
      "  \"avoid this warning.\", FutureWarning)\n",
      "C:\\Users\\justi\\AppData\\Local\\Continuum\\anaconda3\\lib\\site-packages\\sklearn\\svm\\base.py:193: FutureWarning: The default value of gamma will change from 'auto' to 'scale' in version 0.22 to account better for unscaled features. Set gamma explicitly to 'auto' or 'scale' to avoid this warning.\n",
      "  \"avoid this warning.\", FutureWarning)\n",
      "C:\\Users\\justi\\AppData\\Local\\Continuum\\anaconda3\\lib\\site-packages\\sklearn\\svm\\base.py:193: FutureWarning: The default value of gamma will change from 'auto' to 'scale' in version 0.22 to account better for unscaled features. Set gamma explicitly to 'auto' or 'scale' to avoid this warning.\n",
      "  \"avoid this warning.\", FutureWarning)\n",
      "C:\\Users\\justi\\AppData\\Local\\Continuum\\anaconda3\\lib\\site-packages\\sklearn\\svm\\base.py:193: FutureWarning: The default value of gamma will change from 'auto' to 'scale' in version 0.22 to account better for unscaled features. Set gamma explicitly to 'auto' or 'scale' to avoid this warning.\n",
      "  \"avoid this warning.\", FutureWarning)\n",
      "C:\\Users\\justi\\AppData\\Local\\Continuum\\anaconda3\\lib\\site-packages\\sklearn\\svm\\base.py:193: FutureWarning: The default value of gamma will change from 'auto' to 'scale' in version 0.22 to account better for unscaled features. Set gamma explicitly to 'auto' or 'scale' to avoid this warning.\n",
      "  \"avoid this warning.\", FutureWarning)\n"
     ]
    },
    {
     "name": "stderr",
     "output_type": "stream",
     "text": [
      "C:\\Users\\justi\\AppData\\Local\\Continuum\\anaconda3\\lib\\site-packages\\sklearn\\svm\\base.py:193: FutureWarning: The default value of gamma will change from 'auto' to 'scale' in version 0.22 to account better for unscaled features. Set gamma explicitly to 'auto' or 'scale' to avoid this warning.\n",
      "  \"avoid this warning.\", FutureWarning)\n",
      "C:\\Users\\justi\\AppData\\Local\\Continuum\\anaconda3\\lib\\site-packages\\sklearn\\svm\\base.py:193: FutureWarning: The default value of gamma will change from 'auto' to 'scale' in version 0.22 to account better for unscaled features. Set gamma explicitly to 'auto' or 'scale' to avoid this warning.\n",
      "  \"avoid this warning.\", FutureWarning)\n",
      "C:\\Users\\justi\\AppData\\Local\\Continuum\\anaconda3\\lib\\site-packages\\sklearn\\svm\\base.py:193: FutureWarning: The default value of gamma will change from 'auto' to 'scale' in version 0.22 to account better for unscaled features. Set gamma explicitly to 'auto' or 'scale' to avoid this warning.\n",
      "  \"avoid this warning.\", FutureWarning)\n",
      "C:\\Users\\justi\\AppData\\Local\\Continuum\\anaconda3\\lib\\site-packages\\sklearn\\svm\\base.py:193: FutureWarning: The default value of gamma will change from 'auto' to 'scale' in version 0.22 to account better for unscaled features. Set gamma explicitly to 'auto' or 'scale' to avoid this warning.\n",
      "  \"avoid this warning.\", FutureWarning)\n",
      "C:\\Users\\justi\\AppData\\Local\\Continuum\\anaconda3\\lib\\site-packages\\sklearn\\svm\\base.py:193: FutureWarning: The default value of gamma will change from 'auto' to 'scale' in version 0.22 to account better for unscaled features. Set gamma explicitly to 'auto' or 'scale' to avoid this warning.\n",
      "  \"avoid this warning.\", FutureWarning)\n",
      "C:\\Users\\justi\\AppData\\Local\\Continuum\\anaconda3\\lib\\site-packages\\sklearn\\svm\\base.py:193: FutureWarning: The default value of gamma will change from 'auto' to 'scale' in version 0.22 to account better for unscaled features. Set gamma explicitly to 'auto' or 'scale' to avoid this warning.\n",
      "  \"avoid this warning.\", FutureWarning)\n",
      "C:\\Users\\justi\\AppData\\Local\\Continuum\\anaconda3\\lib\\site-packages\\sklearn\\svm\\base.py:193: FutureWarning: The default value of gamma will change from 'auto' to 'scale' in version 0.22 to account better for unscaled features. Set gamma explicitly to 'auto' or 'scale' to avoid this warning.\n",
      "  \"avoid this warning.\", FutureWarning)\n",
      "C:\\Users\\justi\\AppData\\Local\\Continuum\\anaconda3\\lib\\site-packages\\sklearn\\svm\\base.py:193: FutureWarning: The default value of gamma will change from 'auto' to 'scale' in version 0.22 to account better for unscaled features. Set gamma explicitly to 'auto' or 'scale' to avoid this warning.\n",
      "  \"avoid this warning.\", FutureWarning)\n",
      "C:\\Users\\justi\\AppData\\Local\\Continuum\\anaconda3\\lib\\site-packages\\sklearn\\svm\\base.py:193: FutureWarning: The default value of gamma will change from 'auto' to 'scale' in version 0.22 to account better for unscaled features. Set gamma explicitly to 'auto' or 'scale' to avoid this warning.\n",
      "  \"avoid this warning.\", FutureWarning)\n",
      "C:\\Users\\justi\\AppData\\Local\\Continuum\\anaconda3\\lib\\site-packages\\sklearn\\svm\\base.py:193: FutureWarning: The default value of gamma will change from 'auto' to 'scale' in version 0.22 to account better for unscaled features. Set gamma explicitly to 'auto' or 'scale' to avoid this warning.\n",
      "  \"avoid this warning.\", FutureWarning)\n",
      "C:\\Users\\justi\\AppData\\Local\\Continuum\\anaconda3\\lib\\site-packages\\sklearn\\svm\\base.py:193: FutureWarning: The default value of gamma will change from 'auto' to 'scale' in version 0.22 to account better for unscaled features. Set gamma explicitly to 'auto' or 'scale' to avoid this warning.\n",
      "  \"avoid this warning.\", FutureWarning)\n",
      "C:\\Users\\justi\\AppData\\Local\\Continuum\\anaconda3\\lib\\site-packages\\sklearn\\svm\\base.py:193: FutureWarning: The default value of gamma will change from 'auto' to 'scale' in version 0.22 to account better for unscaled features. Set gamma explicitly to 'auto' or 'scale' to avoid this warning.\n",
      "  \"avoid this warning.\", FutureWarning)\n",
      "C:\\Users\\justi\\AppData\\Local\\Continuum\\anaconda3\\lib\\site-packages\\sklearn\\svm\\base.py:193: FutureWarning: The default value of gamma will change from 'auto' to 'scale' in version 0.22 to account better for unscaled features. Set gamma explicitly to 'auto' or 'scale' to avoid this warning.\n",
      "  \"avoid this warning.\", FutureWarning)\n",
      "C:\\Users\\justi\\AppData\\Local\\Continuum\\anaconda3\\lib\\site-packages\\sklearn\\svm\\base.py:193: FutureWarning: The default value of gamma will change from 'auto' to 'scale' in version 0.22 to account better for unscaled features. Set gamma explicitly to 'auto' or 'scale' to avoid this warning.\n",
      "  \"avoid this warning.\", FutureWarning)\n",
      "C:\\Users\\justi\\AppData\\Local\\Continuum\\anaconda3\\lib\\site-packages\\sklearn\\svm\\base.py:193: FutureWarning: The default value of gamma will change from 'auto' to 'scale' in version 0.22 to account better for unscaled features. Set gamma explicitly to 'auto' or 'scale' to avoid this warning.\n",
      "  \"avoid this warning.\", FutureWarning)\n",
      "C:\\Users\\justi\\AppData\\Local\\Continuum\\anaconda3\\lib\\site-packages\\sklearn\\svm\\base.py:193: FutureWarning: The default value of gamma will change from 'auto' to 'scale' in version 0.22 to account better for unscaled features. Set gamma explicitly to 'auto' or 'scale' to avoid this warning.\n",
      "  \"avoid this warning.\", FutureWarning)\n",
      "C:\\Users\\justi\\AppData\\Local\\Continuum\\anaconda3\\lib\\site-packages\\sklearn\\svm\\base.py:193: FutureWarning: The default value of gamma will change from 'auto' to 'scale' in version 0.22 to account better for unscaled features. Set gamma explicitly to 'auto' or 'scale' to avoid this warning.\n",
      "  \"avoid this warning.\", FutureWarning)\n",
      "C:\\Users\\justi\\AppData\\Local\\Continuum\\anaconda3\\lib\\site-packages\\sklearn\\svm\\base.py:193: FutureWarning: The default value of gamma will change from 'auto' to 'scale' in version 0.22 to account better for unscaled features. Set gamma explicitly to 'auto' or 'scale' to avoid this warning.\n",
      "  \"avoid this warning.\", FutureWarning)\n",
      "C:\\Users\\justi\\AppData\\Local\\Continuum\\anaconda3\\lib\\site-packages\\sklearn\\svm\\base.py:193: FutureWarning: The default value of gamma will change from 'auto' to 'scale' in version 0.22 to account better for unscaled features. Set gamma explicitly to 'auto' or 'scale' to avoid this warning.\n",
      "  \"avoid this warning.\", FutureWarning)\n",
      "C:\\Users\\justi\\AppData\\Local\\Continuum\\anaconda3\\lib\\site-packages\\sklearn\\svm\\base.py:193: FutureWarning: The default value of gamma will change from 'auto' to 'scale' in version 0.22 to account better for unscaled features. Set gamma explicitly to 'auto' or 'scale' to avoid this warning.\n",
      "  \"avoid this warning.\", FutureWarning)\n",
      "C:\\Users\\justi\\AppData\\Local\\Continuum\\anaconda3\\lib\\site-packages\\sklearn\\svm\\base.py:193: FutureWarning: The default value of gamma will change from 'auto' to 'scale' in version 0.22 to account better for unscaled features. Set gamma explicitly to 'auto' or 'scale' to avoid this warning.\n",
      "  \"avoid this warning.\", FutureWarning)\n",
      "C:\\Users\\justi\\AppData\\Local\\Continuum\\anaconda3\\lib\\site-packages\\sklearn\\svm\\base.py:193: FutureWarning: The default value of gamma will change from 'auto' to 'scale' in version 0.22 to account better for unscaled features. Set gamma explicitly to 'auto' or 'scale' to avoid this warning.\n",
      "  \"avoid this warning.\", FutureWarning)\n",
      "C:\\Users\\justi\\AppData\\Local\\Continuum\\anaconda3\\lib\\site-packages\\sklearn\\svm\\base.py:193: FutureWarning: The default value of gamma will change from 'auto' to 'scale' in version 0.22 to account better for unscaled features. Set gamma explicitly to 'auto' or 'scale' to avoid this warning.\n",
      "  \"avoid this warning.\", FutureWarning)\n",
      "C:\\Users\\justi\\AppData\\Local\\Continuum\\anaconda3\\lib\\site-packages\\sklearn\\svm\\base.py:193: FutureWarning: The default value of gamma will change from 'auto' to 'scale' in version 0.22 to account better for unscaled features. Set gamma explicitly to 'auto' or 'scale' to avoid this warning.\n",
      "  \"avoid this warning.\", FutureWarning)\n",
      "C:\\Users\\justi\\AppData\\Local\\Continuum\\anaconda3\\lib\\site-packages\\sklearn\\svm\\base.py:193: FutureWarning: The default value of gamma will change from 'auto' to 'scale' in version 0.22 to account better for unscaled features. Set gamma explicitly to 'auto' or 'scale' to avoid this warning.\n",
      "  \"avoid this warning.\", FutureWarning)\n"
     ]
    },
    {
     "name": "stderr",
     "output_type": "stream",
     "text": [
      "C:\\Users\\justi\\AppData\\Local\\Continuum\\anaconda3\\lib\\site-packages\\sklearn\\svm\\base.py:193: FutureWarning: The default value of gamma will change from 'auto' to 'scale' in version 0.22 to account better for unscaled features. Set gamma explicitly to 'auto' or 'scale' to avoid this warning.\n",
      "  \"avoid this warning.\", FutureWarning)\n",
      "C:\\Users\\justi\\AppData\\Local\\Continuum\\anaconda3\\lib\\site-packages\\sklearn\\svm\\base.py:193: FutureWarning: The default value of gamma will change from 'auto' to 'scale' in version 0.22 to account better for unscaled features. Set gamma explicitly to 'auto' or 'scale' to avoid this warning.\n",
      "  \"avoid this warning.\", FutureWarning)\n",
      "C:\\Users\\justi\\AppData\\Local\\Continuum\\anaconda3\\lib\\site-packages\\sklearn\\svm\\base.py:193: FutureWarning: The default value of gamma will change from 'auto' to 'scale' in version 0.22 to account better for unscaled features. Set gamma explicitly to 'auto' or 'scale' to avoid this warning.\n",
      "  \"avoid this warning.\", FutureWarning)\n",
      "C:\\Users\\justi\\AppData\\Local\\Continuum\\anaconda3\\lib\\site-packages\\sklearn\\svm\\base.py:193: FutureWarning: The default value of gamma will change from 'auto' to 'scale' in version 0.22 to account better for unscaled features. Set gamma explicitly to 'auto' or 'scale' to avoid this warning.\n",
      "  \"avoid this warning.\", FutureWarning)\n",
      "C:\\Users\\justi\\AppData\\Local\\Continuum\\anaconda3\\lib\\site-packages\\sklearn\\svm\\base.py:193: FutureWarning: The default value of gamma will change from 'auto' to 'scale' in version 0.22 to account better for unscaled features. Set gamma explicitly to 'auto' or 'scale' to avoid this warning.\n",
      "  \"avoid this warning.\", FutureWarning)\n",
      "C:\\Users\\justi\\AppData\\Local\\Continuum\\anaconda3\\lib\\site-packages\\sklearn\\svm\\base.py:193: FutureWarning: The default value of gamma will change from 'auto' to 'scale' in version 0.22 to account better for unscaled features. Set gamma explicitly to 'auto' or 'scale' to avoid this warning.\n",
      "  \"avoid this warning.\", FutureWarning)\n",
      "C:\\Users\\justi\\AppData\\Local\\Continuum\\anaconda3\\lib\\site-packages\\sklearn\\svm\\base.py:193: FutureWarning: The default value of gamma will change from 'auto' to 'scale' in version 0.22 to account better for unscaled features. Set gamma explicitly to 'auto' or 'scale' to avoid this warning.\n",
      "  \"avoid this warning.\", FutureWarning)\n",
      "C:\\Users\\justi\\AppData\\Local\\Continuum\\anaconda3\\lib\\site-packages\\sklearn\\svm\\base.py:193: FutureWarning: The default value of gamma will change from 'auto' to 'scale' in version 0.22 to account better for unscaled features. Set gamma explicitly to 'auto' or 'scale' to avoid this warning.\n",
      "  \"avoid this warning.\", FutureWarning)\n",
      "C:\\Users\\justi\\AppData\\Local\\Continuum\\anaconda3\\lib\\site-packages\\sklearn\\svm\\base.py:193: FutureWarning: The default value of gamma will change from 'auto' to 'scale' in version 0.22 to account better for unscaled features. Set gamma explicitly to 'auto' or 'scale' to avoid this warning.\n",
      "  \"avoid this warning.\", FutureWarning)\n",
      "C:\\Users\\justi\\AppData\\Local\\Continuum\\anaconda3\\lib\\site-packages\\sklearn\\svm\\base.py:193: FutureWarning: The default value of gamma will change from 'auto' to 'scale' in version 0.22 to account better for unscaled features. Set gamma explicitly to 'auto' or 'scale' to avoid this warning.\n",
      "  \"avoid this warning.\", FutureWarning)\n",
      "C:\\Users\\justi\\AppData\\Local\\Continuum\\anaconda3\\lib\\site-packages\\sklearn\\svm\\base.py:193: FutureWarning: The default value of gamma will change from 'auto' to 'scale' in version 0.22 to account better for unscaled features. Set gamma explicitly to 'auto' or 'scale' to avoid this warning.\n",
      "  \"avoid this warning.\", FutureWarning)\n",
      "C:\\Users\\justi\\AppData\\Local\\Continuum\\anaconda3\\lib\\site-packages\\sklearn\\svm\\base.py:193: FutureWarning: The default value of gamma will change from 'auto' to 'scale' in version 0.22 to account better for unscaled features. Set gamma explicitly to 'auto' or 'scale' to avoid this warning.\n",
      "  \"avoid this warning.\", FutureWarning)\n",
      "C:\\Users\\justi\\AppData\\Local\\Continuum\\anaconda3\\lib\\site-packages\\sklearn\\svm\\base.py:193: FutureWarning: The default value of gamma will change from 'auto' to 'scale' in version 0.22 to account better for unscaled features. Set gamma explicitly to 'auto' or 'scale' to avoid this warning.\n",
      "  \"avoid this warning.\", FutureWarning)\n",
      "C:\\Users\\justi\\AppData\\Local\\Continuum\\anaconda3\\lib\\site-packages\\sklearn\\svm\\base.py:193: FutureWarning: The default value of gamma will change from 'auto' to 'scale' in version 0.22 to account better for unscaled features. Set gamma explicitly to 'auto' or 'scale' to avoid this warning.\n",
      "  \"avoid this warning.\", FutureWarning)\n",
      "C:\\Users\\justi\\AppData\\Local\\Continuum\\anaconda3\\lib\\site-packages\\sklearn\\svm\\base.py:193: FutureWarning: The default value of gamma will change from 'auto' to 'scale' in version 0.22 to account better for unscaled features. Set gamma explicitly to 'auto' or 'scale' to avoid this warning.\n",
      "  \"avoid this warning.\", FutureWarning)\n",
      "C:\\Users\\justi\\AppData\\Local\\Continuum\\anaconda3\\lib\\site-packages\\sklearn\\svm\\base.py:193: FutureWarning: The default value of gamma will change from 'auto' to 'scale' in version 0.22 to account better for unscaled features. Set gamma explicitly to 'auto' or 'scale' to avoid this warning.\n",
      "  \"avoid this warning.\", FutureWarning)\n",
      "C:\\Users\\justi\\AppData\\Local\\Continuum\\anaconda3\\lib\\site-packages\\sklearn\\svm\\base.py:193: FutureWarning: The default value of gamma will change from 'auto' to 'scale' in version 0.22 to account better for unscaled features. Set gamma explicitly to 'auto' or 'scale' to avoid this warning.\n",
      "  \"avoid this warning.\", FutureWarning)\n",
      "C:\\Users\\justi\\AppData\\Local\\Continuum\\anaconda3\\lib\\site-packages\\sklearn\\svm\\base.py:193: FutureWarning: The default value of gamma will change from 'auto' to 'scale' in version 0.22 to account better for unscaled features. Set gamma explicitly to 'auto' or 'scale' to avoid this warning.\n",
      "  \"avoid this warning.\", FutureWarning)\n",
      "C:\\Users\\justi\\AppData\\Local\\Continuum\\anaconda3\\lib\\site-packages\\sklearn\\svm\\base.py:193: FutureWarning: The default value of gamma will change from 'auto' to 'scale' in version 0.22 to account better for unscaled features. Set gamma explicitly to 'auto' or 'scale' to avoid this warning.\n",
      "  \"avoid this warning.\", FutureWarning)\n",
      "C:\\Users\\justi\\AppData\\Local\\Continuum\\anaconda3\\lib\\site-packages\\sklearn\\svm\\base.py:193: FutureWarning: The default value of gamma will change from 'auto' to 'scale' in version 0.22 to account better for unscaled features. Set gamma explicitly to 'auto' or 'scale' to avoid this warning.\n",
      "  \"avoid this warning.\", FutureWarning)\n",
      "C:\\Users\\justi\\AppData\\Local\\Continuum\\anaconda3\\lib\\site-packages\\sklearn\\svm\\base.py:193: FutureWarning: The default value of gamma will change from 'auto' to 'scale' in version 0.22 to account better for unscaled features. Set gamma explicitly to 'auto' or 'scale' to avoid this warning.\n",
      "  \"avoid this warning.\", FutureWarning)\n",
      "C:\\Users\\justi\\AppData\\Local\\Continuum\\anaconda3\\lib\\site-packages\\sklearn\\svm\\base.py:193: FutureWarning: The default value of gamma will change from 'auto' to 'scale' in version 0.22 to account better for unscaled features. Set gamma explicitly to 'auto' or 'scale' to avoid this warning.\n",
      "  \"avoid this warning.\", FutureWarning)\n",
      "C:\\Users\\justi\\AppData\\Local\\Continuum\\anaconda3\\lib\\site-packages\\sklearn\\svm\\base.py:193: FutureWarning: The default value of gamma will change from 'auto' to 'scale' in version 0.22 to account better for unscaled features. Set gamma explicitly to 'auto' or 'scale' to avoid this warning.\n",
      "  \"avoid this warning.\", FutureWarning)\n",
      "C:\\Users\\justi\\AppData\\Local\\Continuum\\anaconda3\\lib\\site-packages\\sklearn\\svm\\base.py:193: FutureWarning: The default value of gamma will change from 'auto' to 'scale' in version 0.22 to account better for unscaled features. Set gamma explicitly to 'auto' or 'scale' to avoid this warning.\n",
      "  \"avoid this warning.\", FutureWarning)\n",
      "C:\\Users\\justi\\AppData\\Local\\Continuum\\anaconda3\\lib\\site-packages\\sklearn\\svm\\base.py:193: FutureWarning: The default value of gamma will change from 'auto' to 'scale' in version 0.22 to account better for unscaled features. Set gamma explicitly to 'auto' or 'scale' to avoid this warning.\n",
      "  \"avoid this warning.\", FutureWarning)\n"
     ]
    },
    {
     "name": "stderr",
     "output_type": "stream",
     "text": [
      "C:\\Users\\justi\\AppData\\Local\\Continuum\\anaconda3\\lib\\site-packages\\sklearn\\svm\\base.py:193: FutureWarning: The default value of gamma will change from 'auto' to 'scale' in version 0.22 to account better for unscaled features. Set gamma explicitly to 'auto' or 'scale' to avoid this warning.\n",
      "  \"avoid this warning.\", FutureWarning)\n",
      "C:\\Users\\justi\\AppData\\Local\\Continuum\\anaconda3\\lib\\site-packages\\sklearn\\svm\\base.py:193: FutureWarning: The default value of gamma will change from 'auto' to 'scale' in version 0.22 to account better for unscaled features. Set gamma explicitly to 'auto' or 'scale' to avoid this warning.\n",
      "  \"avoid this warning.\", FutureWarning)\n",
      "C:\\Users\\justi\\AppData\\Local\\Continuum\\anaconda3\\lib\\site-packages\\sklearn\\svm\\base.py:193: FutureWarning: The default value of gamma will change from 'auto' to 'scale' in version 0.22 to account better for unscaled features. Set gamma explicitly to 'auto' or 'scale' to avoid this warning.\n",
      "  \"avoid this warning.\", FutureWarning)\n",
      "C:\\Users\\justi\\AppData\\Local\\Continuum\\anaconda3\\lib\\site-packages\\sklearn\\svm\\base.py:193: FutureWarning: The default value of gamma will change from 'auto' to 'scale' in version 0.22 to account better for unscaled features. Set gamma explicitly to 'auto' or 'scale' to avoid this warning.\n",
      "  \"avoid this warning.\", FutureWarning)\n",
      "C:\\Users\\justi\\AppData\\Local\\Continuum\\anaconda3\\lib\\site-packages\\sklearn\\svm\\base.py:193: FutureWarning: The default value of gamma will change from 'auto' to 'scale' in version 0.22 to account better for unscaled features. Set gamma explicitly to 'auto' or 'scale' to avoid this warning.\n",
      "  \"avoid this warning.\", FutureWarning)\n",
      "C:\\Users\\justi\\AppData\\Local\\Continuum\\anaconda3\\lib\\site-packages\\sklearn\\svm\\base.py:193: FutureWarning: The default value of gamma will change from 'auto' to 'scale' in version 0.22 to account better for unscaled features. Set gamma explicitly to 'auto' or 'scale' to avoid this warning.\n",
      "  \"avoid this warning.\", FutureWarning)\n",
      "C:\\Users\\justi\\AppData\\Local\\Continuum\\anaconda3\\lib\\site-packages\\sklearn\\svm\\base.py:193: FutureWarning: The default value of gamma will change from 'auto' to 'scale' in version 0.22 to account better for unscaled features. Set gamma explicitly to 'auto' or 'scale' to avoid this warning.\n",
      "  \"avoid this warning.\", FutureWarning)\n",
      "C:\\Users\\justi\\AppData\\Local\\Continuum\\anaconda3\\lib\\site-packages\\sklearn\\svm\\base.py:193: FutureWarning: The default value of gamma will change from 'auto' to 'scale' in version 0.22 to account better for unscaled features. Set gamma explicitly to 'auto' or 'scale' to avoid this warning.\n",
      "  \"avoid this warning.\", FutureWarning)\n",
      "C:\\Users\\justi\\AppData\\Local\\Continuum\\anaconda3\\lib\\site-packages\\sklearn\\svm\\base.py:193: FutureWarning: The default value of gamma will change from 'auto' to 'scale' in version 0.22 to account better for unscaled features. Set gamma explicitly to 'auto' or 'scale' to avoid this warning.\n",
      "  \"avoid this warning.\", FutureWarning)\n",
      "C:\\Users\\justi\\AppData\\Local\\Continuum\\anaconda3\\lib\\site-packages\\sklearn\\svm\\base.py:193: FutureWarning: The default value of gamma will change from 'auto' to 'scale' in version 0.22 to account better for unscaled features. Set gamma explicitly to 'auto' or 'scale' to avoid this warning.\n",
      "  \"avoid this warning.\", FutureWarning)\n",
      "C:\\Users\\justi\\AppData\\Local\\Continuum\\anaconda3\\lib\\site-packages\\sklearn\\svm\\base.py:193: FutureWarning: The default value of gamma will change from 'auto' to 'scale' in version 0.22 to account better for unscaled features. Set gamma explicitly to 'auto' or 'scale' to avoid this warning.\n",
      "  \"avoid this warning.\", FutureWarning)\n",
      "C:\\Users\\justi\\AppData\\Local\\Continuum\\anaconda3\\lib\\site-packages\\sklearn\\svm\\base.py:193: FutureWarning: The default value of gamma will change from 'auto' to 'scale' in version 0.22 to account better for unscaled features. Set gamma explicitly to 'auto' or 'scale' to avoid this warning.\n",
      "  \"avoid this warning.\", FutureWarning)\n",
      "C:\\Users\\justi\\AppData\\Local\\Continuum\\anaconda3\\lib\\site-packages\\sklearn\\svm\\base.py:193: FutureWarning: The default value of gamma will change from 'auto' to 'scale' in version 0.22 to account better for unscaled features. Set gamma explicitly to 'auto' or 'scale' to avoid this warning.\n",
      "  \"avoid this warning.\", FutureWarning)\n",
      "C:\\Users\\justi\\AppData\\Local\\Continuum\\anaconda3\\lib\\site-packages\\sklearn\\svm\\base.py:193: FutureWarning: The default value of gamma will change from 'auto' to 'scale' in version 0.22 to account better for unscaled features. Set gamma explicitly to 'auto' or 'scale' to avoid this warning.\n",
      "  \"avoid this warning.\", FutureWarning)\n",
      "C:\\Users\\justi\\AppData\\Local\\Continuum\\anaconda3\\lib\\site-packages\\sklearn\\svm\\base.py:193: FutureWarning: The default value of gamma will change from 'auto' to 'scale' in version 0.22 to account better for unscaled features. Set gamma explicitly to 'auto' or 'scale' to avoid this warning.\n",
      "  \"avoid this warning.\", FutureWarning)\n",
      "C:\\Users\\justi\\AppData\\Local\\Continuum\\anaconda3\\lib\\site-packages\\sklearn\\svm\\base.py:193: FutureWarning: The default value of gamma will change from 'auto' to 'scale' in version 0.22 to account better for unscaled features. Set gamma explicitly to 'auto' or 'scale' to avoid this warning.\n",
      "  \"avoid this warning.\", FutureWarning)\n",
      "C:\\Users\\justi\\AppData\\Local\\Continuum\\anaconda3\\lib\\site-packages\\sklearn\\svm\\base.py:193: FutureWarning: The default value of gamma will change from 'auto' to 'scale' in version 0.22 to account better for unscaled features. Set gamma explicitly to 'auto' or 'scale' to avoid this warning.\n",
      "  \"avoid this warning.\", FutureWarning)\n",
      "C:\\Users\\justi\\AppData\\Local\\Continuum\\anaconda3\\lib\\site-packages\\sklearn\\svm\\base.py:193: FutureWarning: The default value of gamma will change from 'auto' to 'scale' in version 0.22 to account better for unscaled features. Set gamma explicitly to 'auto' or 'scale' to avoid this warning.\n",
      "  \"avoid this warning.\", FutureWarning)\n",
      "C:\\Users\\justi\\AppData\\Local\\Continuum\\anaconda3\\lib\\site-packages\\sklearn\\svm\\base.py:193: FutureWarning: The default value of gamma will change from 'auto' to 'scale' in version 0.22 to account better for unscaled features. Set gamma explicitly to 'auto' or 'scale' to avoid this warning.\n",
      "  \"avoid this warning.\", FutureWarning)\n",
      "C:\\Users\\justi\\AppData\\Local\\Continuum\\anaconda3\\lib\\site-packages\\sklearn\\svm\\base.py:193: FutureWarning: The default value of gamma will change from 'auto' to 'scale' in version 0.22 to account better for unscaled features. Set gamma explicitly to 'auto' or 'scale' to avoid this warning.\n",
      "  \"avoid this warning.\", FutureWarning)\n",
      "C:\\Users\\justi\\AppData\\Local\\Continuum\\anaconda3\\lib\\site-packages\\sklearn\\svm\\base.py:193: FutureWarning: The default value of gamma will change from 'auto' to 'scale' in version 0.22 to account better for unscaled features. Set gamma explicitly to 'auto' or 'scale' to avoid this warning.\n",
      "  \"avoid this warning.\", FutureWarning)\n",
      "C:\\Users\\justi\\AppData\\Local\\Continuum\\anaconda3\\lib\\site-packages\\sklearn\\svm\\base.py:193: FutureWarning: The default value of gamma will change from 'auto' to 'scale' in version 0.22 to account better for unscaled features. Set gamma explicitly to 'auto' or 'scale' to avoid this warning.\n",
      "  \"avoid this warning.\", FutureWarning)\n",
      "C:\\Users\\justi\\AppData\\Local\\Continuum\\anaconda3\\lib\\site-packages\\sklearn\\svm\\base.py:193: FutureWarning: The default value of gamma will change from 'auto' to 'scale' in version 0.22 to account better for unscaled features. Set gamma explicitly to 'auto' or 'scale' to avoid this warning.\n",
      "  \"avoid this warning.\", FutureWarning)\n",
      "C:\\Users\\justi\\AppData\\Local\\Continuum\\anaconda3\\lib\\site-packages\\sklearn\\svm\\base.py:193: FutureWarning: The default value of gamma will change from 'auto' to 'scale' in version 0.22 to account better for unscaled features. Set gamma explicitly to 'auto' or 'scale' to avoid this warning.\n",
      "  \"avoid this warning.\", FutureWarning)\n",
      "C:\\Users\\justi\\AppData\\Local\\Continuum\\anaconda3\\lib\\site-packages\\sklearn\\svm\\base.py:193: FutureWarning: The default value of gamma will change from 'auto' to 'scale' in version 0.22 to account better for unscaled features. Set gamma explicitly to 'auto' or 'scale' to avoid this warning.\n",
      "  \"avoid this warning.\", FutureWarning)\n"
     ]
    },
    {
     "name": "stderr",
     "output_type": "stream",
     "text": [
      "C:\\Users\\justi\\AppData\\Local\\Continuum\\anaconda3\\lib\\site-packages\\sklearn\\svm\\base.py:193: FutureWarning: The default value of gamma will change from 'auto' to 'scale' in version 0.22 to account better for unscaled features. Set gamma explicitly to 'auto' or 'scale' to avoid this warning.\n",
      "  \"avoid this warning.\", FutureWarning)\n",
      "C:\\Users\\justi\\AppData\\Local\\Continuum\\anaconda3\\lib\\site-packages\\sklearn\\svm\\base.py:193: FutureWarning: The default value of gamma will change from 'auto' to 'scale' in version 0.22 to account better for unscaled features. Set gamma explicitly to 'auto' or 'scale' to avoid this warning.\n",
      "  \"avoid this warning.\", FutureWarning)\n",
      "C:\\Users\\justi\\AppData\\Local\\Continuum\\anaconda3\\lib\\site-packages\\sklearn\\svm\\base.py:193: FutureWarning: The default value of gamma will change from 'auto' to 'scale' in version 0.22 to account better for unscaled features. Set gamma explicitly to 'auto' or 'scale' to avoid this warning.\n",
      "  \"avoid this warning.\", FutureWarning)\n",
      "C:\\Users\\justi\\AppData\\Local\\Continuum\\anaconda3\\lib\\site-packages\\sklearn\\svm\\base.py:193: FutureWarning: The default value of gamma will change from 'auto' to 'scale' in version 0.22 to account better for unscaled features. Set gamma explicitly to 'auto' or 'scale' to avoid this warning.\n",
      "  \"avoid this warning.\", FutureWarning)\n",
      "C:\\Users\\justi\\AppData\\Local\\Continuum\\anaconda3\\lib\\site-packages\\sklearn\\svm\\base.py:193: FutureWarning: The default value of gamma will change from 'auto' to 'scale' in version 0.22 to account better for unscaled features. Set gamma explicitly to 'auto' or 'scale' to avoid this warning.\n",
      "  \"avoid this warning.\", FutureWarning)\n",
      "C:\\Users\\justi\\AppData\\Local\\Continuum\\anaconda3\\lib\\site-packages\\sklearn\\svm\\base.py:193: FutureWarning: The default value of gamma will change from 'auto' to 'scale' in version 0.22 to account better for unscaled features. Set gamma explicitly to 'auto' or 'scale' to avoid this warning.\n",
      "  \"avoid this warning.\", FutureWarning)\n",
      "C:\\Users\\justi\\AppData\\Local\\Continuum\\anaconda3\\lib\\site-packages\\sklearn\\svm\\base.py:193: FutureWarning: The default value of gamma will change from 'auto' to 'scale' in version 0.22 to account better for unscaled features. Set gamma explicitly to 'auto' or 'scale' to avoid this warning.\n",
      "  \"avoid this warning.\", FutureWarning)\n",
      "C:\\Users\\justi\\AppData\\Local\\Continuum\\anaconda3\\lib\\site-packages\\sklearn\\svm\\base.py:193: FutureWarning: The default value of gamma will change from 'auto' to 'scale' in version 0.22 to account better for unscaled features. Set gamma explicitly to 'auto' or 'scale' to avoid this warning.\n",
      "  \"avoid this warning.\", FutureWarning)\n",
      "C:\\Users\\justi\\AppData\\Local\\Continuum\\anaconda3\\lib\\site-packages\\sklearn\\svm\\base.py:193: FutureWarning: The default value of gamma will change from 'auto' to 'scale' in version 0.22 to account better for unscaled features. Set gamma explicitly to 'auto' or 'scale' to avoid this warning.\n",
      "  \"avoid this warning.\", FutureWarning)\n",
      "C:\\Users\\justi\\AppData\\Local\\Continuum\\anaconda3\\lib\\site-packages\\sklearn\\svm\\base.py:193: FutureWarning: The default value of gamma will change from 'auto' to 'scale' in version 0.22 to account better for unscaled features. Set gamma explicitly to 'auto' or 'scale' to avoid this warning.\n",
      "  \"avoid this warning.\", FutureWarning)\n",
      "C:\\Users\\justi\\AppData\\Local\\Continuum\\anaconda3\\lib\\site-packages\\sklearn\\svm\\base.py:193: FutureWarning: The default value of gamma will change from 'auto' to 'scale' in version 0.22 to account better for unscaled features. Set gamma explicitly to 'auto' or 'scale' to avoid this warning.\n",
      "  \"avoid this warning.\", FutureWarning)\n",
      "C:\\Users\\justi\\AppData\\Local\\Continuum\\anaconda3\\lib\\site-packages\\sklearn\\svm\\base.py:193: FutureWarning: The default value of gamma will change from 'auto' to 'scale' in version 0.22 to account better for unscaled features. Set gamma explicitly to 'auto' or 'scale' to avoid this warning.\n",
      "  \"avoid this warning.\", FutureWarning)\n",
      "C:\\Users\\justi\\AppData\\Local\\Continuum\\anaconda3\\lib\\site-packages\\sklearn\\svm\\base.py:193: FutureWarning: The default value of gamma will change from 'auto' to 'scale' in version 0.22 to account better for unscaled features. Set gamma explicitly to 'auto' or 'scale' to avoid this warning.\n",
      "  \"avoid this warning.\", FutureWarning)\n",
      "C:\\Users\\justi\\AppData\\Local\\Continuum\\anaconda3\\lib\\site-packages\\sklearn\\svm\\base.py:193: FutureWarning: The default value of gamma will change from 'auto' to 'scale' in version 0.22 to account better for unscaled features. Set gamma explicitly to 'auto' or 'scale' to avoid this warning.\n",
      "  \"avoid this warning.\", FutureWarning)\n",
      "C:\\Users\\justi\\AppData\\Local\\Continuum\\anaconda3\\lib\\site-packages\\sklearn\\svm\\base.py:193: FutureWarning: The default value of gamma will change from 'auto' to 'scale' in version 0.22 to account better for unscaled features. Set gamma explicitly to 'auto' or 'scale' to avoid this warning.\n",
      "  \"avoid this warning.\", FutureWarning)\n",
      "C:\\Users\\justi\\AppData\\Local\\Continuum\\anaconda3\\lib\\site-packages\\sklearn\\svm\\base.py:193: FutureWarning: The default value of gamma will change from 'auto' to 'scale' in version 0.22 to account better for unscaled features. Set gamma explicitly to 'auto' or 'scale' to avoid this warning.\n",
      "  \"avoid this warning.\", FutureWarning)\n",
      "C:\\Users\\justi\\AppData\\Local\\Continuum\\anaconda3\\lib\\site-packages\\sklearn\\svm\\base.py:193: FutureWarning: The default value of gamma will change from 'auto' to 'scale' in version 0.22 to account better for unscaled features. Set gamma explicitly to 'auto' or 'scale' to avoid this warning.\n",
      "  \"avoid this warning.\", FutureWarning)\n",
      "C:\\Users\\justi\\AppData\\Local\\Continuum\\anaconda3\\lib\\site-packages\\sklearn\\svm\\base.py:193: FutureWarning: The default value of gamma will change from 'auto' to 'scale' in version 0.22 to account better for unscaled features. Set gamma explicitly to 'auto' or 'scale' to avoid this warning.\n",
      "  \"avoid this warning.\", FutureWarning)\n",
      "C:\\Users\\justi\\AppData\\Local\\Continuum\\anaconda3\\lib\\site-packages\\sklearn\\svm\\base.py:193: FutureWarning: The default value of gamma will change from 'auto' to 'scale' in version 0.22 to account better for unscaled features. Set gamma explicitly to 'auto' or 'scale' to avoid this warning.\n",
      "  \"avoid this warning.\", FutureWarning)\n",
      "C:\\Users\\justi\\AppData\\Local\\Continuum\\anaconda3\\lib\\site-packages\\sklearn\\svm\\base.py:193: FutureWarning: The default value of gamma will change from 'auto' to 'scale' in version 0.22 to account better for unscaled features. Set gamma explicitly to 'auto' or 'scale' to avoid this warning.\n",
      "  \"avoid this warning.\", FutureWarning)\n",
      "C:\\Users\\justi\\AppData\\Local\\Continuum\\anaconda3\\lib\\site-packages\\sklearn\\svm\\base.py:193: FutureWarning: The default value of gamma will change from 'auto' to 'scale' in version 0.22 to account better for unscaled features. Set gamma explicitly to 'auto' or 'scale' to avoid this warning.\n",
      "  \"avoid this warning.\", FutureWarning)\n",
      "C:\\Users\\justi\\AppData\\Local\\Continuum\\anaconda3\\lib\\site-packages\\sklearn\\svm\\base.py:193: FutureWarning: The default value of gamma will change from 'auto' to 'scale' in version 0.22 to account better for unscaled features. Set gamma explicitly to 'auto' or 'scale' to avoid this warning.\n",
      "  \"avoid this warning.\", FutureWarning)\n",
      "C:\\Users\\justi\\AppData\\Local\\Continuum\\anaconda3\\lib\\site-packages\\sklearn\\svm\\base.py:193: FutureWarning: The default value of gamma will change from 'auto' to 'scale' in version 0.22 to account better for unscaled features. Set gamma explicitly to 'auto' or 'scale' to avoid this warning.\n",
      "  \"avoid this warning.\", FutureWarning)\n",
      "C:\\Users\\justi\\AppData\\Local\\Continuum\\anaconda3\\lib\\site-packages\\sklearn\\svm\\base.py:193: FutureWarning: The default value of gamma will change from 'auto' to 'scale' in version 0.22 to account better for unscaled features. Set gamma explicitly to 'auto' or 'scale' to avoid this warning.\n",
      "  \"avoid this warning.\", FutureWarning)\n",
      "C:\\Users\\justi\\AppData\\Local\\Continuum\\anaconda3\\lib\\site-packages\\sklearn\\svm\\base.py:193: FutureWarning: The default value of gamma will change from 'auto' to 'scale' in version 0.22 to account better for unscaled features. Set gamma explicitly to 'auto' or 'scale' to avoid this warning.\n",
      "  \"avoid this warning.\", FutureWarning)\n"
     ]
    },
    {
     "name": "stderr",
     "output_type": "stream",
     "text": [
      "C:\\Users\\justi\\AppData\\Local\\Continuum\\anaconda3\\lib\\site-packages\\sklearn\\svm\\base.py:193: FutureWarning: The default value of gamma will change from 'auto' to 'scale' in version 0.22 to account better for unscaled features. Set gamma explicitly to 'auto' or 'scale' to avoid this warning.\n",
      "  \"avoid this warning.\", FutureWarning)\n",
      "C:\\Users\\justi\\AppData\\Local\\Continuum\\anaconda3\\lib\\site-packages\\sklearn\\svm\\base.py:193: FutureWarning: The default value of gamma will change from 'auto' to 'scale' in version 0.22 to account better for unscaled features. Set gamma explicitly to 'auto' or 'scale' to avoid this warning.\n",
      "  \"avoid this warning.\", FutureWarning)\n",
      "C:\\Users\\justi\\AppData\\Local\\Continuum\\anaconda3\\lib\\site-packages\\sklearn\\svm\\base.py:193: FutureWarning: The default value of gamma will change from 'auto' to 'scale' in version 0.22 to account better for unscaled features. Set gamma explicitly to 'auto' or 'scale' to avoid this warning.\n",
      "  \"avoid this warning.\", FutureWarning)\n",
      "C:\\Users\\justi\\AppData\\Local\\Continuum\\anaconda3\\lib\\site-packages\\sklearn\\svm\\base.py:193: FutureWarning: The default value of gamma will change from 'auto' to 'scale' in version 0.22 to account better for unscaled features. Set gamma explicitly to 'auto' or 'scale' to avoid this warning.\n",
      "  \"avoid this warning.\", FutureWarning)\n",
      "C:\\Users\\justi\\AppData\\Local\\Continuum\\anaconda3\\lib\\site-packages\\sklearn\\svm\\base.py:193: FutureWarning: The default value of gamma will change from 'auto' to 'scale' in version 0.22 to account better for unscaled features. Set gamma explicitly to 'auto' or 'scale' to avoid this warning.\n",
      "  \"avoid this warning.\", FutureWarning)\n",
      "C:\\Users\\justi\\AppData\\Local\\Continuum\\anaconda3\\lib\\site-packages\\sklearn\\svm\\base.py:193: FutureWarning: The default value of gamma will change from 'auto' to 'scale' in version 0.22 to account better for unscaled features. Set gamma explicitly to 'auto' or 'scale' to avoid this warning.\n",
      "  \"avoid this warning.\", FutureWarning)\n",
      "C:\\Users\\justi\\AppData\\Local\\Continuum\\anaconda3\\lib\\site-packages\\sklearn\\svm\\base.py:193: FutureWarning: The default value of gamma will change from 'auto' to 'scale' in version 0.22 to account better for unscaled features. Set gamma explicitly to 'auto' or 'scale' to avoid this warning.\n",
      "  \"avoid this warning.\", FutureWarning)\n",
      "C:\\Users\\justi\\AppData\\Local\\Continuum\\anaconda3\\lib\\site-packages\\sklearn\\svm\\base.py:193: FutureWarning: The default value of gamma will change from 'auto' to 'scale' in version 0.22 to account better for unscaled features. Set gamma explicitly to 'auto' or 'scale' to avoid this warning.\n",
      "  \"avoid this warning.\", FutureWarning)\n",
      "C:\\Users\\justi\\AppData\\Local\\Continuum\\anaconda3\\lib\\site-packages\\sklearn\\svm\\base.py:193: FutureWarning: The default value of gamma will change from 'auto' to 'scale' in version 0.22 to account better for unscaled features. Set gamma explicitly to 'auto' or 'scale' to avoid this warning.\n",
      "  \"avoid this warning.\", FutureWarning)\n",
      "C:\\Users\\justi\\AppData\\Local\\Continuum\\anaconda3\\lib\\site-packages\\sklearn\\svm\\base.py:193: FutureWarning: The default value of gamma will change from 'auto' to 'scale' in version 0.22 to account better for unscaled features. Set gamma explicitly to 'auto' or 'scale' to avoid this warning.\n",
      "  \"avoid this warning.\", FutureWarning)\n",
      "C:\\Users\\justi\\AppData\\Local\\Continuum\\anaconda3\\lib\\site-packages\\sklearn\\svm\\base.py:193: FutureWarning: The default value of gamma will change from 'auto' to 'scale' in version 0.22 to account better for unscaled features. Set gamma explicitly to 'auto' or 'scale' to avoid this warning.\n",
      "  \"avoid this warning.\", FutureWarning)\n",
      "C:\\Users\\justi\\AppData\\Local\\Continuum\\anaconda3\\lib\\site-packages\\sklearn\\svm\\base.py:193: FutureWarning: The default value of gamma will change from 'auto' to 'scale' in version 0.22 to account better for unscaled features. Set gamma explicitly to 'auto' or 'scale' to avoid this warning.\n",
      "  \"avoid this warning.\", FutureWarning)\n",
      "C:\\Users\\justi\\AppData\\Local\\Continuum\\anaconda3\\lib\\site-packages\\sklearn\\svm\\base.py:193: FutureWarning: The default value of gamma will change from 'auto' to 'scale' in version 0.22 to account better for unscaled features. Set gamma explicitly to 'auto' or 'scale' to avoid this warning.\n",
      "  \"avoid this warning.\", FutureWarning)\n",
      "C:\\Users\\justi\\AppData\\Local\\Continuum\\anaconda3\\lib\\site-packages\\sklearn\\svm\\base.py:193: FutureWarning: The default value of gamma will change from 'auto' to 'scale' in version 0.22 to account better for unscaled features. Set gamma explicitly to 'auto' or 'scale' to avoid this warning.\n",
      "  \"avoid this warning.\", FutureWarning)\n",
      "C:\\Users\\justi\\AppData\\Local\\Continuum\\anaconda3\\lib\\site-packages\\sklearn\\svm\\base.py:193: FutureWarning: The default value of gamma will change from 'auto' to 'scale' in version 0.22 to account better for unscaled features. Set gamma explicitly to 'auto' or 'scale' to avoid this warning.\n",
      "  \"avoid this warning.\", FutureWarning)\n",
      "C:\\Users\\justi\\AppData\\Local\\Continuum\\anaconda3\\lib\\site-packages\\sklearn\\svm\\base.py:193: FutureWarning: The default value of gamma will change from 'auto' to 'scale' in version 0.22 to account better for unscaled features. Set gamma explicitly to 'auto' or 'scale' to avoid this warning.\n",
      "  \"avoid this warning.\", FutureWarning)\n",
      "C:\\Users\\justi\\AppData\\Local\\Continuum\\anaconda3\\lib\\site-packages\\sklearn\\svm\\base.py:193: FutureWarning: The default value of gamma will change from 'auto' to 'scale' in version 0.22 to account better for unscaled features. Set gamma explicitly to 'auto' or 'scale' to avoid this warning.\n",
      "  \"avoid this warning.\", FutureWarning)\n",
      "C:\\Users\\justi\\AppData\\Local\\Continuum\\anaconda3\\lib\\site-packages\\sklearn\\svm\\base.py:193: FutureWarning: The default value of gamma will change from 'auto' to 'scale' in version 0.22 to account better for unscaled features. Set gamma explicitly to 'auto' or 'scale' to avoid this warning.\n",
      "  \"avoid this warning.\", FutureWarning)\n",
      "C:\\Users\\justi\\AppData\\Local\\Continuum\\anaconda3\\lib\\site-packages\\sklearn\\svm\\base.py:193: FutureWarning: The default value of gamma will change from 'auto' to 'scale' in version 0.22 to account better for unscaled features. Set gamma explicitly to 'auto' or 'scale' to avoid this warning.\n",
      "  \"avoid this warning.\", FutureWarning)\n",
      "C:\\Users\\justi\\AppData\\Local\\Continuum\\anaconda3\\lib\\site-packages\\sklearn\\svm\\base.py:193: FutureWarning: The default value of gamma will change from 'auto' to 'scale' in version 0.22 to account better for unscaled features. Set gamma explicitly to 'auto' or 'scale' to avoid this warning.\n",
      "  \"avoid this warning.\", FutureWarning)\n",
      "C:\\Users\\justi\\AppData\\Local\\Continuum\\anaconda3\\lib\\site-packages\\sklearn\\svm\\base.py:193: FutureWarning: The default value of gamma will change from 'auto' to 'scale' in version 0.22 to account better for unscaled features. Set gamma explicitly to 'auto' or 'scale' to avoid this warning.\n",
      "  \"avoid this warning.\", FutureWarning)\n",
      "C:\\Users\\justi\\AppData\\Local\\Continuum\\anaconda3\\lib\\site-packages\\sklearn\\svm\\base.py:193: FutureWarning: The default value of gamma will change from 'auto' to 'scale' in version 0.22 to account better for unscaled features. Set gamma explicitly to 'auto' or 'scale' to avoid this warning.\n",
      "  \"avoid this warning.\", FutureWarning)\n",
      "C:\\Users\\justi\\AppData\\Local\\Continuum\\anaconda3\\lib\\site-packages\\sklearn\\svm\\base.py:193: FutureWarning: The default value of gamma will change from 'auto' to 'scale' in version 0.22 to account better for unscaled features. Set gamma explicitly to 'auto' or 'scale' to avoid this warning.\n",
      "  \"avoid this warning.\", FutureWarning)\n",
      "C:\\Users\\justi\\AppData\\Local\\Continuum\\anaconda3\\lib\\site-packages\\sklearn\\svm\\base.py:193: FutureWarning: The default value of gamma will change from 'auto' to 'scale' in version 0.22 to account better for unscaled features. Set gamma explicitly to 'auto' or 'scale' to avoid this warning.\n",
      "  \"avoid this warning.\", FutureWarning)\n",
      "C:\\Users\\justi\\AppData\\Local\\Continuum\\anaconda3\\lib\\site-packages\\sklearn\\svm\\base.py:193: FutureWarning: The default value of gamma will change from 'auto' to 'scale' in version 0.22 to account better for unscaled features. Set gamma explicitly to 'auto' or 'scale' to avoid this warning.\n",
      "  \"avoid this warning.\", FutureWarning)\n"
     ]
    },
    {
     "name": "stderr",
     "output_type": "stream",
     "text": [
      "C:\\Users\\justi\\AppData\\Local\\Continuum\\anaconda3\\lib\\site-packages\\sklearn\\svm\\base.py:193: FutureWarning: The default value of gamma will change from 'auto' to 'scale' in version 0.22 to account better for unscaled features. Set gamma explicitly to 'auto' or 'scale' to avoid this warning.\n",
      "  \"avoid this warning.\", FutureWarning)\n",
      "C:\\Users\\justi\\AppData\\Local\\Continuum\\anaconda3\\lib\\site-packages\\sklearn\\svm\\base.py:193: FutureWarning: The default value of gamma will change from 'auto' to 'scale' in version 0.22 to account better for unscaled features. Set gamma explicitly to 'auto' or 'scale' to avoid this warning.\n",
      "  \"avoid this warning.\", FutureWarning)\n",
      "C:\\Users\\justi\\AppData\\Local\\Continuum\\anaconda3\\lib\\site-packages\\sklearn\\svm\\base.py:193: FutureWarning: The default value of gamma will change from 'auto' to 'scale' in version 0.22 to account better for unscaled features. Set gamma explicitly to 'auto' or 'scale' to avoid this warning.\n",
      "  \"avoid this warning.\", FutureWarning)\n",
      "C:\\Users\\justi\\AppData\\Local\\Continuum\\anaconda3\\lib\\site-packages\\sklearn\\svm\\base.py:193: FutureWarning: The default value of gamma will change from 'auto' to 'scale' in version 0.22 to account better for unscaled features. Set gamma explicitly to 'auto' or 'scale' to avoid this warning.\n",
      "  \"avoid this warning.\", FutureWarning)\n",
      "C:\\Users\\justi\\AppData\\Local\\Continuum\\anaconda3\\lib\\site-packages\\sklearn\\svm\\base.py:193: FutureWarning: The default value of gamma will change from 'auto' to 'scale' in version 0.22 to account better for unscaled features. Set gamma explicitly to 'auto' or 'scale' to avoid this warning.\n",
      "  \"avoid this warning.\", FutureWarning)\n",
      "C:\\Users\\justi\\AppData\\Local\\Continuum\\anaconda3\\lib\\site-packages\\sklearn\\svm\\base.py:193: FutureWarning: The default value of gamma will change from 'auto' to 'scale' in version 0.22 to account better for unscaled features. Set gamma explicitly to 'auto' or 'scale' to avoid this warning.\n",
      "  \"avoid this warning.\", FutureWarning)\n",
      "C:\\Users\\justi\\AppData\\Local\\Continuum\\anaconda3\\lib\\site-packages\\sklearn\\svm\\base.py:193: FutureWarning: The default value of gamma will change from 'auto' to 'scale' in version 0.22 to account better for unscaled features. Set gamma explicitly to 'auto' or 'scale' to avoid this warning.\n",
      "  \"avoid this warning.\", FutureWarning)\n",
      "C:\\Users\\justi\\AppData\\Local\\Continuum\\anaconda3\\lib\\site-packages\\sklearn\\svm\\base.py:193: FutureWarning: The default value of gamma will change from 'auto' to 'scale' in version 0.22 to account better for unscaled features. Set gamma explicitly to 'auto' or 'scale' to avoid this warning.\n",
      "  \"avoid this warning.\", FutureWarning)\n",
      "C:\\Users\\justi\\AppData\\Local\\Continuum\\anaconda3\\lib\\site-packages\\sklearn\\svm\\base.py:193: FutureWarning: The default value of gamma will change from 'auto' to 'scale' in version 0.22 to account better for unscaled features. Set gamma explicitly to 'auto' or 'scale' to avoid this warning.\n",
      "  \"avoid this warning.\", FutureWarning)\n",
      "C:\\Users\\justi\\AppData\\Local\\Continuum\\anaconda3\\lib\\site-packages\\sklearn\\svm\\base.py:193: FutureWarning: The default value of gamma will change from 'auto' to 'scale' in version 0.22 to account better for unscaled features. Set gamma explicitly to 'auto' or 'scale' to avoid this warning.\n",
      "  \"avoid this warning.\", FutureWarning)\n",
      "C:\\Users\\justi\\AppData\\Local\\Continuum\\anaconda3\\lib\\site-packages\\sklearn\\svm\\base.py:193: FutureWarning: The default value of gamma will change from 'auto' to 'scale' in version 0.22 to account better for unscaled features. Set gamma explicitly to 'auto' or 'scale' to avoid this warning.\n",
      "  \"avoid this warning.\", FutureWarning)\n",
      "C:\\Users\\justi\\AppData\\Local\\Continuum\\anaconda3\\lib\\site-packages\\sklearn\\svm\\base.py:193: FutureWarning: The default value of gamma will change from 'auto' to 'scale' in version 0.22 to account better for unscaled features. Set gamma explicitly to 'auto' or 'scale' to avoid this warning.\n",
      "  \"avoid this warning.\", FutureWarning)\n",
      "C:\\Users\\justi\\AppData\\Local\\Continuum\\anaconda3\\lib\\site-packages\\sklearn\\svm\\base.py:193: FutureWarning: The default value of gamma will change from 'auto' to 'scale' in version 0.22 to account better for unscaled features. Set gamma explicitly to 'auto' or 'scale' to avoid this warning.\n",
      "  \"avoid this warning.\", FutureWarning)\n",
      "C:\\Users\\justi\\AppData\\Local\\Continuum\\anaconda3\\lib\\site-packages\\sklearn\\svm\\base.py:193: FutureWarning: The default value of gamma will change from 'auto' to 'scale' in version 0.22 to account better for unscaled features. Set gamma explicitly to 'auto' or 'scale' to avoid this warning.\n",
      "  \"avoid this warning.\", FutureWarning)\n",
      "C:\\Users\\justi\\AppData\\Local\\Continuum\\anaconda3\\lib\\site-packages\\sklearn\\svm\\base.py:193: FutureWarning: The default value of gamma will change from 'auto' to 'scale' in version 0.22 to account better for unscaled features. Set gamma explicitly to 'auto' or 'scale' to avoid this warning.\n",
      "  \"avoid this warning.\", FutureWarning)\n",
      "C:\\Users\\justi\\AppData\\Local\\Continuum\\anaconda3\\lib\\site-packages\\sklearn\\svm\\base.py:193: FutureWarning: The default value of gamma will change from 'auto' to 'scale' in version 0.22 to account better for unscaled features. Set gamma explicitly to 'auto' or 'scale' to avoid this warning.\n",
      "  \"avoid this warning.\", FutureWarning)\n",
      "C:\\Users\\justi\\AppData\\Local\\Continuum\\anaconda3\\lib\\site-packages\\sklearn\\svm\\base.py:193: FutureWarning: The default value of gamma will change from 'auto' to 'scale' in version 0.22 to account better for unscaled features. Set gamma explicitly to 'auto' or 'scale' to avoid this warning.\n",
      "  \"avoid this warning.\", FutureWarning)\n",
      "C:\\Users\\justi\\AppData\\Local\\Continuum\\anaconda3\\lib\\site-packages\\sklearn\\svm\\base.py:193: FutureWarning: The default value of gamma will change from 'auto' to 'scale' in version 0.22 to account better for unscaled features. Set gamma explicitly to 'auto' or 'scale' to avoid this warning.\n",
      "  \"avoid this warning.\", FutureWarning)\n",
      "C:\\Users\\justi\\AppData\\Local\\Continuum\\anaconda3\\lib\\site-packages\\sklearn\\svm\\base.py:193: FutureWarning: The default value of gamma will change from 'auto' to 'scale' in version 0.22 to account better for unscaled features. Set gamma explicitly to 'auto' or 'scale' to avoid this warning.\n",
      "  \"avoid this warning.\", FutureWarning)\n",
      "C:\\Users\\justi\\AppData\\Local\\Continuum\\anaconda3\\lib\\site-packages\\sklearn\\svm\\base.py:193: FutureWarning: The default value of gamma will change from 'auto' to 'scale' in version 0.22 to account better for unscaled features. Set gamma explicitly to 'auto' or 'scale' to avoid this warning.\n",
      "  \"avoid this warning.\", FutureWarning)\n",
      "C:\\Users\\justi\\AppData\\Local\\Continuum\\anaconda3\\lib\\site-packages\\sklearn\\svm\\base.py:193: FutureWarning: The default value of gamma will change from 'auto' to 'scale' in version 0.22 to account better for unscaled features. Set gamma explicitly to 'auto' or 'scale' to avoid this warning.\n",
      "  \"avoid this warning.\", FutureWarning)\n",
      "C:\\Users\\justi\\AppData\\Local\\Continuum\\anaconda3\\lib\\site-packages\\sklearn\\svm\\base.py:193: FutureWarning: The default value of gamma will change from 'auto' to 'scale' in version 0.22 to account better for unscaled features. Set gamma explicitly to 'auto' or 'scale' to avoid this warning.\n",
      "  \"avoid this warning.\", FutureWarning)\n",
      "C:\\Users\\justi\\AppData\\Local\\Continuum\\anaconda3\\lib\\site-packages\\sklearn\\svm\\base.py:193: FutureWarning: The default value of gamma will change from 'auto' to 'scale' in version 0.22 to account better for unscaled features. Set gamma explicitly to 'auto' or 'scale' to avoid this warning.\n",
      "  \"avoid this warning.\", FutureWarning)\n",
      "C:\\Users\\justi\\AppData\\Local\\Continuum\\anaconda3\\lib\\site-packages\\sklearn\\svm\\base.py:193: FutureWarning: The default value of gamma will change from 'auto' to 'scale' in version 0.22 to account better for unscaled features. Set gamma explicitly to 'auto' or 'scale' to avoid this warning.\n",
      "  \"avoid this warning.\", FutureWarning)\n",
      "C:\\Users\\justi\\AppData\\Local\\Continuum\\anaconda3\\lib\\site-packages\\sklearn\\svm\\base.py:193: FutureWarning: The default value of gamma will change from 'auto' to 'scale' in version 0.22 to account better for unscaled features. Set gamma explicitly to 'auto' or 'scale' to avoid this warning.\n",
      "  \"avoid this warning.\", FutureWarning)\n"
     ]
    },
    {
     "name": "stderr",
     "output_type": "stream",
     "text": [
      "C:\\Users\\justi\\AppData\\Local\\Continuum\\anaconda3\\lib\\site-packages\\sklearn\\svm\\base.py:193: FutureWarning: The default value of gamma will change from 'auto' to 'scale' in version 0.22 to account better for unscaled features. Set gamma explicitly to 'auto' or 'scale' to avoid this warning.\n",
      "  \"avoid this warning.\", FutureWarning)\n",
      "C:\\Users\\justi\\AppData\\Local\\Continuum\\anaconda3\\lib\\site-packages\\sklearn\\svm\\base.py:193: FutureWarning: The default value of gamma will change from 'auto' to 'scale' in version 0.22 to account better for unscaled features. Set gamma explicitly to 'auto' or 'scale' to avoid this warning.\n",
      "  \"avoid this warning.\", FutureWarning)\n",
      "C:\\Users\\justi\\AppData\\Local\\Continuum\\anaconda3\\lib\\site-packages\\sklearn\\svm\\base.py:193: FutureWarning: The default value of gamma will change from 'auto' to 'scale' in version 0.22 to account better for unscaled features. Set gamma explicitly to 'auto' or 'scale' to avoid this warning.\n",
      "  \"avoid this warning.\", FutureWarning)\n",
      "C:\\Users\\justi\\AppData\\Local\\Continuum\\anaconda3\\lib\\site-packages\\sklearn\\svm\\base.py:193: FutureWarning: The default value of gamma will change from 'auto' to 'scale' in version 0.22 to account better for unscaled features. Set gamma explicitly to 'auto' or 'scale' to avoid this warning.\n",
      "  \"avoid this warning.\", FutureWarning)\n",
      "C:\\Users\\justi\\AppData\\Local\\Continuum\\anaconda3\\lib\\site-packages\\sklearn\\svm\\base.py:193: FutureWarning: The default value of gamma will change from 'auto' to 'scale' in version 0.22 to account better for unscaled features. Set gamma explicitly to 'auto' or 'scale' to avoid this warning.\n",
      "  \"avoid this warning.\", FutureWarning)\n",
      "C:\\Users\\justi\\AppData\\Local\\Continuum\\anaconda3\\lib\\site-packages\\sklearn\\svm\\base.py:193: FutureWarning: The default value of gamma will change from 'auto' to 'scale' in version 0.22 to account better for unscaled features. Set gamma explicitly to 'auto' or 'scale' to avoid this warning.\n",
      "  \"avoid this warning.\", FutureWarning)\n",
      "C:\\Users\\justi\\AppData\\Local\\Continuum\\anaconda3\\lib\\site-packages\\sklearn\\svm\\base.py:193: FutureWarning: The default value of gamma will change from 'auto' to 'scale' in version 0.22 to account better for unscaled features. Set gamma explicitly to 'auto' or 'scale' to avoid this warning.\n",
      "  \"avoid this warning.\", FutureWarning)\n",
      "C:\\Users\\justi\\AppData\\Local\\Continuum\\anaconda3\\lib\\site-packages\\sklearn\\svm\\base.py:193: FutureWarning: The default value of gamma will change from 'auto' to 'scale' in version 0.22 to account better for unscaled features. Set gamma explicitly to 'auto' or 'scale' to avoid this warning.\n",
      "  \"avoid this warning.\", FutureWarning)\n",
      "C:\\Users\\justi\\AppData\\Local\\Continuum\\anaconda3\\lib\\site-packages\\sklearn\\svm\\base.py:193: FutureWarning: The default value of gamma will change from 'auto' to 'scale' in version 0.22 to account better for unscaled features. Set gamma explicitly to 'auto' or 'scale' to avoid this warning.\n",
      "  \"avoid this warning.\", FutureWarning)\n",
      "C:\\Users\\justi\\AppData\\Local\\Continuum\\anaconda3\\lib\\site-packages\\sklearn\\svm\\base.py:193: FutureWarning: The default value of gamma will change from 'auto' to 'scale' in version 0.22 to account better for unscaled features. Set gamma explicitly to 'auto' or 'scale' to avoid this warning.\n",
      "  \"avoid this warning.\", FutureWarning)\n",
      "C:\\Users\\justi\\AppData\\Local\\Continuum\\anaconda3\\lib\\site-packages\\sklearn\\svm\\base.py:193: FutureWarning: The default value of gamma will change from 'auto' to 'scale' in version 0.22 to account better for unscaled features. Set gamma explicitly to 'auto' or 'scale' to avoid this warning.\n",
      "  \"avoid this warning.\", FutureWarning)\n",
      "C:\\Users\\justi\\AppData\\Local\\Continuum\\anaconda3\\lib\\site-packages\\sklearn\\svm\\base.py:193: FutureWarning: The default value of gamma will change from 'auto' to 'scale' in version 0.22 to account better for unscaled features. Set gamma explicitly to 'auto' or 'scale' to avoid this warning.\n",
      "  \"avoid this warning.\", FutureWarning)\n",
      "C:\\Users\\justi\\AppData\\Local\\Continuum\\anaconda3\\lib\\site-packages\\sklearn\\svm\\base.py:193: FutureWarning: The default value of gamma will change from 'auto' to 'scale' in version 0.22 to account better for unscaled features. Set gamma explicitly to 'auto' or 'scale' to avoid this warning.\n",
      "  \"avoid this warning.\", FutureWarning)\n",
      "C:\\Users\\justi\\AppData\\Local\\Continuum\\anaconda3\\lib\\site-packages\\sklearn\\svm\\base.py:193: FutureWarning: The default value of gamma will change from 'auto' to 'scale' in version 0.22 to account better for unscaled features. Set gamma explicitly to 'auto' or 'scale' to avoid this warning.\n",
      "  \"avoid this warning.\", FutureWarning)\n",
      "C:\\Users\\justi\\AppData\\Local\\Continuum\\anaconda3\\lib\\site-packages\\sklearn\\svm\\base.py:193: FutureWarning: The default value of gamma will change from 'auto' to 'scale' in version 0.22 to account better for unscaled features. Set gamma explicitly to 'auto' or 'scale' to avoid this warning.\n",
      "  \"avoid this warning.\", FutureWarning)\n",
      "C:\\Users\\justi\\AppData\\Local\\Continuum\\anaconda3\\lib\\site-packages\\sklearn\\svm\\base.py:193: FutureWarning: The default value of gamma will change from 'auto' to 'scale' in version 0.22 to account better for unscaled features. Set gamma explicitly to 'auto' or 'scale' to avoid this warning.\n",
      "  \"avoid this warning.\", FutureWarning)\n",
      "C:\\Users\\justi\\AppData\\Local\\Continuum\\anaconda3\\lib\\site-packages\\sklearn\\svm\\base.py:193: FutureWarning: The default value of gamma will change from 'auto' to 'scale' in version 0.22 to account better for unscaled features. Set gamma explicitly to 'auto' or 'scale' to avoid this warning.\n",
      "  \"avoid this warning.\", FutureWarning)\n",
      "C:\\Users\\justi\\AppData\\Local\\Continuum\\anaconda3\\lib\\site-packages\\sklearn\\svm\\base.py:193: FutureWarning: The default value of gamma will change from 'auto' to 'scale' in version 0.22 to account better for unscaled features. Set gamma explicitly to 'auto' or 'scale' to avoid this warning.\n",
      "  \"avoid this warning.\", FutureWarning)\n",
      "C:\\Users\\justi\\AppData\\Local\\Continuum\\anaconda3\\lib\\site-packages\\sklearn\\svm\\base.py:193: FutureWarning: The default value of gamma will change from 'auto' to 'scale' in version 0.22 to account better for unscaled features. Set gamma explicitly to 'auto' or 'scale' to avoid this warning.\n",
      "  \"avoid this warning.\", FutureWarning)\n",
      "C:\\Users\\justi\\AppData\\Local\\Continuum\\anaconda3\\lib\\site-packages\\sklearn\\svm\\base.py:193: FutureWarning: The default value of gamma will change from 'auto' to 'scale' in version 0.22 to account better for unscaled features. Set gamma explicitly to 'auto' or 'scale' to avoid this warning.\n",
      "  \"avoid this warning.\", FutureWarning)\n",
      "C:\\Users\\justi\\AppData\\Local\\Continuum\\anaconda3\\lib\\site-packages\\sklearn\\svm\\base.py:193: FutureWarning: The default value of gamma will change from 'auto' to 'scale' in version 0.22 to account better for unscaled features. Set gamma explicitly to 'auto' or 'scale' to avoid this warning.\n",
      "  \"avoid this warning.\", FutureWarning)\n",
      "C:\\Users\\justi\\AppData\\Local\\Continuum\\anaconda3\\lib\\site-packages\\sklearn\\svm\\base.py:193: FutureWarning: The default value of gamma will change from 'auto' to 'scale' in version 0.22 to account better for unscaled features. Set gamma explicitly to 'auto' or 'scale' to avoid this warning.\n",
      "  \"avoid this warning.\", FutureWarning)\n",
      "C:\\Users\\justi\\AppData\\Local\\Continuum\\anaconda3\\lib\\site-packages\\sklearn\\svm\\base.py:193: FutureWarning: The default value of gamma will change from 'auto' to 'scale' in version 0.22 to account better for unscaled features. Set gamma explicitly to 'auto' or 'scale' to avoid this warning.\n",
      "  \"avoid this warning.\", FutureWarning)\n",
      "C:\\Users\\justi\\AppData\\Local\\Continuum\\anaconda3\\lib\\site-packages\\sklearn\\svm\\base.py:193: FutureWarning: The default value of gamma will change from 'auto' to 'scale' in version 0.22 to account better for unscaled features. Set gamma explicitly to 'auto' or 'scale' to avoid this warning.\n",
      "  \"avoid this warning.\", FutureWarning)\n",
      "C:\\Users\\justi\\AppData\\Local\\Continuum\\anaconda3\\lib\\site-packages\\sklearn\\svm\\base.py:193: FutureWarning: The default value of gamma will change from 'auto' to 'scale' in version 0.22 to account better for unscaled features. Set gamma explicitly to 'auto' or 'scale' to avoid this warning.\n",
      "  \"avoid this warning.\", FutureWarning)\n"
     ]
    },
    {
     "name": "stderr",
     "output_type": "stream",
     "text": [
      "C:\\Users\\justi\\AppData\\Local\\Continuum\\anaconda3\\lib\\site-packages\\sklearn\\svm\\base.py:193: FutureWarning: The default value of gamma will change from 'auto' to 'scale' in version 0.22 to account better for unscaled features. Set gamma explicitly to 'auto' or 'scale' to avoid this warning.\n",
      "  \"avoid this warning.\", FutureWarning)\n",
      "C:\\Users\\justi\\AppData\\Local\\Continuum\\anaconda3\\lib\\site-packages\\sklearn\\svm\\base.py:193: FutureWarning: The default value of gamma will change from 'auto' to 'scale' in version 0.22 to account better for unscaled features. Set gamma explicitly to 'auto' or 'scale' to avoid this warning.\n",
      "  \"avoid this warning.\", FutureWarning)\n",
      "C:\\Users\\justi\\AppData\\Local\\Continuum\\anaconda3\\lib\\site-packages\\sklearn\\svm\\base.py:193: FutureWarning: The default value of gamma will change from 'auto' to 'scale' in version 0.22 to account better for unscaled features. Set gamma explicitly to 'auto' or 'scale' to avoid this warning.\n",
      "  \"avoid this warning.\", FutureWarning)\n",
      "C:\\Users\\justi\\AppData\\Local\\Continuum\\anaconda3\\lib\\site-packages\\sklearn\\svm\\base.py:193: FutureWarning: The default value of gamma will change from 'auto' to 'scale' in version 0.22 to account better for unscaled features. Set gamma explicitly to 'auto' or 'scale' to avoid this warning.\n",
      "  \"avoid this warning.\", FutureWarning)\n",
      "C:\\Users\\justi\\AppData\\Local\\Continuum\\anaconda3\\lib\\site-packages\\sklearn\\svm\\base.py:193: FutureWarning: The default value of gamma will change from 'auto' to 'scale' in version 0.22 to account better for unscaled features. Set gamma explicitly to 'auto' or 'scale' to avoid this warning.\n",
      "  \"avoid this warning.\", FutureWarning)\n",
      "C:\\Users\\justi\\AppData\\Local\\Continuum\\anaconda3\\lib\\site-packages\\sklearn\\svm\\base.py:193: FutureWarning: The default value of gamma will change from 'auto' to 'scale' in version 0.22 to account better for unscaled features. Set gamma explicitly to 'auto' or 'scale' to avoid this warning.\n",
      "  \"avoid this warning.\", FutureWarning)\n",
      "C:\\Users\\justi\\AppData\\Local\\Continuum\\anaconda3\\lib\\site-packages\\sklearn\\svm\\base.py:193: FutureWarning: The default value of gamma will change from 'auto' to 'scale' in version 0.22 to account better for unscaled features. Set gamma explicitly to 'auto' or 'scale' to avoid this warning.\n",
      "  \"avoid this warning.\", FutureWarning)\n",
      "C:\\Users\\justi\\AppData\\Local\\Continuum\\anaconda3\\lib\\site-packages\\sklearn\\svm\\base.py:193: FutureWarning: The default value of gamma will change from 'auto' to 'scale' in version 0.22 to account better for unscaled features. Set gamma explicitly to 'auto' or 'scale' to avoid this warning.\n",
      "  \"avoid this warning.\", FutureWarning)\n",
      "C:\\Users\\justi\\AppData\\Local\\Continuum\\anaconda3\\lib\\site-packages\\sklearn\\svm\\base.py:193: FutureWarning: The default value of gamma will change from 'auto' to 'scale' in version 0.22 to account better for unscaled features. Set gamma explicitly to 'auto' or 'scale' to avoid this warning.\n",
      "  \"avoid this warning.\", FutureWarning)\n",
      "C:\\Users\\justi\\AppData\\Local\\Continuum\\anaconda3\\lib\\site-packages\\sklearn\\svm\\base.py:193: FutureWarning: The default value of gamma will change from 'auto' to 'scale' in version 0.22 to account better for unscaled features. Set gamma explicitly to 'auto' or 'scale' to avoid this warning.\n",
      "  \"avoid this warning.\", FutureWarning)\n",
      "C:\\Users\\justi\\AppData\\Local\\Continuum\\anaconda3\\lib\\site-packages\\sklearn\\svm\\base.py:193: FutureWarning: The default value of gamma will change from 'auto' to 'scale' in version 0.22 to account better for unscaled features. Set gamma explicitly to 'auto' or 'scale' to avoid this warning.\n",
      "  \"avoid this warning.\", FutureWarning)\n",
      "C:\\Users\\justi\\AppData\\Local\\Continuum\\anaconda3\\lib\\site-packages\\sklearn\\svm\\base.py:193: FutureWarning: The default value of gamma will change from 'auto' to 'scale' in version 0.22 to account better for unscaled features. Set gamma explicitly to 'auto' or 'scale' to avoid this warning.\n",
      "  \"avoid this warning.\", FutureWarning)\n",
      "C:\\Users\\justi\\AppData\\Local\\Continuum\\anaconda3\\lib\\site-packages\\sklearn\\svm\\base.py:193: FutureWarning: The default value of gamma will change from 'auto' to 'scale' in version 0.22 to account better for unscaled features. Set gamma explicitly to 'auto' or 'scale' to avoid this warning.\n",
      "  \"avoid this warning.\", FutureWarning)\n",
      "C:\\Users\\justi\\AppData\\Local\\Continuum\\anaconda3\\lib\\site-packages\\sklearn\\svm\\base.py:193: FutureWarning: The default value of gamma will change from 'auto' to 'scale' in version 0.22 to account better for unscaled features. Set gamma explicitly to 'auto' or 'scale' to avoid this warning.\n",
      "  \"avoid this warning.\", FutureWarning)\n",
      "C:\\Users\\justi\\AppData\\Local\\Continuum\\anaconda3\\lib\\site-packages\\sklearn\\svm\\base.py:193: FutureWarning: The default value of gamma will change from 'auto' to 'scale' in version 0.22 to account better for unscaled features. Set gamma explicitly to 'auto' or 'scale' to avoid this warning.\n",
      "  \"avoid this warning.\", FutureWarning)\n",
      "C:\\Users\\justi\\AppData\\Local\\Continuum\\anaconda3\\lib\\site-packages\\sklearn\\svm\\base.py:193: FutureWarning: The default value of gamma will change from 'auto' to 'scale' in version 0.22 to account better for unscaled features. Set gamma explicitly to 'auto' or 'scale' to avoid this warning.\n",
      "  \"avoid this warning.\", FutureWarning)\n",
      "C:\\Users\\justi\\AppData\\Local\\Continuum\\anaconda3\\lib\\site-packages\\sklearn\\svm\\base.py:193: FutureWarning: The default value of gamma will change from 'auto' to 'scale' in version 0.22 to account better for unscaled features. Set gamma explicitly to 'auto' or 'scale' to avoid this warning.\n",
      "  \"avoid this warning.\", FutureWarning)\n",
      "C:\\Users\\justi\\AppData\\Local\\Continuum\\anaconda3\\lib\\site-packages\\sklearn\\svm\\base.py:193: FutureWarning: The default value of gamma will change from 'auto' to 'scale' in version 0.22 to account better for unscaled features. Set gamma explicitly to 'auto' or 'scale' to avoid this warning.\n",
      "  \"avoid this warning.\", FutureWarning)\n",
      "C:\\Users\\justi\\AppData\\Local\\Continuum\\anaconda3\\lib\\site-packages\\sklearn\\svm\\base.py:193: FutureWarning: The default value of gamma will change from 'auto' to 'scale' in version 0.22 to account better for unscaled features. Set gamma explicitly to 'auto' or 'scale' to avoid this warning.\n",
      "  \"avoid this warning.\", FutureWarning)\n",
      "C:\\Users\\justi\\AppData\\Local\\Continuum\\anaconda3\\lib\\site-packages\\sklearn\\svm\\base.py:193: FutureWarning: The default value of gamma will change from 'auto' to 'scale' in version 0.22 to account better for unscaled features. Set gamma explicitly to 'auto' or 'scale' to avoid this warning.\n",
      "  \"avoid this warning.\", FutureWarning)\n",
      "C:\\Users\\justi\\AppData\\Local\\Continuum\\anaconda3\\lib\\site-packages\\sklearn\\svm\\base.py:193: FutureWarning: The default value of gamma will change from 'auto' to 'scale' in version 0.22 to account better for unscaled features. Set gamma explicitly to 'auto' or 'scale' to avoid this warning.\n",
      "  \"avoid this warning.\", FutureWarning)\n",
      "C:\\Users\\justi\\AppData\\Local\\Continuum\\anaconda3\\lib\\site-packages\\sklearn\\svm\\base.py:193: FutureWarning: The default value of gamma will change from 'auto' to 'scale' in version 0.22 to account better for unscaled features. Set gamma explicitly to 'auto' or 'scale' to avoid this warning.\n",
      "  \"avoid this warning.\", FutureWarning)\n",
      "C:\\Users\\justi\\AppData\\Local\\Continuum\\anaconda3\\lib\\site-packages\\sklearn\\svm\\base.py:193: FutureWarning: The default value of gamma will change from 'auto' to 'scale' in version 0.22 to account better for unscaled features. Set gamma explicitly to 'auto' or 'scale' to avoid this warning.\n",
      "  \"avoid this warning.\", FutureWarning)\n",
      "C:\\Users\\justi\\AppData\\Local\\Continuum\\anaconda3\\lib\\site-packages\\sklearn\\svm\\base.py:193: FutureWarning: The default value of gamma will change from 'auto' to 'scale' in version 0.22 to account better for unscaled features. Set gamma explicitly to 'auto' or 'scale' to avoid this warning.\n",
      "  \"avoid this warning.\", FutureWarning)\n",
      "C:\\Users\\justi\\AppData\\Local\\Continuum\\anaconda3\\lib\\site-packages\\sklearn\\svm\\base.py:193: FutureWarning: The default value of gamma will change from 'auto' to 'scale' in version 0.22 to account better for unscaled features. Set gamma explicitly to 'auto' or 'scale' to avoid this warning.\n",
      "  \"avoid this warning.\", FutureWarning)\n"
     ]
    },
    {
     "name": "stderr",
     "output_type": "stream",
     "text": [
      "C:\\Users\\justi\\AppData\\Local\\Continuum\\anaconda3\\lib\\site-packages\\sklearn\\svm\\base.py:193: FutureWarning: The default value of gamma will change from 'auto' to 'scale' in version 0.22 to account better for unscaled features. Set gamma explicitly to 'auto' or 'scale' to avoid this warning.\n",
      "  \"avoid this warning.\", FutureWarning)\n",
      "C:\\Users\\justi\\AppData\\Local\\Continuum\\anaconda3\\lib\\site-packages\\sklearn\\svm\\base.py:193: FutureWarning: The default value of gamma will change from 'auto' to 'scale' in version 0.22 to account better for unscaled features. Set gamma explicitly to 'auto' or 'scale' to avoid this warning.\n",
      "  \"avoid this warning.\", FutureWarning)\n",
      "C:\\Users\\justi\\AppData\\Local\\Continuum\\anaconda3\\lib\\site-packages\\sklearn\\svm\\base.py:193: FutureWarning: The default value of gamma will change from 'auto' to 'scale' in version 0.22 to account better for unscaled features. Set gamma explicitly to 'auto' or 'scale' to avoid this warning.\n",
      "  \"avoid this warning.\", FutureWarning)\n",
      "C:\\Users\\justi\\AppData\\Local\\Continuum\\anaconda3\\lib\\site-packages\\sklearn\\svm\\base.py:193: FutureWarning: The default value of gamma will change from 'auto' to 'scale' in version 0.22 to account better for unscaled features. Set gamma explicitly to 'auto' or 'scale' to avoid this warning.\n",
      "  \"avoid this warning.\", FutureWarning)\n",
      "C:\\Users\\justi\\AppData\\Local\\Continuum\\anaconda3\\lib\\site-packages\\sklearn\\svm\\base.py:193: FutureWarning: The default value of gamma will change from 'auto' to 'scale' in version 0.22 to account better for unscaled features. Set gamma explicitly to 'auto' or 'scale' to avoid this warning.\n",
      "  \"avoid this warning.\", FutureWarning)\n",
      "C:\\Users\\justi\\AppData\\Local\\Continuum\\anaconda3\\lib\\site-packages\\sklearn\\svm\\base.py:193: FutureWarning: The default value of gamma will change from 'auto' to 'scale' in version 0.22 to account better for unscaled features. Set gamma explicitly to 'auto' or 'scale' to avoid this warning.\n",
      "  \"avoid this warning.\", FutureWarning)\n",
      "C:\\Users\\justi\\AppData\\Local\\Continuum\\anaconda3\\lib\\site-packages\\sklearn\\svm\\base.py:193: FutureWarning: The default value of gamma will change from 'auto' to 'scale' in version 0.22 to account better for unscaled features. Set gamma explicitly to 'auto' or 'scale' to avoid this warning.\n",
      "  \"avoid this warning.\", FutureWarning)\n",
      "C:\\Users\\justi\\AppData\\Local\\Continuum\\anaconda3\\lib\\site-packages\\sklearn\\svm\\base.py:193: FutureWarning: The default value of gamma will change from 'auto' to 'scale' in version 0.22 to account better for unscaled features. Set gamma explicitly to 'auto' or 'scale' to avoid this warning.\n",
      "  \"avoid this warning.\", FutureWarning)\n",
      "C:\\Users\\justi\\AppData\\Local\\Continuum\\anaconda3\\lib\\site-packages\\sklearn\\svm\\base.py:193: FutureWarning: The default value of gamma will change from 'auto' to 'scale' in version 0.22 to account better for unscaled features. Set gamma explicitly to 'auto' or 'scale' to avoid this warning.\n",
      "  \"avoid this warning.\", FutureWarning)\n",
      "C:\\Users\\justi\\AppData\\Local\\Continuum\\anaconda3\\lib\\site-packages\\sklearn\\svm\\base.py:193: FutureWarning: The default value of gamma will change from 'auto' to 'scale' in version 0.22 to account better for unscaled features. Set gamma explicitly to 'auto' or 'scale' to avoid this warning.\n",
      "  \"avoid this warning.\", FutureWarning)\n",
      "C:\\Users\\justi\\AppData\\Local\\Continuum\\anaconda3\\lib\\site-packages\\sklearn\\svm\\base.py:193: FutureWarning: The default value of gamma will change from 'auto' to 'scale' in version 0.22 to account better for unscaled features. Set gamma explicitly to 'auto' or 'scale' to avoid this warning.\n",
      "  \"avoid this warning.\", FutureWarning)\n",
      "C:\\Users\\justi\\AppData\\Local\\Continuum\\anaconda3\\lib\\site-packages\\sklearn\\svm\\base.py:193: FutureWarning: The default value of gamma will change from 'auto' to 'scale' in version 0.22 to account better for unscaled features. Set gamma explicitly to 'auto' or 'scale' to avoid this warning.\n",
      "  \"avoid this warning.\", FutureWarning)\n",
      "C:\\Users\\justi\\AppData\\Local\\Continuum\\anaconda3\\lib\\site-packages\\sklearn\\svm\\base.py:193: FutureWarning: The default value of gamma will change from 'auto' to 'scale' in version 0.22 to account better for unscaled features. Set gamma explicitly to 'auto' or 'scale' to avoid this warning.\n",
      "  \"avoid this warning.\", FutureWarning)\n",
      "C:\\Users\\justi\\AppData\\Local\\Continuum\\anaconda3\\lib\\site-packages\\sklearn\\svm\\base.py:193: FutureWarning: The default value of gamma will change from 'auto' to 'scale' in version 0.22 to account better for unscaled features. Set gamma explicitly to 'auto' or 'scale' to avoid this warning.\n",
      "  \"avoid this warning.\", FutureWarning)\n",
      "C:\\Users\\justi\\AppData\\Local\\Continuum\\anaconda3\\lib\\site-packages\\sklearn\\svm\\base.py:193: FutureWarning: The default value of gamma will change from 'auto' to 'scale' in version 0.22 to account better for unscaled features. Set gamma explicitly to 'auto' or 'scale' to avoid this warning.\n",
      "  \"avoid this warning.\", FutureWarning)\n",
      "C:\\Users\\justi\\AppData\\Local\\Continuum\\anaconda3\\lib\\site-packages\\sklearn\\svm\\base.py:193: FutureWarning: The default value of gamma will change from 'auto' to 'scale' in version 0.22 to account better for unscaled features. Set gamma explicitly to 'auto' or 'scale' to avoid this warning.\n",
      "  \"avoid this warning.\", FutureWarning)\n",
      "C:\\Users\\justi\\AppData\\Local\\Continuum\\anaconda3\\lib\\site-packages\\sklearn\\svm\\base.py:193: FutureWarning: The default value of gamma will change from 'auto' to 'scale' in version 0.22 to account better for unscaled features. Set gamma explicitly to 'auto' or 'scale' to avoid this warning.\n",
      "  \"avoid this warning.\", FutureWarning)\n",
      "C:\\Users\\justi\\AppData\\Local\\Continuum\\anaconda3\\lib\\site-packages\\sklearn\\svm\\base.py:193: FutureWarning: The default value of gamma will change from 'auto' to 'scale' in version 0.22 to account better for unscaled features. Set gamma explicitly to 'auto' or 'scale' to avoid this warning.\n",
      "  \"avoid this warning.\", FutureWarning)\n",
      "C:\\Users\\justi\\AppData\\Local\\Continuum\\anaconda3\\lib\\site-packages\\sklearn\\svm\\base.py:193: FutureWarning: The default value of gamma will change from 'auto' to 'scale' in version 0.22 to account better for unscaled features. Set gamma explicitly to 'auto' or 'scale' to avoid this warning.\n",
      "  \"avoid this warning.\", FutureWarning)\n",
      "C:\\Users\\justi\\AppData\\Local\\Continuum\\anaconda3\\lib\\site-packages\\sklearn\\svm\\base.py:193: FutureWarning: The default value of gamma will change from 'auto' to 'scale' in version 0.22 to account better for unscaled features. Set gamma explicitly to 'auto' or 'scale' to avoid this warning.\n",
      "  \"avoid this warning.\", FutureWarning)\n",
      "C:\\Users\\justi\\AppData\\Local\\Continuum\\anaconda3\\lib\\site-packages\\sklearn\\svm\\base.py:193: FutureWarning: The default value of gamma will change from 'auto' to 'scale' in version 0.22 to account better for unscaled features. Set gamma explicitly to 'auto' or 'scale' to avoid this warning.\n",
      "  \"avoid this warning.\", FutureWarning)\n",
      "C:\\Users\\justi\\AppData\\Local\\Continuum\\anaconda3\\lib\\site-packages\\sklearn\\svm\\base.py:193: FutureWarning: The default value of gamma will change from 'auto' to 'scale' in version 0.22 to account better for unscaled features. Set gamma explicitly to 'auto' or 'scale' to avoid this warning.\n",
      "  \"avoid this warning.\", FutureWarning)\n",
      "C:\\Users\\justi\\AppData\\Local\\Continuum\\anaconda3\\lib\\site-packages\\sklearn\\svm\\base.py:193: FutureWarning: The default value of gamma will change from 'auto' to 'scale' in version 0.22 to account better for unscaled features. Set gamma explicitly to 'auto' or 'scale' to avoid this warning.\n",
      "  \"avoid this warning.\", FutureWarning)\n",
      "C:\\Users\\justi\\AppData\\Local\\Continuum\\anaconda3\\lib\\site-packages\\sklearn\\svm\\base.py:193: FutureWarning: The default value of gamma will change from 'auto' to 'scale' in version 0.22 to account better for unscaled features. Set gamma explicitly to 'auto' or 'scale' to avoid this warning.\n",
      "  \"avoid this warning.\", FutureWarning)\n",
      "C:\\Users\\justi\\AppData\\Local\\Continuum\\anaconda3\\lib\\site-packages\\sklearn\\svm\\base.py:193: FutureWarning: The default value of gamma will change from 'auto' to 'scale' in version 0.22 to account better for unscaled features. Set gamma explicitly to 'auto' or 'scale' to avoid this warning.\n",
      "  \"avoid this warning.\", FutureWarning)\n"
     ]
    },
    {
     "name": "stderr",
     "output_type": "stream",
     "text": [
      "C:\\Users\\justi\\AppData\\Local\\Continuum\\anaconda3\\lib\\site-packages\\sklearn\\svm\\base.py:193: FutureWarning: The default value of gamma will change from 'auto' to 'scale' in version 0.22 to account better for unscaled features. Set gamma explicitly to 'auto' or 'scale' to avoid this warning.\n",
      "  \"avoid this warning.\", FutureWarning)\n",
      "C:\\Users\\justi\\AppData\\Local\\Continuum\\anaconda3\\lib\\site-packages\\sklearn\\svm\\base.py:193: FutureWarning: The default value of gamma will change from 'auto' to 'scale' in version 0.22 to account better for unscaled features. Set gamma explicitly to 'auto' or 'scale' to avoid this warning.\n",
      "  \"avoid this warning.\", FutureWarning)\n",
      "C:\\Users\\justi\\AppData\\Local\\Continuum\\anaconda3\\lib\\site-packages\\sklearn\\svm\\base.py:193: FutureWarning: The default value of gamma will change from 'auto' to 'scale' in version 0.22 to account better for unscaled features. Set gamma explicitly to 'auto' or 'scale' to avoid this warning.\n",
      "  \"avoid this warning.\", FutureWarning)\n",
      "C:\\Users\\justi\\AppData\\Local\\Continuum\\anaconda3\\lib\\site-packages\\sklearn\\svm\\base.py:193: FutureWarning: The default value of gamma will change from 'auto' to 'scale' in version 0.22 to account better for unscaled features. Set gamma explicitly to 'auto' or 'scale' to avoid this warning.\n",
      "  \"avoid this warning.\", FutureWarning)\n",
      "C:\\Users\\justi\\AppData\\Local\\Continuum\\anaconda3\\lib\\site-packages\\sklearn\\svm\\base.py:193: FutureWarning: The default value of gamma will change from 'auto' to 'scale' in version 0.22 to account better for unscaled features. Set gamma explicitly to 'auto' or 'scale' to avoid this warning.\n",
      "  \"avoid this warning.\", FutureWarning)\n",
      "C:\\Users\\justi\\AppData\\Local\\Continuum\\anaconda3\\lib\\site-packages\\sklearn\\svm\\base.py:193: FutureWarning: The default value of gamma will change from 'auto' to 'scale' in version 0.22 to account better for unscaled features. Set gamma explicitly to 'auto' or 'scale' to avoid this warning.\n",
      "  \"avoid this warning.\", FutureWarning)\n",
      "C:\\Users\\justi\\AppData\\Local\\Continuum\\anaconda3\\lib\\site-packages\\sklearn\\svm\\base.py:193: FutureWarning: The default value of gamma will change from 'auto' to 'scale' in version 0.22 to account better for unscaled features. Set gamma explicitly to 'auto' or 'scale' to avoid this warning.\n",
      "  \"avoid this warning.\", FutureWarning)\n",
      "C:\\Users\\justi\\AppData\\Local\\Continuum\\anaconda3\\lib\\site-packages\\sklearn\\svm\\base.py:193: FutureWarning: The default value of gamma will change from 'auto' to 'scale' in version 0.22 to account better for unscaled features. Set gamma explicitly to 'auto' or 'scale' to avoid this warning.\n",
      "  \"avoid this warning.\", FutureWarning)\n",
      "C:\\Users\\justi\\AppData\\Local\\Continuum\\anaconda3\\lib\\site-packages\\sklearn\\svm\\base.py:193: FutureWarning: The default value of gamma will change from 'auto' to 'scale' in version 0.22 to account better for unscaled features. Set gamma explicitly to 'auto' or 'scale' to avoid this warning.\n",
      "  \"avoid this warning.\", FutureWarning)\n",
      "C:\\Users\\justi\\AppData\\Local\\Continuum\\anaconda3\\lib\\site-packages\\sklearn\\svm\\base.py:193: FutureWarning: The default value of gamma will change from 'auto' to 'scale' in version 0.22 to account better for unscaled features. Set gamma explicitly to 'auto' or 'scale' to avoid this warning.\n",
      "  \"avoid this warning.\", FutureWarning)\n",
      "C:\\Users\\justi\\AppData\\Local\\Continuum\\anaconda3\\lib\\site-packages\\sklearn\\svm\\base.py:193: FutureWarning: The default value of gamma will change from 'auto' to 'scale' in version 0.22 to account better for unscaled features. Set gamma explicitly to 'auto' or 'scale' to avoid this warning.\n",
      "  \"avoid this warning.\", FutureWarning)\n",
      "C:\\Users\\justi\\AppData\\Local\\Continuum\\anaconda3\\lib\\site-packages\\sklearn\\svm\\base.py:193: FutureWarning: The default value of gamma will change from 'auto' to 'scale' in version 0.22 to account better for unscaled features. Set gamma explicitly to 'auto' or 'scale' to avoid this warning.\n",
      "  \"avoid this warning.\", FutureWarning)\n",
      "C:\\Users\\justi\\AppData\\Local\\Continuum\\anaconda3\\lib\\site-packages\\sklearn\\svm\\base.py:193: FutureWarning: The default value of gamma will change from 'auto' to 'scale' in version 0.22 to account better for unscaled features. Set gamma explicitly to 'auto' or 'scale' to avoid this warning.\n",
      "  \"avoid this warning.\", FutureWarning)\n",
      "C:\\Users\\justi\\AppData\\Local\\Continuum\\anaconda3\\lib\\site-packages\\sklearn\\svm\\base.py:193: FutureWarning: The default value of gamma will change from 'auto' to 'scale' in version 0.22 to account better for unscaled features. Set gamma explicitly to 'auto' or 'scale' to avoid this warning.\n",
      "  \"avoid this warning.\", FutureWarning)\n",
      "C:\\Users\\justi\\AppData\\Local\\Continuum\\anaconda3\\lib\\site-packages\\sklearn\\svm\\base.py:193: FutureWarning: The default value of gamma will change from 'auto' to 'scale' in version 0.22 to account better for unscaled features. Set gamma explicitly to 'auto' or 'scale' to avoid this warning.\n",
      "  \"avoid this warning.\", FutureWarning)\n",
      "C:\\Users\\justi\\AppData\\Local\\Continuum\\anaconda3\\lib\\site-packages\\sklearn\\svm\\base.py:193: FutureWarning: The default value of gamma will change from 'auto' to 'scale' in version 0.22 to account better for unscaled features. Set gamma explicitly to 'auto' or 'scale' to avoid this warning.\n",
      "  \"avoid this warning.\", FutureWarning)\n",
      "C:\\Users\\justi\\AppData\\Local\\Continuum\\anaconda3\\lib\\site-packages\\sklearn\\svm\\base.py:193: FutureWarning: The default value of gamma will change from 'auto' to 'scale' in version 0.22 to account better for unscaled features. Set gamma explicitly to 'auto' or 'scale' to avoid this warning.\n",
      "  \"avoid this warning.\", FutureWarning)\n",
      "C:\\Users\\justi\\AppData\\Local\\Continuum\\anaconda3\\lib\\site-packages\\sklearn\\svm\\base.py:193: FutureWarning: The default value of gamma will change from 'auto' to 'scale' in version 0.22 to account better for unscaled features. Set gamma explicitly to 'auto' or 'scale' to avoid this warning.\n",
      "  \"avoid this warning.\", FutureWarning)\n",
      "C:\\Users\\justi\\AppData\\Local\\Continuum\\anaconda3\\lib\\site-packages\\sklearn\\svm\\base.py:193: FutureWarning: The default value of gamma will change from 'auto' to 'scale' in version 0.22 to account better for unscaled features. Set gamma explicitly to 'auto' or 'scale' to avoid this warning.\n",
      "  \"avoid this warning.\", FutureWarning)\n",
      "C:\\Users\\justi\\AppData\\Local\\Continuum\\anaconda3\\lib\\site-packages\\sklearn\\svm\\base.py:193: FutureWarning: The default value of gamma will change from 'auto' to 'scale' in version 0.22 to account better for unscaled features. Set gamma explicitly to 'auto' or 'scale' to avoid this warning.\n",
      "  \"avoid this warning.\", FutureWarning)\n",
      "C:\\Users\\justi\\AppData\\Local\\Continuum\\anaconda3\\lib\\site-packages\\sklearn\\svm\\base.py:193: FutureWarning: The default value of gamma will change from 'auto' to 'scale' in version 0.22 to account better for unscaled features. Set gamma explicitly to 'auto' or 'scale' to avoid this warning.\n",
      "  \"avoid this warning.\", FutureWarning)\n",
      "C:\\Users\\justi\\AppData\\Local\\Continuum\\anaconda3\\lib\\site-packages\\sklearn\\svm\\base.py:193: FutureWarning: The default value of gamma will change from 'auto' to 'scale' in version 0.22 to account better for unscaled features. Set gamma explicitly to 'auto' or 'scale' to avoid this warning.\n",
      "  \"avoid this warning.\", FutureWarning)\n",
      "C:\\Users\\justi\\AppData\\Local\\Continuum\\anaconda3\\lib\\site-packages\\sklearn\\svm\\base.py:193: FutureWarning: The default value of gamma will change from 'auto' to 'scale' in version 0.22 to account better for unscaled features. Set gamma explicitly to 'auto' or 'scale' to avoid this warning.\n",
      "  \"avoid this warning.\", FutureWarning)\n",
      "C:\\Users\\justi\\AppData\\Local\\Continuum\\anaconda3\\lib\\site-packages\\sklearn\\svm\\base.py:193: FutureWarning: The default value of gamma will change from 'auto' to 'scale' in version 0.22 to account better for unscaled features. Set gamma explicitly to 'auto' or 'scale' to avoid this warning.\n",
      "  \"avoid this warning.\", FutureWarning)\n",
      "C:\\Users\\justi\\AppData\\Local\\Continuum\\anaconda3\\lib\\site-packages\\sklearn\\svm\\base.py:193: FutureWarning: The default value of gamma will change from 'auto' to 'scale' in version 0.22 to account better for unscaled features. Set gamma explicitly to 'auto' or 'scale' to avoid this warning.\n",
      "  \"avoid this warning.\", FutureWarning)\n"
     ]
    },
    {
     "name": "stderr",
     "output_type": "stream",
     "text": [
      "C:\\Users\\justi\\AppData\\Local\\Continuum\\anaconda3\\lib\\site-packages\\sklearn\\svm\\base.py:193: FutureWarning: The default value of gamma will change from 'auto' to 'scale' in version 0.22 to account better for unscaled features. Set gamma explicitly to 'auto' or 'scale' to avoid this warning.\n",
      "  \"avoid this warning.\", FutureWarning)\n",
      "C:\\Users\\justi\\AppData\\Local\\Continuum\\anaconda3\\lib\\site-packages\\sklearn\\svm\\base.py:193: FutureWarning: The default value of gamma will change from 'auto' to 'scale' in version 0.22 to account better for unscaled features. Set gamma explicitly to 'auto' or 'scale' to avoid this warning.\n",
      "  \"avoid this warning.\", FutureWarning)\n",
      "C:\\Users\\justi\\AppData\\Local\\Continuum\\anaconda3\\lib\\site-packages\\sklearn\\svm\\base.py:193: FutureWarning: The default value of gamma will change from 'auto' to 'scale' in version 0.22 to account better for unscaled features. Set gamma explicitly to 'auto' or 'scale' to avoid this warning.\n",
      "  \"avoid this warning.\", FutureWarning)\n",
      "C:\\Users\\justi\\AppData\\Local\\Continuum\\anaconda3\\lib\\site-packages\\sklearn\\svm\\base.py:193: FutureWarning: The default value of gamma will change from 'auto' to 'scale' in version 0.22 to account better for unscaled features. Set gamma explicitly to 'auto' or 'scale' to avoid this warning.\n",
      "  \"avoid this warning.\", FutureWarning)\n",
      "C:\\Users\\justi\\AppData\\Local\\Continuum\\anaconda3\\lib\\site-packages\\sklearn\\svm\\base.py:193: FutureWarning: The default value of gamma will change from 'auto' to 'scale' in version 0.22 to account better for unscaled features. Set gamma explicitly to 'auto' or 'scale' to avoid this warning.\n",
      "  \"avoid this warning.\", FutureWarning)\n",
      "C:\\Users\\justi\\AppData\\Local\\Continuum\\anaconda3\\lib\\site-packages\\sklearn\\svm\\base.py:193: FutureWarning: The default value of gamma will change from 'auto' to 'scale' in version 0.22 to account better for unscaled features. Set gamma explicitly to 'auto' or 'scale' to avoid this warning.\n",
      "  \"avoid this warning.\", FutureWarning)\n",
      "C:\\Users\\justi\\AppData\\Local\\Continuum\\anaconda3\\lib\\site-packages\\sklearn\\svm\\base.py:193: FutureWarning: The default value of gamma will change from 'auto' to 'scale' in version 0.22 to account better for unscaled features. Set gamma explicitly to 'auto' or 'scale' to avoid this warning.\n",
      "  \"avoid this warning.\", FutureWarning)\n",
      "C:\\Users\\justi\\AppData\\Local\\Continuum\\anaconda3\\lib\\site-packages\\sklearn\\svm\\base.py:193: FutureWarning: The default value of gamma will change from 'auto' to 'scale' in version 0.22 to account better for unscaled features. Set gamma explicitly to 'auto' or 'scale' to avoid this warning.\n",
      "  \"avoid this warning.\", FutureWarning)\n",
      "C:\\Users\\justi\\AppData\\Local\\Continuum\\anaconda3\\lib\\site-packages\\sklearn\\svm\\base.py:193: FutureWarning: The default value of gamma will change from 'auto' to 'scale' in version 0.22 to account better for unscaled features. Set gamma explicitly to 'auto' or 'scale' to avoid this warning.\n",
      "  \"avoid this warning.\", FutureWarning)\n",
      "C:\\Users\\justi\\AppData\\Local\\Continuum\\anaconda3\\lib\\site-packages\\sklearn\\svm\\base.py:193: FutureWarning: The default value of gamma will change from 'auto' to 'scale' in version 0.22 to account better for unscaled features. Set gamma explicitly to 'auto' or 'scale' to avoid this warning.\n",
      "  \"avoid this warning.\", FutureWarning)\n",
      "C:\\Users\\justi\\AppData\\Local\\Continuum\\anaconda3\\lib\\site-packages\\sklearn\\svm\\base.py:193: FutureWarning: The default value of gamma will change from 'auto' to 'scale' in version 0.22 to account better for unscaled features. Set gamma explicitly to 'auto' or 'scale' to avoid this warning.\n",
      "  \"avoid this warning.\", FutureWarning)\n",
      "C:\\Users\\justi\\AppData\\Local\\Continuum\\anaconda3\\lib\\site-packages\\sklearn\\svm\\base.py:193: FutureWarning: The default value of gamma will change from 'auto' to 'scale' in version 0.22 to account better for unscaled features. Set gamma explicitly to 'auto' or 'scale' to avoid this warning.\n",
      "  \"avoid this warning.\", FutureWarning)\n",
      "C:\\Users\\justi\\AppData\\Local\\Continuum\\anaconda3\\lib\\site-packages\\sklearn\\svm\\base.py:193: FutureWarning: The default value of gamma will change from 'auto' to 'scale' in version 0.22 to account better for unscaled features. Set gamma explicitly to 'auto' or 'scale' to avoid this warning.\n",
      "  \"avoid this warning.\", FutureWarning)\n",
      "C:\\Users\\justi\\AppData\\Local\\Continuum\\anaconda3\\lib\\site-packages\\sklearn\\svm\\base.py:193: FutureWarning: The default value of gamma will change from 'auto' to 'scale' in version 0.22 to account better for unscaled features. Set gamma explicitly to 'auto' or 'scale' to avoid this warning.\n",
      "  \"avoid this warning.\", FutureWarning)\n",
      "C:\\Users\\justi\\AppData\\Local\\Continuum\\anaconda3\\lib\\site-packages\\sklearn\\svm\\base.py:193: FutureWarning: The default value of gamma will change from 'auto' to 'scale' in version 0.22 to account better for unscaled features. Set gamma explicitly to 'auto' or 'scale' to avoid this warning.\n",
      "  \"avoid this warning.\", FutureWarning)\n",
      "C:\\Users\\justi\\AppData\\Local\\Continuum\\anaconda3\\lib\\site-packages\\sklearn\\svm\\base.py:193: FutureWarning: The default value of gamma will change from 'auto' to 'scale' in version 0.22 to account better for unscaled features. Set gamma explicitly to 'auto' or 'scale' to avoid this warning.\n",
      "  \"avoid this warning.\", FutureWarning)\n",
      "C:\\Users\\justi\\AppData\\Local\\Continuum\\anaconda3\\lib\\site-packages\\sklearn\\svm\\base.py:193: FutureWarning: The default value of gamma will change from 'auto' to 'scale' in version 0.22 to account better for unscaled features. Set gamma explicitly to 'auto' or 'scale' to avoid this warning.\n",
      "  \"avoid this warning.\", FutureWarning)\n",
      "C:\\Users\\justi\\AppData\\Local\\Continuum\\anaconda3\\lib\\site-packages\\sklearn\\svm\\base.py:193: FutureWarning: The default value of gamma will change from 'auto' to 'scale' in version 0.22 to account better for unscaled features. Set gamma explicitly to 'auto' or 'scale' to avoid this warning.\n",
      "  \"avoid this warning.\", FutureWarning)\n",
      "C:\\Users\\justi\\AppData\\Local\\Continuum\\anaconda3\\lib\\site-packages\\sklearn\\svm\\base.py:193: FutureWarning: The default value of gamma will change from 'auto' to 'scale' in version 0.22 to account better for unscaled features. Set gamma explicitly to 'auto' or 'scale' to avoid this warning.\n",
      "  \"avoid this warning.\", FutureWarning)\n",
      "C:\\Users\\justi\\AppData\\Local\\Continuum\\anaconda3\\lib\\site-packages\\sklearn\\svm\\base.py:193: FutureWarning: The default value of gamma will change from 'auto' to 'scale' in version 0.22 to account better for unscaled features. Set gamma explicitly to 'auto' or 'scale' to avoid this warning.\n",
      "  \"avoid this warning.\", FutureWarning)\n",
      "C:\\Users\\justi\\AppData\\Local\\Continuum\\anaconda3\\lib\\site-packages\\sklearn\\svm\\base.py:193: FutureWarning: The default value of gamma will change from 'auto' to 'scale' in version 0.22 to account better for unscaled features. Set gamma explicitly to 'auto' or 'scale' to avoid this warning.\n",
      "  \"avoid this warning.\", FutureWarning)\n",
      "C:\\Users\\justi\\AppData\\Local\\Continuum\\anaconda3\\lib\\site-packages\\sklearn\\svm\\base.py:193: FutureWarning: The default value of gamma will change from 'auto' to 'scale' in version 0.22 to account better for unscaled features. Set gamma explicitly to 'auto' or 'scale' to avoid this warning.\n",
      "  \"avoid this warning.\", FutureWarning)\n",
      "C:\\Users\\justi\\AppData\\Local\\Continuum\\anaconda3\\lib\\site-packages\\sklearn\\svm\\base.py:193: FutureWarning: The default value of gamma will change from 'auto' to 'scale' in version 0.22 to account better for unscaled features. Set gamma explicitly to 'auto' or 'scale' to avoid this warning.\n",
      "  \"avoid this warning.\", FutureWarning)\n",
      "C:\\Users\\justi\\AppData\\Local\\Continuum\\anaconda3\\lib\\site-packages\\sklearn\\svm\\base.py:193: FutureWarning: The default value of gamma will change from 'auto' to 'scale' in version 0.22 to account better for unscaled features. Set gamma explicitly to 'auto' or 'scale' to avoid this warning.\n",
      "  \"avoid this warning.\", FutureWarning)\n",
      "C:\\Users\\justi\\AppData\\Local\\Continuum\\anaconda3\\lib\\site-packages\\sklearn\\svm\\base.py:193: FutureWarning: The default value of gamma will change from 'auto' to 'scale' in version 0.22 to account better for unscaled features. Set gamma explicitly to 'auto' or 'scale' to avoid this warning.\n",
      "  \"avoid this warning.\", FutureWarning)\n"
     ]
    },
    {
     "data": {
      "text/plain": [
       "GridSearchCV(cv=5, error_score='raise-deprecating',\n",
       "             estimator=SVC(C=1.0, cache_size=200, class_weight=None, coef0=0.0,\n",
       "                           decision_function_shape='ovr', degree=3,\n",
       "                           gamma='auto_deprecated', kernel='rbf', max_iter=-1,\n",
       "                           probability=False, random_state=None, shrinking=True,\n",
       "                           tol=0.001, verbose=False),\n",
       "             iid='warn', n_jobs=None,\n",
       "             param_grid=[{'C': [0.1, 1, 10, 100, 1000], 'coef0': [1, 10, 100],\n",
       "                          'degree': [2, 3, 4, 5], 'kernel': ['poly']},\n",
       "                         {'C': [0.1, 1, 10, 100, 1000],\n",
       "                          'gamma': ['auto', 'scale', 1, 5],\n",
       "                          'kernel': ['rbf']}],\n",
       "             pre_dispatch='2*n_jobs', refit=True, return_train_score=True,\n",
       "             scoring='accuracy', verbose=0)"
      ]
     },
     "execution_count": 40,
     "metadata": {},
     "output_type": "execute_result"
    }
   ],
   "source": [
    "grid_search.fit(Train_X_Tfidf, Train_Y)"
   ]
  },
  {
   "cell_type": "code",
   "execution_count": 41,
   "metadata": {},
   "outputs": [
    {
     "data": {
      "text/plain": [
       "SVC(C=1, cache_size=200, class_weight=None, coef0=0.0,\n",
       "    decision_function_shape='ovr', degree=3, gamma=1, kernel='rbf', max_iter=-1,\n",
       "    probability=False, random_state=None, shrinking=True, tol=0.001,\n",
       "    verbose=False)"
      ]
     },
     "execution_count": 41,
     "metadata": {},
     "output_type": "execute_result"
    }
   ],
   "source": [
    "grid_search.best_estimator_"
   ]
  },
  {
   "cell_type": "code",
   "execution_count": 42,
   "metadata": {},
   "outputs": [
    {
     "name": "stdout",
     "output_type": "stream",
     "text": [
      "100\n",
      "SVM Accuracy Score ->  84.95\n",
      "confusion matrix [[890 147]\n",
      " [154 809]]\n",
      "precision 0.8462343096234309\n",
      "recall 0.8400830737279336\n",
      "f1 0.8431474726420011\n"
     ]
    }
   ],
   "source": [
    "SVM=grid_search.best_estimator_\n",
    "SVM.fit(Train_X_Tfidf,Train_Y)\n",
    "predictions_SVM = SVM.predict(Test_X_Tfidf)\n",
    "print(\"SVM Accuracy Score -> \",accuracy_score(predictions_SVM, Test_Y)*100)\n",
    "print(\"confusion matrix\", confusion_matrix(Test_Y, predictions_SVM))\n",
    "print(\"precision\",precision_score(Test_Y, predictions_SVM))\n",
    "print(\"recall\",recall_score(Test_Y, predictions_SVM))\n",
    "print(\"f1\", f1_score(Test_Y, predictions_SVM))"
   ]
  },
  {
   "cell_type": "markdown",
   "metadata": {},
   "source": [
    "## The best SVM predictor utilizes a C of 0.5 and a linear kernel"
   ]
  }
 ],
 "metadata": {
  "kernelspec": {
   "display_name": "Python 3",
   "language": "python",
   "name": "python3"
  },
  "language_info": {
   "codemirror_mode": {
    "name": "ipython",
    "version": 3
   },
   "file_extension": ".py",
   "mimetype": "text/x-python",
   "name": "python",
   "nbconvert_exporter": "python",
   "pygments_lexer": "ipython3",
   "version": "3.7.3"
  },
  "toc": {
   "base_numbering": 1,
   "nav_menu": {},
   "number_sections": true,
   "sideBar": true,
   "skip_h1_title": false,
   "title_cell": "Table of Contents",
   "title_sidebar": "Contents",
   "toc_cell": false,
   "toc_position": {},
   "toc_section_display": true,
   "toc_window_display": false
  },
  "varInspector": {
   "cols": {
    "lenName": 16,
    "lenType": 16,
    "lenVar": 40
   },
   "kernels_config": {
    "python": {
     "delete_cmd_postfix": "",
     "delete_cmd_prefix": "del ",
     "library": "var_list.py",
     "varRefreshCmd": "print(var_dic_list())"
    },
    "r": {
     "delete_cmd_postfix": ") ",
     "delete_cmd_prefix": "rm(",
     "library": "var_list.r",
     "varRefreshCmd": "cat(var_dic_list()) "
    }
   },
   "types_to_exclude": [
    "module",
    "function",
    "builtin_function_or_method",
    "instance",
    "_Feature"
   ],
   "window_display": false
  }
 },
 "nbformat": 4,
 "nbformat_minor": 2
}
